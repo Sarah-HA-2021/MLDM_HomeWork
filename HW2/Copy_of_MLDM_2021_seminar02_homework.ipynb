{
  "nbformat": 4,
  "nbformat_minor": 0,
  "metadata": {
    "colab": {
      "name": "Copy of MLDM-2021-seminar02-homework.ipynb",
      "provenance": [],
      "collapsed_sections": []
    },
    "kernelspec": {
      "display_name": "Python 3",
      "language": "python",
      "name": "python3"
    },
    "language_info": {
      "codemirror_mode": {
        "name": "ipython",
        "version": 3
      },
      "file_extension": ".py",
      "mimetype": "text/x-python",
      "name": "python",
      "nbconvert_exporter": "python",
      "pygments_lexer": "ipython3",
      "version": "3.8.5"
    }
  },
  "cells": [
    {
      "cell_type": "markdown",
      "metadata": {
        "id": "Cpl5bT9ZFo-8"
      },
      "source": [
        "#### Linear Regression and Logistic Regression assigments are stacked, so the deadline for this homework is 10.10.21"
      ]
    },
    {
      "cell_type": "code",
      "metadata": {
        "id": "OoRenk6WqY4R"
      },
      "source": [
        "import numpy as np\n",
        "import matplotlib.pyplot as plt"
      ],
      "execution_count": null,
      "outputs": []
    },
    {
      "cell_type": "markdown",
      "metadata": {
        "id": "s8renktssa3B"
      },
      "source": [
        "## Task 1 (3 points)"
      ]
    },
    {
      "cell_type": "markdown",
      "metadata": {
        "id": "CT2JoHS6qwO3"
      },
      "source": [
        "Consider the following toy dataset:"
      ]
    },
    {
      "cell_type": "code",
      "metadata": {
        "id": "Iw0VSmXsqjt9",
        "colab": {
          "base_uri": "https://localhost:8080/",
          "height": 265
        },
        "outputId": "c1011475-f135-40bd-fff3-fafadee2dcff"
      },
      "source": [
        "true_function = lambda x: 3.25 * x - 1.47\n",
        "noize_function = lambda x: (\n",
        "    np.random.normal(size=len(x)) * 4. +\n",
        "    np.where(\n",
        "        x < 15,\n",
        "        0.,\n",
        "        -60 + np.random.normal(size=len(x)) * 10\n",
        "    ) * (np.random.uniform(size=len(x)) < 0.4).astype(int)\n",
        ")\n",
        "limits = (-4., 20.)\n",
        "\n",
        "def generate_dataset(N=300):\n",
        "  x = np.random.uniform(*limits, size=N)\n",
        "  y = true_function(x) + noize_function(x)\n",
        "\n",
        "  return x[:,None], y\n",
        "\n",
        "X, y = generate_dataset()\n",
        "\n",
        "x = np.linspace(*limits, 101)\n",
        "plt.plot(x, true_function(x), c='black', label='True dependence')\n",
        "plt.scatter(X, y, s=10, label='Data with noise and outliers')\n",
        "plt.legend();"
      ],
      "execution_count": null,
      "outputs": [
        {
          "output_type": "display_data",
          "data": {
            "image/png": "[encoded data removed]",
            "text/plain": [
              "<Figure size 432x288 with 1 Axes>"
            ]
          },
          "metadata": {
            "needs_background": "light"
          }
        }
      ]
    },
    {
      "cell_type": "markdown",
      "metadata": {
        "id": "Hb2ZSiiiscQy"
      },
      "source": [
        "Implement a linear model $\\hat y(x|w) = w_1\\cdot x + w_0$ with MAE loss:\n",
        "$$\\text{MAE}(w) = \\frac{1}{N}\\sum_{i=1}^N\\left|y_i - \\hat y(x_i|w)\\right|,$$\n",
        "using gradient descent optimization in `numpy`.\n",
        "\n",
        "*Hint: introduce a constant feature to account for the bias term to make the formulas simpler.*\n",
        "\n",
        "Plot the learning curve and the final fit. Also, fit the same data with `sklearn`'s `LinearRegression`, and compare the two fits on the same plot. What do you observe? Write a short comment."
      ]
    },
    {
      "cell_type": "code",
      "metadata": {
        "id": "qn3zX3mnCFBS"
      },
      "source": [
        "# Initialize the model parameters with zeros\n",
        "w = np.zeros(dtype=float, shape=X_expanded.shape[1])\n",
        "\n",
        "loss_values = [] # a list to keep track of how the loss value changes\n",
        "learning_rate = 0.1\n",
        "\n",
        "# Training loop\n",
        "for _ in trange(1000):\n",
        "  # Your turn: calculate the gradient of MSE with respect to w:\n",
        "  gradient = <YOUR CODE>\n",
        "\n",
        "  # Automatic checks\n",
        "  assert gradient.shape == w.shape\n",
        "  assert (\n",
        "      ((X_expanded @ w - y)**2).mean() > \n",
        "      ((X_expanded @ (w - 1.e-6 * gradient) - y)**2).mean()\n",
        "  )\n",
        "\n",
        "  # Gradient descent step\n",
        "  w -= learning_rate * gradient\n",
        "\n",
        "  # Calculate and record the new loss value\n",
        "  loss_values.append(\n",
        "      ((X_expanded @ w - y)**2).mean()\n",
        "  )\n",
        "\n",
        "# Plotting the evolution of loss values\n",
        "plt.plot(loss_values);\n",
        "plt.show()\n",
        "\n",
        "\n",
        "# Plotting the solution\n",
        "x = np.linspace(-1, 1, 101)\n",
        "x_expanded = np.concatenate([\n",
        "    poly_expand.transform(x[:,None]),\n",
        "    np.ones(shape=(len(x), 1))\n",
        "], axis=1)\n",
        "plt.plot(x, true_function(x), label='true function')\n",
        "plt.scatter(X, y);\n",
        "plt.plot(x,\n",
        "         x_expanded @ w, label='prediction')\n",
        "plt.ylim(y.min() - 0.5, y.max() + 0.5)\n",
        "plt.legend();"
      ],
      "execution_count": null,
      "outputs": []
    },
    {
      "cell_type": "code",
      "metadata": {
        "id": "XW9SDs4r_lWR"
      },
      "source": [
        "# intialization \n",
        "w1=w0=1\n",
        "search_function = lambda x: w1 * x + w0\n",
        "\n",
        "y_pred=[]\n",
        "y_true=[1]\n",
        "sum = 0 \n",
        "for i in range (0, len (y_pred)):\n",
        "  sum = sum+ abs(y_true(i)-y_pred(i))\n",
        "\n",
        "MAE= sum/len(y_true)\n"
      ],
      "execution_count": null,
      "outputs": []
    },
    {
      "cell_type": "code",
      "metadata": {
        "id": "8dUH95L7sETn",
        "colab": {
          "base_uri": "https://localhost:8080/",
          "height": 281
        },
        "outputId": "21e38fa1-c138-4cd0-9f29-9bb5113c9e3d"
      },
      "source": [
        "true_function = lambda x: 3.25 * x - 1.47\n",
        "noize_function = lambda x: (\n",
        "    np.random.normal(size=len(x)) * 4. +\n",
        "    np.where(\n",
        "        x < 15,\n",
        "        0.,\n",
        "        -60 + np.random.normal(size=len(x)) * 10\n",
        "    ) * (np.random.uniform(size=len(x)) < 0.4).astype(int)\n",
        ")\n",
        "limits = (-4., 20.)\n",
        "\n",
        "def generate_dataset(N=300):\n",
        "  x = np.random.uniform(*limits, size=N)\n",
        "  y = true_function(x) + noize_function(x)\n",
        "\n",
        "  return x[:,None], y\n",
        "\n",
        "X, y = generate_dataset()\n",
        "\n",
        "\n",
        "\n",
        "# Linear regression skelearn\n",
        "# linear regression with the MSE loss\n",
        "from sklearn.linear_model import LinearRegression\n",
        "model = LinearRegression()\n",
        "model.fit(X, y)\n",
        "\n",
        "\n",
        "x = np.linspace(*limits, 101)\n",
        "plt.plot(x, true_function(x), c='black', label='True dependence',linewidth='3')\n",
        "plt.scatter(X, y, s=10, label='Data with noise and outliers')\n",
        "plt.plot(x, model.predict(x[:,None]), label='prediction', c='red',linewidth=3)\n",
        "plt.legend()\n",
        "\n",
        "print(model.coef_, model.intercept_)"
      ],
      "execution_count": null,
      "outputs": [
        {
          "output_type": "stream",
          "name": "stdout",
          "text": [
            "[2.26896431] 1.7049927620104235\n"
          ]
        },
        {
          "output_type": "display_data",
          "data": {
            "image/png": "[encoded data removed]",
            "text/plain": [
              "<Figure size 432x288 with 1 Axes>"
            ]
          },
          "metadata": {
            "needs_background": "light"
          }
        }
      ]
    },
    {
      "cell_type": "markdown",
      "metadata": {
        "id": "jsk47s-JzFMY"
      },
      "source": [
        "## Task 2 (2 points + 1 bonus point + 1 super-bonus point)"
      ]
    },
    {
      "cell_type": "markdown",
      "metadata": {
        "id": "_72sYvZSzO4B"
      },
      "source": [
        "(Titanic data again)\n",
        "\n",
        "Build a model with `sklearn`'s `LogisticRegression` to get the accuracy of at least 0.80 (0.82 for the bonus point, 0.85 for the super-bonus point) on the test set.\n",
        "\n",
        "Some (optional) suggestions:\n",
        "- Add new features (e.g. missing value indicator columns)\n",
        "- Fill missing values\n",
        "- Encode categorical features (e.g. one-hot encoding)\n",
        "- Scale the features (e.g. with standard or robust scaler)\n",
        "- Think of other ways of preprocessing the features (e.g. `Fare` $\\to$ `log(Fare)`)\n",
        "- Try adding polynomial features\n",
        "\n"
      ]
    },
    {
      "cell_type": "code",
      "metadata": {
        "id": "4CWHxPY62I-D",
        "colab": {
          "base_uri": "https://localhost:8080/"
        },
        "outputId": "5812d397-1aee-4c2f-fd3b-449e85acb2c1"
      },
      "source": [
        "!wget https://raw.githubusercontent.com/HSE-LAMBDA/MLDM-2021/main/01-intro/train.csv"
      ],
      "execution_count": null,
      "outputs": [
        {
          "output_type": "stream",
          "name": "stdout",
          "text": [
            "--2021-10-24 20:58:24--  https://raw.githubusercontent.com/HSE-LAMBDA/MLDM-2021/main/01-intro/train.csv\n",
            "Resolving raw.githubusercontent.com (raw.githubusercontent.com)... 185.199.108.133, 185.199.109.133, 185.199.110.133, ...\n",
            "Connecting to raw.githubusercontent.com (raw.githubusercontent.com)|185.199.108.133|:443... connected.\n",
            "HTTP request sent, awaiting response... 200 OK\n",
            "Length: 60302 (59K) [text/plain]\n",
            "Saving to: ‘train.csv’\n",
            "\n",
            "train.csv           100%[===================>]  58.89K  --.-KB/s    in 0.01s   \n",
            "\n",
            "2021-10-24 20:58:24 (4.87 MB/s) - ‘train.csv’ saved [60302/60302]\n",
            "\n"
          ]
        }
      ]
    },
    {
      "cell_type": "code",
      "metadata": {
        "id": "G36oVo3RJXVc",
        "colab": {
          "base_uri": "https://localhost:8080/",
          "height": 230
        },
        "outputId": "3cbce4e0-705a-4e2f-e932-c85b919afced"
      },
      "source": [
        "import pandas as pd\n",
        "data = pd.read_csv(\"train.csv\", index_col='PassengerId')\n",
        "data.head()"
      ],
      "execution_count": null,
      "outputs": [
        {
          "output_type": "execute_result",
          "data": {
            "text/html": [
              "<div>\n",
              "<style scoped>\n",
              "    .dataframe tbody tr th:only-of-type {\n",
              "        vertical-align: middle;\n",
              "    }\n",
              "\n",
              "    .dataframe tbody tr th {\n",
              "        vertical-align: top;\n",
              "    }\n",
              "\n",
              "    .dataframe thead th {\n",
              "        text-align: right;\n",
              "    }\n",
              "</style>\n",
              "<table border=\"1\" class=\"dataframe\">\n",
              "  <thead>\n",
              "    <tr style=\"text-align: right;\">\n",
              "      <th></th>\n",
              "      <th>Survived</th>\n",
              "      <th>Pclass</th>\n",
              "      <th>Name</th>\n",
              "      <th>Sex</th>\n",
              "      <th>Age</th>\n",
              "      <th>SibSp</th>\n",
              "      <th>Parch</th>\n",
              "      <th>Ticket</th>\n",
              "      <th>Fare</th>\n",
              "      <th>Cabin</th>\n",
              "      <th>Embarked</th>\n",
              "    </tr>\n",
              "    <tr>\n",
              "      <th>PassengerId</th>\n",
              "      <th></th>\n",
              "      <th></th>\n",
              "      <th></th>\n",
              "      <th></th>\n",
              "      <th></th>\n",
              "      <th></th>\n",
              "      <th></th>\n",
              "      <th></th>\n",
              "      <th></th>\n",
              "      <th></th>\n",
              "      <th></th>\n",
              "    </tr>\n",
              "  </thead>\n",
              "  <tbody>\n",
              "    <tr>\n",
              "      <th>1</th>\n",
              "      <td>0</td>\n",
              "      <td>3</td>\n",
              "      <td>Braund, Mr. Owen Harris</td>\n",
              "      <td>male</td>\n",
              "      <td>22.0</td>\n",
              "      <td>1</td>\n",
              "      <td>0</td>\n",
              "      <td>A/5 21171</td>\n",
              "      <td>7.2500</td>\n",
              "      <td>NaN</td>\n",
              "      <td>S</td>\n",
              "    </tr>\n",
              "    <tr>\n",
              "      <th>2</th>\n",
              "      <td>1</td>\n",
              "      <td>1</td>\n",
              "      <td>Cumings, Mrs. John Bradley (Florence Briggs Th...</td>\n",
              "      <td>female</td>\n",
              "      <td>38.0</td>\n",
              "      <td>1</td>\n",
              "      <td>0</td>\n",
              "      <td>PC 17599</td>\n",
              "      <td>71.2833</td>\n",
              "      <td>C85</td>\n",
              "      <td>C</td>\n",
              "    </tr>\n",
              "    <tr>\n",
              "      <th>3</th>\n",
              "      <td>1</td>\n",
              "      <td>3</td>\n",
              "      <td>Heikkinen, Miss. Laina</td>\n",
              "      <td>female</td>\n",
              "      <td>26.0</td>\n",
              "      <td>0</td>\n",
              "      <td>0</td>\n",
              "      <td>STON/O2. 3101282</td>\n",
              "      <td>7.9250</td>\n",
              "      <td>NaN</td>\n",
              "      <td>S</td>\n",
              "    </tr>\n",
              "    <tr>\n",
              "      <th>4</th>\n",
              "      <td>1</td>\n",
              "      <td>1</td>\n",
              "      <td>Futrelle, Mrs. Jacques Heath (Lily May Peel)</td>\n",
              "      <td>female</td>\n",
              "      <td>35.0</td>\n",
              "      <td>1</td>\n",
              "      <td>0</td>\n",
              "      <td>113803</td>\n",
              "      <td>53.1000</td>\n",
              "      <td>C123</td>\n",
              "      <td>S</td>\n",
              "    </tr>\n",
              "    <tr>\n",
              "      <th>5</th>\n",
              "      <td>0</td>\n",
              "      <td>3</td>\n",
              "      <td>Allen, Mr. William Henry</td>\n",
              "      <td>male</td>\n",
              "      <td>35.0</td>\n",
              "      <td>0</td>\n",
              "      <td>0</td>\n",
              "      <td>373450</td>\n",
              "      <td>8.0500</td>\n",
              "      <td>NaN</td>\n",
              "      <td>S</td>\n",
              "    </tr>\n",
              "  </tbody>\n",
              "</table>\n",
              "</div>"
            ],
            "text/plain": [
              "             Survived  Pclass  ... Cabin Embarked\n",
              "PassengerId                    ...               \n",
              "1                   0       3  ...   NaN        S\n",
              "2                   1       1  ...   C85        C\n",
              "3                   1       3  ...   NaN        S\n",
              "4                   1       1  ...  C123        S\n",
              "5                   0       3  ...   NaN        S\n",
              "\n",
              "[5 rows x 11 columns]"
            ]
          },
          "metadata": {},
          "execution_count": 122
        }
      ]
    },
    {
      "cell_type": "markdown",
      "metadata": {
        "id": "EDHw3sHgJXVj"
      },
      "source": [
        "#### About the data\n",
        "Here's some of the columns\n",
        "* Name - a string with person's full name\n",
        "* Survived - 1 if a person survived the shipwreck, 0 otherwise.\n",
        "* Pclass - passenger class. Pclass == 3 is cheap'n'cheerful, Pclass == 1 is for moneybags.\n",
        "* Sex - a person's gender\n",
        "* Age - age in years, if available\n",
        "* SibSp - number of siblings on a ship\n",
        "* Parch - number of parents on a ship\n",
        "* Fare - ticket cost\n",
        "* Embarked - port where the passenger embarked\n",
        " * C = Cherbourg; Q = Queenstown; S = Southampton"
      ]
    },
    {
      "cell_type": "code",
      "metadata": {
        "colab": {
          "base_uri": "https://localhost:8080/"
        },
        "id": "H5Qd7MoNrOq9",
        "outputId": "1a2cf651-091f-4c8c-ddd7-b88f87b1153e"
      },
      "source": [
        "len(data)"
      ],
      "execution_count": null,
      "outputs": [
        {
          "output_type": "execute_result",
          "data": {
            "text/plain": [
              "891"
            ]
          },
          "metadata": {},
          "execution_count": 160
        }
      ]
    },
    {
      "cell_type": "code",
      "metadata": {
        "colab": {
          "base_uri": "https://localhost:8080/"
        },
        "id": "zfY8wdKelDPw",
        "outputId": "33de78fd-152d-451c-87ba-56b5f1acca66"
      },
      "source": [
        "data['Cabin'].value_counts()"
      ],
      "execution_count": null,
      "outputs": [
        {
          "output_type": "execute_result",
          "data": {
            "text/plain": [
              "C23 C25 C27    4\n",
              "G6             4\n",
              "B96 B98        4\n",
              "F33            3\n",
              "E101           3\n",
              "              ..\n",
              "C85            1\n",
              "B94            1\n",
              "A5             1\n",
              "C148           1\n",
              "C32            1\n",
              "Name: Cabin, Length: 147, dtype: int64"
            ]
          },
          "metadata": {},
          "execution_count": 158
        }
      ]
    },
    {
      "cell_type": "code",
      "metadata": {
        "colab": {
          "base_uri": "https://localhost:8080/"
        },
        "id": "6-e6MxMxrE0e",
        "outputId": "35b39cf2-07fd-4df3-8795-1d893fce6f4c"
      },
      "source": [
        "data['Ticket'].value_counts()"
      ],
      "execution_count": null,
      "outputs": [
        {
          "output_type": "execute_result",
          "data": {
            "text/plain": [
              "CA. 2343             7\n",
              "1601                 7\n",
              "347082               7\n",
              "CA 2144              6\n",
              "347088               6\n",
              "                    ..\n",
              "234818               1\n",
              "4579                 1\n",
              "2667                 1\n",
              "PC 17612             1\n",
              "STON/O 2. 3101285    1\n",
              "Name: Ticket, Length: 681, dtype: int64"
            ]
          },
          "metadata": {},
          "execution_count": 159
        }
      ]
    },
    {
      "cell_type": "code",
      "metadata": {
        "id": "xhb45c3NzHAU",
        "colab": {
          "base_uri": "https://localhost:8080/"
        },
        "outputId": "4e694369-00a7-4808-ef74-a50b2b8d7e29"
      },
      "source": [
        "from sklearn.linear_model import LogisticRegression\n",
        "from sklearn.pipeline import make_pipeline\n",
        "from sklearn.compose import make_column_transformer\n",
        "from sklearn.preprocessing import StandardScaler, RobustScaler, PolynomialFeatures, OneHotEncoder, OrdinalEncoder,MinMaxScaler\n",
        "from sklearn.metrics import accuracy_score\n",
        "from sklearn.model_selection import train_test_split\n",
        "\n",
        "def feature_selection_and_preprocessing(dataset):\n",
        "  # <YOUR CODE>\n",
        "  # E.g.:\n",
        "  features = dataset[[ \"SibSp\", \"Parch\",\"Sex\",\"Pclass\"]].copy()  # we included the sex in the features\n",
        "                                                                 # we included passengers' class features\n",
        "  features[\"Age\"] = dataset.Age.fillna(dataset.Age.mean()) # we filled null ages with the mean age\n",
        "  features[\"Fare\"] = dataset.Age.fillna(dataset.Fare.median()) # we filled null Fares with the median fare\n",
        "  #features[\"Fare\"] = np.log10(features[\"Fare\"])\n",
        "  features[\"Cabin\"] = dataset.Cabin.fillna('unknown') # we filled null cabins with the unkonwn value\n",
        "  features['Embarked'] = data.Embarked.fillna('unknown') #we filled null Fares with the unkown value\n",
        "\n",
        "  return features\n",
        "\n",
        "model = make_pipeline(\n",
        "    # <YOUR CODE>\n",
        "    # E.g.\n",
        "    make_column_transformer(\n",
        "       (OneHotEncoder(sparse=False), ['Embarked']),\n",
        "      # (OneHotEncoder(sparse=False,handle_unknown = 'ignore'), ['Ticket']),\n",
        "       (MinMaxScaler(), ['Age']), # Min Max scaling for Age\n",
        "       (MinMaxScaler(), ['Fare']), # Min Max scaling for fare\n",
        "       (OneHotEncoder(sparse=False,handle_unknown = 'ignore'), ['Cabin']), # One hot encoding for cabin ,when  unknown category is encountered during transform, the resulting one-hot encoded columns for this feature will be all zeros.\n",
        "       (OrdinalEncoder(), ['Pclass']), # ordinal encoding for Pclass\n",
        "       (OneHotEncoder(sparse=False), ['Sex']), #  one hot encoding for sex\n",
        "        #remainder='passthrough'\n",
        "    ),\n",
        "    LogisticRegression()\n",
        ")\n",
        "\n",
        "\n",
        "# Validation code (do not touch)\n",
        "data = pd.read_csv(\"train.csv\", index_col='PassengerId')\n",
        "data_train, data_test = train_test_split(data, test_size=200, random_state=42)\n",
        "\n",
        "model.fit(\n",
        "    feature_selection_and_preprocessing(\n",
        "        data_train.drop('Survived', axis=1)\n",
        "    ),\n",
        "    data_train['Survived']\n",
        ")\n",
        "\n",
        "train_predictions = model.predict(\n",
        "    feature_selection_and_preprocessing(\n",
        "        data_train.drop('Survived', axis=1)\n",
        "    )\n",
        ")\n",
        "\n",
        "test_predictions = model.predict(\n",
        "    feature_selection_and_preprocessing(\n",
        "        data_test.drop('Survived', axis=1)\n",
        "    )\n",
        ")\n",
        "\n",
        "print(\"Train accuracy:\", accuracy_score(\n",
        "    data_train['Survived'],\n",
        "    train_predictions\n",
        "))\n",
        "print(\"Test accuracy:\", accuracy_score(\n",
        "    data_test['Survived'],\n",
        "    test_predictions\n",
        "))"
      ],
      "execution_count": null,
      "outputs": [
        {
          "output_type": "stream",
          "name": "stdout",
          "text": [
            "Train accuracy: 0.8306801736613604\n",
            "Test accuracy: 0.815\n"
          ]
        }
      ]
    }
  ]
}