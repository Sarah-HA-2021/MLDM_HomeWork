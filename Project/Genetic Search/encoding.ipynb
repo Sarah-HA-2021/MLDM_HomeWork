{
  "nbformat": 4,
  "nbformat_minor": 0,
  "metadata": {
    "colab": {
      "name": "Copy of generating_classifiers.ipynb",
      "provenance": [],
      "collapsed_sections": []
    },
    "kernelspec": {
      "name": "python3",
      "display_name": "Python 3"
    },
    "language_info": {
      "name": "python"
    }
  },
  "cells": [
    {
      "cell_type": "code",
      "execution_count": 13,
      "metadata": {
        "colab": {
          "base_uri": "https://localhost:8080/"
        },
        "id": "Qs2cyTh3Eg-9",
        "outputId": "9c0ef959-b437-4e4c-8991-6dba9f780b26"
      },
      "outputs": [
        {
          "output_type": "stream",
          "name": "stdout",
          "text": [
            "Requirement already satisfied: numpy in /usr/local/lib/python3.7/dist-packages (1.21.5)\n",
            "Requirement already satisfied: python-javabridge in /usr/local/lib/python3.7/dist-packages (4.0.3)\n",
            "Requirement already satisfied: numpy>=1.20.1 in /usr/local/lib/python3.7/dist-packages (from python-javabridge) (1.21.5)\n",
            "Requirement already satisfied: python-weka-wrapper3 in /usr/local/lib/python3.7/dist-packages (0.2.5)\n",
            "Requirement already satisfied: numpy in /usr/local/lib/python3.7/dist-packages (from python-weka-wrapper3) (1.21.5)\n",
            "Requirement already satisfied: python-javabridge>=4.0.0 in /usr/local/lib/python3.7/dist-packages (from python-weka-wrapper3) (4.0.3)\n",
            "Requirement already satisfied: packaging in /usr/local/lib/python3.7/dist-packages (from python-weka-wrapper3) (21.3)\n",
            "Requirement already satisfied: pyparsing!=3.0.5,>=2.0.2 in /usr/local/lib/python3.7/dist-packages (from packaging->python-weka-wrapper3) (3.0.6)\n"
          ]
        }
      ],
      "source": [
        "!pip install numpy\n",
        "!pip install python-javabridge\n",
        "!pip install python-weka-wrapper3"
      ]
    },
    {
      "cell_type": "markdown",
      "source": [
        "### Now we will install datasets and check their matching with their descriptions in the paper"
      ],
      "metadata": {
        "id": "IZtKfWCu0d0q"
      }
    },
    {
      "cell_type": "code",
      "source": [
        "# check the correctness of datasets \n",
        "\n",
        "def check_correctness(file, attributes,instances,classes):\n",
        "  from scipy.io import arff\n",
        "  import pandas as pd\n",
        "  import numpy\n",
        "  data = arff.loadarff(file)\n",
        "  df = pd.DataFrame(data[0])\n",
        "  print('instances: ',df.shape[0])\n",
        "  print('attributes: ',df.shape[1]-1)\n",
        "  print('classes: ',(len(set(df.iloc[:,df.shape[1]-1]))))\n",
        "  assert df.shape[0]==instances,\"instances number does not match\"\n",
        "  assert df.shape[1]==attributes+1,\"attributes number does not match\"\n",
        "  assert(len(set(df.iloc[:,df.shape[1]-1])))==classes,\"number of classes does not match\""
      ],
      "metadata": {
        "id": "bWv8qziv0oIL"
      },
      "execution_count": 30,
      "outputs": []
    },
    {
      "cell_type": "code",
      "source": [
        "# glass dataset \n",
        "!wget https://storm.cis.fordham.edu/~gweiss/data-mining/weka-data/glass.arff\n",
        "check_correctness('glass.arff',9,214,6)"
      ],
      "metadata": {
        "colab": {
          "base_uri": "https://localhost:8080/"
        },
        "id": "lkhE67m00xmZ",
        "outputId": "b5516dd3-fd7a-4a92-80cd-b8e16bb15093"
      },
      "execution_count": 31,
      "outputs": [
        {
          "output_type": "stream",
          "name": "stdout",
          "text": [
            "--2021-12-24 03:46:35--  https://storm.cis.fordham.edu/~gweiss/data-mining/weka-data/glass.arff\n",
            "Resolving storm.cis.fordham.edu (storm.cis.fordham.edu)... 150.108.68.26\n",
            "Connecting to storm.cis.fordham.edu (storm.cis.fordham.edu)|150.108.68.26|:443... connected.\n",
            "HTTP request sent, awaiting response... 200 OK\n",
            "Length: 17823 (17K) [text/plain]\n",
            "Saving to: ‘glass.arff.25’\n",
            "\n",
            "glass.arff.25       100%[===================>]  17.41K  92.9KB/s    in 0.2s    \n",
            "\n",
            "2021-12-24 03:46:37 (92.9 KB/s) - ‘glass.arff.25’ saved [17823/17823]\n",
            "\n",
            "instances:  214\n",
            "attributes:  9\n",
            "classes:  6\n"
          ]
        }
      ]
    },
    {
      "cell_type": "code",
      "source": [
        "# diabetes dataset\n",
        "!wget https://storm.cis.fordham.edu/~gweiss/data-mining/weka-data/diabetes.arff \n",
        "check_correctness('diabetes.arff',8,768,2)"
      ],
      "metadata": {
        "colab": {
          "base_uri": "https://localhost:8080/"
        },
        "id": "5zpNW6ol9pjZ",
        "outputId": "79e8dcb3-72d3-4ca4-f0a9-2813d6a50f67"
      },
      "execution_count": null,
      "outputs": [
        {
          "output_type": "stream",
          "name": "stdout",
          "text": [
            "--2021-12-23 21:51:44--  https://storm.cis.fordham.edu/~gweiss/data-mining/weka-data/diabetes.arff\n",
            "Resolving storm.cis.fordham.edu (storm.cis.fordham.edu)... 150.108.68.26\n",
            "Connecting to storm.cis.fordham.edu (storm.cis.fordham.edu)|150.108.68.26|:443... connected.\n",
            "HTTP request sent, awaiting response... 200 OK\n",
            "Length: 37419 (37K) [text/plain]\n",
            "Saving to: ‘diabetes.arff.9’\n",
            "\n",
            "diabetes.arff.9     100%[===================>]  36.54K   194KB/s    in 0.2s    \n",
            "\n",
            "2021-12-23 21:51:45 (194 KB/s) - ‘diabetes.arff.9’ saved [37419/37419]\n",
            "\n",
            "instances:  768\n",
            "attributes:  8\n",
            "classes:  2\n"
          ]
        }
      ]
    },
    {
      "cell_type": "markdown",
      "source": [
        "### Starting JVM"
      ],
      "metadata": {
        "id": "7GH8t6uaOnOQ"
      }
    },
    {
      "cell_type": "code",
      "source": [
        "# start JVM\n",
        "import weka.core.jvm as jvm\n",
        "\n",
        "jvm.start(packages=True)"
      ],
      "metadata": {
        "colab": {
          "base_uri": "https://localhost:8080/"
        },
        "id": "vlLpkYWfOqxB",
        "outputId": "53b7a701-8957-433b-c158-9c2352508511"
      },
      "execution_count": null,
      "outputs": [
        {
          "output_type": "stream",
          "name": "stderr",
          "text": [
            "DEBUG:weka.core.jvm:Adding bundled jars\n",
            "DEBUG:weka.core.jvm:Classpath=['/usr/local/lib/python3.7/dist-packages/javabridge/jars/rhino-1.7R4.jar', '/usr/local/lib/python3.7/dist-packages/javabridge/jars/runnablequeue.jar', '/usr/local/lib/python3.7/dist-packages/javabridge/jars/cpython.jar', '/usr/local/lib/python3.7/dist-packages/weka/lib/weka.jar', '/usr/local/lib/python3.7/dist-packages/weka/lib/python-weka-wrapper.jar']\n",
            "DEBUG:weka.core.jvm:MaxHeapSize=default\n",
            "DEBUG:weka.core.jvm:Package support enabled\n"
          ]
        }
      ]
    },
    {
      "cell_type": "code",
      "source": [
        "jvm.stop()"
      ],
      "metadata": {
        "id": "vyBAFgoNXqeI"
      },
      "execution_count": 32,
      "outputs": []
    },
    {
      "cell_type": "code",
      "source": [
        "import weka.core.packages as packages\n",
        "#packages.refresh_cache()  # uncomment this to query for updates\n",
        "packages.install_package(\"hyperPipes\")"
      ],
      "metadata": {
        "colab": {
          "base_uri": "https://localhost:8080/"
        },
        "id": "bV-hybxOnLB-",
        "outputId": "5128f02a-7001-46d9-95e3-d16e568d6dc5"
      },
      "execution_count": 16,
      "outputs": [
        {
          "output_type": "execute_result",
          "data": {
            "text/plain": [
              "True"
            ]
          },
          "metadata": {},
          "execution_count": 16
        }
      ]
    },
    {
      "cell_type": "markdown",
      "source": [
        "### installing needed packages"
      ],
      "metadata": {
        "id": "8R8Pg4OZLPte"
      }
    },
    {
      "cell_type": "code",
      "source": [
        "import sys\n",
        "import weka.core.jvm as jvm\n",
        "import weka.core.packages as packages\n",
        "from weka.core.classes import complete_classname\n",
        "\n",
        "#jvm.start(packages=True)\n",
        "\n",
        "pkg = \"NNge\"\n",
        "\n",
        "# install package if necessary\n",
        "if not packages.is_installed(pkg):\n",
        "    print(\"Installing %s...\" % pkg)\n",
        "    packages.install_package(pkg)\n",
        "    print(\"Installed %s, please re-run script!\" % pkg)\n",
        "    jvm.stop()\n",
        "    sys.exit(0)\n",
        "\n",
        "# testing classname completion\n",
        "print(complete_classname(\".J48\"))\n",
        "#print(complete_classname(\".rules.NNge\"))"
      ],
      "metadata": {
        "colab": {
          "base_uri": "https://localhost:8080/"
        },
        "id": "wbY0wX6eLZTs",
        "outputId": "e3b11359-4a60-4efc-dab7-06d0745d2d86"
      },
      "execution_count": null,
      "outputs": [
        {
          "output_type": "stream",
          "name": "stdout",
          "text": [
            "weka.classifiers.trees.J48\n"
          ]
        }
      ]
    },
    {
      "cell_type": "code",
      "source": [
        "import sys\n",
        "import weka.core.jvm as jvm\n",
        "import weka.core.packages as packages\n",
        "from weka.core.classes import complete_classname\n",
        "\n",
        "#jvm.start(packages=True)\n",
        "\n",
        "pkg = \"votingFeatureIntervals\"\n",
        "\n",
        "# install package if necessary\n",
        "if not packages.is_installed(pkg):\n",
        "    print(\"Installing %s...\" % pkg)\n",
        "    packages.install_package(pkg)\n",
        "    print(\"Installed %s, please re-run script!\" % pkg)\n",
        "    jvm.stop()\n",
        "    sys.exit(0)\n",
        "\n",
        "# testing classname completion\n",
        "print(complete_classname(\".J48\"))\n",
        "print(complete_classname(\".VFI\"))"
      ],
      "metadata": {
        "colab": {
          "base_uri": "https://localhost:8080/"
        },
        "id": "K0CVNqd3NjWI",
        "outputId": "a5356b97-9e82-4f40-f662-f97e382fb3c3"
      },
      "execution_count": null,
      "outputs": [
        {
          "output_type": "stream",
          "name": "stdout",
          "text": [
            "weka.classifiers.trees.J48\n",
            "weka.classifiers.misc.VFI\n"
          ]
        }
      ]
    },
    {
      "cell_type": "code",
      "source": [
        "import sys\n",
        "import weka.core.jvm as jvm\n",
        "import weka.core.packages as packages\n",
        "from weka.core.classes import complete_classname\n",
        "\n",
        "#jvm.start(packages=True)\n",
        "\n",
        "pkg = \"conjunctiveRule\"\n",
        "\n",
        "# install package if necessary\n",
        "if not packages.is_installed(pkg):\n",
        "    print(\"Installing %s...\" % pkg)\n",
        "    packages.install_package(pkg)\n",
        "    print(\"Installed %s, please re-run script!\" % pkg)\n",
        "    jvm.stop()\n",
        "    sys.exit(0)\n",
        "\n",
        "# testing classname completion\n",
        "print(complete_classname(\".J48\"))\n",
        "print(complete_classname(\".ConjunctiveRule\"))"
      ],
      "metadata": {
        "colab": {
          "base_uri": "https://localhost:8080/"
        },
        "id": "NgPOUb6TQWI0",
        "outputId": "144f2be7-77f6-4933-e7fa-af16073ec6d3"
      },
      "execution_count": null,
      "outputs": [
        {
          "output_type": "stream",
          "name": "stdout",
          "text": [
            "weka.classifiers.trees.J48\n",
            "weka.classifiers.rules.ConjunctiveRule\n"
          ]
        }
      ]
    },
    {
      "cell_type": "code",
      "source": [
        "import sys\n",
        "import weka.core.jvm as jvm\n",
        "import weka.core.packages as packages\n",
        "from weka.core.classes import complete_classname\n",
        "\n",
        "#jvm.start(packages=True)\n",
        "\n",
        "pkg = \"hyperPipes\"\n",
        "\n",
        "# install package if necessary\n",
        "if not packages.is_installed(pkg):\n",
        "    print(\"Installing %s...\" % pkg)\n",
        "    packages.install_package(pkg)\n",
        "    print(\"Installed %s, please re-run script!\" % pkg)\n",
        "    jvm.stop()\n",
        "    sys.exit(0)\n",
        "\n",
        "# testing classname completion\n",
        "print(complete_classname(\".J48\"))\n",
        "print(complete_classname(\".HyperPipes\"))\n"
      ],
      "metadata": {
        "colab": {
          "base_uri": "https://localhost:8080/"
        },
        "id": "LmBj0hm35mjG",
        "outputId": "0fc74645-1ead-4e11-aa1e-d4467ae2cb57"
      },
      "execution_count": null,
      "outputs": [
        {
          "output_type": "stream",
          "name": "stdout",
          "text": [
            "weka.classifiers.trees.J48\n",
            "weka.classifiers.misc.HyperPipes\n"
          ]
        }
      ]
    },
    {
      "cell_type": "code",
      "source": [
        "# stop JVM\n",
        "#jvm.stop()"
      ],
      "metadata": {
        "id": "2stxM8QEFgSW"
      },
      "execution_count": null,
      "outputs": []
    },
    {
      "cell_type": "markdown",
      "source": [
        "# Load Data"
      ],
      "metadata": {
        "id": "biGVFB16GF-l"
      }
    },
    {
      "cell_type": "code",
      "source": [
        "import weka.core.converters as converters\n",
        "data = converters.load_any_file(\"glass.arff\")\n",
        "data.class_is_last()\n",
        "\n",
        "subset = data.subset(row_range='1-3') # print the first rows from the data\n",
        "print(subset)"
      ],
      "metadata": {
        "colab": {
          "base_uri": "https://localhost:8080/"
        },
        "id": "D0lfNRk21SWH",
        "outputId": "5c1996a4-e82e-4f1a-aa8c-eb28279761cb"
      },
      "execution_count": 17,
      "outputs": [
        {
          "output_type": "stream",
          "name": "stdout",
          "text": [
            "@relation 'Glass-weka.filters.unsupervised.instance.RemoveRange-V-R1-3-weka.filters.MultiFilter-Fweka.filters.unsupervised.instance.RemoveRange -V -R 1-3'\n",
            "\n",
            "@attribute RI numeric\n",
            "@attribute Na numeric\n",
            "@attribute Mg numeric\n",
            "@attribute Al numeric\n",
            "@attribute Si numeric\n",
            "@attribute K numeric\n",
            "@attribute Ca numeric\n",
            "@attribute Ba numeric\n",
            "@attribute Fe numeric\n",
            "@attribute Type {'build wind float','build wind non-float','vehic wind float','vehic wind non-float',containers,tableware,headlamps}\n",
            "\n",
            "@data\n",
            "1.51793,12.79,3.5,1.12,73.03,0.64,8.77,0,0,'build wind float'\n",
            "1.51643,12.16,3.52,1.35,72.89,0.57,8.53,0,0,'vehic wind float'\n",
            "1.51793,13.21,3.48,1.41,72.64,0.59,8.43,0,0,'build wind float'\n"
          ]
        }
      ]
    },
    {
      "cell_type": "code",
      "source": [
        "# generate train/test split of randomized data\n",
        "from weka.core.classes import Random\n",
        "train, test = data.train_test_split(80.0, Random(1))\n",
        "print(len(train))\n",
        "print(len(test))\n",
        "train.subset(row_range='1-3')"
      ],
      "metadata": {
        "colab": {
          "base_uri": "https://localhost:8080/"
        },
        "id": "P4LLWkFo7WWc",
        "outputId": "87d1a639-312f-452a-8aa8-386bc86577ec"
      },
      "execution_count": 18,
      "outputs": [
        {
          "output_type": "stream",
          "name": "stdout",
          "text": [
            "171\n",
            "43\n"
          ]
        },
        {
          "output_type": "execute_result",
          "data": {
            "text/plain": [
              "@relation 'Glass-weka.filters.unsupervised.instance.RemoveRange-V-R1-3-weka.filters.MultiFilter-Fweka.filters.unsupervised.instance.RemoveRange -V -R 1-3'\n",
              "\n",
              "@attribute RI numeric\n",
              "@attribute Na numeric\n",
              "@attribute Mg numeric\n",
              "@attribute Al numeric\n",
              "@attribute Si numeric\n",
              "@attribute K numeric\n",
              "@attribute Ca numeric\n",
              "@attribute Ba numeric\n",
              "@attribute Fe numeric\n",
              "@attribute Type {'build wind float','build wind non-float','vehic wind float','vehic wind non-float',containers,tableware,headlamps}\n",
              "\n",
              "@data\n",
              "1.52121,14.03,3.76,0.58,71.79,0.11,9.65,0,0,'vehic wind float'\n",
              "1.51674,12.87,3.56,1.64,73.14,0.65,7.99,0,0,'build wind non-float'\n",
              "1.52119,12.97,0.33,1.51,73.39,0.13,11.27,0,0.28,containers"
            ]
          },
          "metadata": {},
          "execution_count": 18
        }
      ]
    },
    {
      "cell_type": "code",
      "source": [
        "#jvm.stop()"
      ],
      "metadata": {
        "id": "ZjRl-gU8IO_X"
      },
      "execution_count": 28,
      "outputs": []
    },
    {
      "cell_type": "code",
      "source": [
        "def save_model(classifier,name,path=\"\"):\n",
        "  import os\n",
        "  import tempfile\n",
        "  #import wekaexamples.helper as helper\n",
        "  import weka.core.serialization as serialization\n",
        "  outfile = tempfile.gettempdir() + os.sep + path+name+\".model\"\n",
        "  serialization.write(outfile, classifier)\n",
        "  return True\n"
      ],
      "metadata": {
        "id": "Trf_qKDlBH9B"
      },
      "execution_count": 20,
      "outputs": []
    },
    {
      "cell_type": "code",
      "source": [
        "save_model(classifier=cls,name=\"C4.5\")"
      ],
      "metadata": {
        "colab": {
          "base_uri": "https://localhost:8080/"
        },
        "id": "WIXGxgSmByCW",
        "outputId": "0342fe10-9392-4085-dc49-dfd8820a841b"
      },
      "execution_count": 21,
      "outputs": [
        {
          "output_type": "execute_result",
          "data": {
            "text/plain": [
              "True"
            ]
          },
          "metadata": {},
          "execution_count": 21
        }
      ]
    },
    {
      "cell_type": "code",
      "source": [
        "# read classifier \n",
        "import tempfile\n",
        "import os\n",
        "import weka.core.serialization as serialization\n",
        "outfile = tempfile.gettempdir() + os.sep + \"C4.5.model\"\n",
        "serialization.write(outfile, cls)"
      ],
      "metadata": {
        "id": "zWvvAQ3cDJVU"
      },
      "execution_count": 25,
      "outputs": []
    },
    {
      "cell_type": "code",
      "source": [
        "# apply saved model \n",
        "model, _ = Classifier.deserialize(outfile)\n",
        "evl.test_model(model, test)\n",
        "print(evl.summary())"
      ],
      "metadata": {
        "colab": {
          "base_uri": "https://localhost:8080/"
        },
        "id": "Avu4ayDWDheb",
        "outputId": "11040fbf-a800-4859-9118-29081b960aae"
      },
      "execution_count": 26,
      "outputs": [
        {
          "output_type": "stream",
          "name": "stdout",
          "text": [
            "\n",
            "Correctly Classified Instances          52               60.4651 %\n",
            "Incorrectly Classified Instances        34               39.5349 %\n",
            "Kappa statistic                          0.4737\n",
            "Mean absolute error                      0.1167\n",
            "Root mean squared error                  0.3183\n",
            "Relative absolute error                 54.0823 %\n",
            "Root relative squared error             95.806  %\n",
            "Total Number of Instances               86     \n",
            "\n"
          ]
        }
      ]
    },
    {
      "cell_type": "code",
      "source": [
        "# save the classifier \n",
        "import os\n",
        "import tempfile\n",
        "#import wekaexamples.helper as helper\n",
        "import weka.core.serialization as serialization\n",
        "\n",
        "# saving classifier \n",
        "import os\n",
        "#helper.print_title(\"I/O: single object\")\n",
        "outfile = tempfile.gettempdir() + os.sep + \"j48.model\"\n",
        "serialization.write(outfile, cls)"
      ],
      "metadata": {
        "id": "dbttU0DX9zXk"
      },
      "execution_count": null,
      "outputs": []
    },
    {
      "cell_type": "code",
      "source": [
        "# save and read object\n",
        "outfile = tempfile.gettempdir() + os.sep + \"j482.model\"\n",
        "cls.serialize(outfile)\n",
        "model, _ = Classifier.deserialize(outfile)\n",
        "evl.test_model(model, test)\n",
        "print(evl.summary())\n",
        "#print(model)"
      ],
      "metadata": {
        "colab": {
          "base_uri": "https://localhost:8080/"
        },
        "id": "BIWiFPLHWhwH",
        "outputId": "50651a23-794f-41ee-f136-ab92be37dd5a"
      },
      "execution_count": null,
      "outputs": [
        {
          "output_type": "stream",
          "name": "stdout",
          "text": [
            "\n",
            "Correctly Classified Instances          52               60.4651 %\n",
            "Incorrectly Classified Instances        34               39.5349 %\n",
            "Kappa statistic                          0.4737\n",
            "Mean absolute error                      0.1167\n",
            "Root mean squared error                  0.3183\n",
            "Relative absolute error                 54.0823 %\n",
            "Root relative squared error             95.806  %\n",
            "Total Number of Instances               86     \n",
            "\n"
          ]
        }
      ]
    },
    {
      "cell_type": "code",
      "source": [
        "clc2=serialization.read(outfile)\n",
        "evaluation = Evaluation(test)                     # initialize with priors\n",
        "evaluation.crossvalidate_model(clc2, test, 10, Random(42))  # 10-fold CV"
      ],
      "metadata": {
        "colab": {
          "base_uri": "https://localhost:8080/",
          "height": 372
        },
        "id": "q7D1xLdM-sdq",
        "outputId": "2af05337-7585-4698-d11b-419c1402306a"
      },
      "execution_count": null,
      "outputs": [
        {
          "output_type": "error",
          "ename": "AttributeError",
          "evalue": "ignored",
          "traceback": [
            "\u001b[0;31m---------------------------------------------------------------------------\u001b[0m",
            "\u001b[0;31mAttributeError\u001b[0m                            Traceback (most recent call last)",
            "\u001b[0;32m<ipython-input-84-a6b1868dc078>\u001b[0m in \u001b[0;36m<module>\u001b[0;34m()\u001b[0m\n\u001b[1;32m      1\u001b[0m \u001b[0mclc2\u001b[0m\u001b[0;34m=\u001b[0m\u001b[0mserialization\u001b[0m\u001b[0;34m.\u001b[0m\u001b[0mread\u001b[0m\u001b[0;34m(\u001b[0m\u001b[0moutfile\u001b[0m\u001b[0;34m)\u001b[0m\u001b[0;34m\u001b[0m\u001b[0;34m\u001b[0m\u001b[0m\n\u001b[1;32m      2\u001b[0m \u001b[0mevaluation\u001b[0m \u001b[0;34m=\u001b[0m \u001b[0mEvaluation\u001b[0m\u001b[0;34m(\u001b[0m\u001b[0mtest\u001b[0m\u001b[0;34m)\u001b[0m                     \u001b[0;31m# initialize with priors\u001b[0m\u001b[0;34m\u001b[0m\u001b[0;34m\u001b[0m\u001b[0m\n\u001b[0;32m----> 3\u001b[0;31m \u001b[0mevaluation\u001b[0m\u001b[0;34m.\u001b[0m\u001b[0mcrossvalidate_model\u001b[0m\u001b[0;34m(\u001b[0m\u001b[0mclc2\u001b[0m\u001b[0;34m,\u001b[0m \u001b[0mtest\u001b[0m\u001b[0;34m,\u001b[0m \u001b[0;36m10\u001b[0m\u001b[0;34m,\u001b[0m \u001b[0mRandom\u001b[0m\u001b[0;34m(\u001b[0m\u001b[0;36m42\u001b[0m\u001b[0;34m)\u001b[0m\u001b[0;34m)\u001b[0m  \u001b[0;31m# 10-fold CV\u001b[0m\u001b[0;34m\u001b[0m\u001b[0;34m\u001b[0m\u001b[0m\n\u001b[0m",
            "\u001b[0;32m/usr/local/lib/python3.7/dist-packages/weka/classifiers.py\u001b[0m in \u001b[0;36mcrossvalidate_model\u001b[0;34m(self, classifier, data, num_folds, rnd, output)\u001b[0m\n\u001b[1;32m   1292\u001b[0m             \u001b[0mself\u001b[0m\u001b[0;34m.\u001b[0m\u001b[0mjobject\u001b[0m\u001b[0;34m,\u001b[0m \u001b[0;34m\"crossValidateModel\"\u001b[0m\u001b[0;34m,\u001b[0m\u001b[0;34m\u001b[0m\u001b[0;34m\u001b[0m\u001b[0m\n\u001b[1;32m   1293\u001b[0m             \u001b[0;34m\"(Lweka/classifiers/Classifier;Lweka/core/Instances;ILjava/util/Random;[Ljava/lang/Object;)V\"\u001b[0m\u001b[0;34m,\u001b[0m\u001b[0;34m\u001b[0m\u001b[0;34m\u001b[0m\u001b[0m\n\u001b[0;32m-> 1294\u001b[0;31m             classifier.jobject, data.jobject, num_folds, rnd.jobject, generator)\n\u001b[0m\u001b[1;32m   1295\u001b[0m \u001b[0;34m\u001b[0m\u001b[0m\n\u001b[1;32m   1296\u001b[0m     \u001b[0;32mdef\u001b[0m \u001b[0mevaluate_train_test_split\u001b[0m\u001b[0;34m(\u001b[0m\u001b[0mself\u001b[0m\u001b[0;34m,\u001b[0m \u001b[0mclassifier\u001b[0m\u001b[0;34m,\u001b[0m \u001b[0mdata\u001b[0m\u001b[0;34m,\u001b[0m \u001b[0mpercentage\u001b[0m\u001b[0;34m,\u001b[0m \u001b[0mrnd\u001b[0m\u001b[0;34m=\u001b[0m\u001b[0;32mNone\u001b[0m\u001b[0;34m,\u001b[0m \u001b[0moutput\u001b[0m\u001b[0;34m=\u001b[0m\u001b[0;32mNone\u001b[0m\u001b[0;34m)\u001b[0m\u001b[0;34m:\u001b[0m\u001b[0;34m\u001b[0m\u001b[0;34m\u001b[0m\u001b[0m\n",
            "\u001b[0;31mAttributeError\u001b[0m: '_javabridge.JB_Object' object has no attribute 'jobject'"
          ]
        }
      ]
    },
    {
      "cell_type": "code",
      "source": [
        "# evaluation function \n",
        "from weka.classifiers import Classifier, Evaluation\n",
        "from weka.core.classes import Random\n",
        "\n",
        "def evaluat (classifier, data, fold):\n",
        "  evaluation = Evaluation(data)                     # initialize with priors\n",
        "  evaluation.crossvalidate_model(classifier, data, fold, Random(42))  # 10-fold CV\n",
        "  print(evaluation.summary())"
      ],
      "metadata": {
        "id": "83etLyMcZE9x"
      },
      "execution_count": null,
      "outputs": []
    },
    {
      "cell_type": "markdown",
      "source": [
        "#Build Base classifiers on dataset, output predictions"
      ],
      "metadata": {
        "id": "Naddk1HyJHLN"
      }
    },
    {
      "cell_type": "code",
      "source": [
        "#3 Naive Bayes classifier\n",
        "from weka.classifiers import Classifier\n",
        "cls = Classifier(classname=\"weka.classifiers.bayes.NaiveBayes\")\n",
        "cls.build_classifier(data)\n",
        "\n",
        "for index, inst in enumerate(data):\n",
        "    pred = cls.classify_instance(inst)\n",
        "    dist = cls.distribution_for_instance(inst)\n",
        "    #print(str(index+1) + \": label index=\" + str(pred) + \", class distribution=\" + str(dist))\n",
        "evaluat(classifier=cls, data=data, fold=10)"
      ],
      "metadata": {
        "colab": {
          "base_uri": "https://localhost:8080/"
        },
        "id": "wFQo4Hs12X9H",
        "outputId": "be1002f3-15d8-48e6-931a-8be1b6b0a042"
      },
      "execution_count": null,
      "outputs": [
        {
          "output_type": "stream",
          "name": "stdout",
          "text": [
            "\n",
            "Correctly Classified Instances         104               48.5981 %\n",
            "Incorrectly Classified Instances       110               51.4019 %\n",
            "Kappa statistic                          0.3172\n",
            "Mean absolute error                      0.1556\n",
            "Root mean squared error                  0.3395\n",
            "Relative absolute error                 73.4622 %\n",
            "Root relative squared error            104.6219 %\n",
            "Total Number of Instances              214     \n",
            "\n"
          ]
        }
      ]
    },
    {
      "cell_type": "code",
      "source": [
        "#1 c4.5\n",
        "from weka.classifiers import Classifier\n",
        "cls = Classifier(classname=\"weka.classifiers.trees.J48\")\n",
        "cls.build_classifier(test)\n",
        "\n",
        "for index, inst in enumerate(test):\n",
        "    pred = cls.classify_instance(inst)\n",
        "    dist = cls.distribution_for_instance(inst)\n",
        "    #print(str(index+1) + \": label index=\" + str(pred) + \", class distribution=\" + str(dist))\n",
        "evaluat(classifier=cls, data=test, fold=10)"
      ],
      "metadata": {
        "colab": {
          "base_uri": "https://localhost:8080/",
          "height": 415
        },
        "id": "c28mByfZJPUV",
        "outputId": "323b8fb8-2762-4035-f840-fe991071659e"
      },
      "execution_count": null,
      "outputs": [
        {
          "output_type": "error",
          "ename": "AttributeError",
          "evalue": "ignored",
          "traceback": [
            "\u001b[0;31m---------------------------------------------------------------------------\u001b[0m",
            "\u001b[0;31mAttributeError\u001b[0m                            Traceback (most recent call last)",
            "\u001b[0;32m<ipython-input-1-2f706022f529>\u001b[0m in \u001b[0;36m<module>\u001b[0;34m()\u001b[0m\n\u001b[1;32m      1\u001b[0m \u001b[0;31m#1 c4.5\u001b[0m\u001b[0;34m\u001b[0m\u001b[0;34m\u001b[0m\u001b[0;34m\u001b[0m\u001b[0m\n\u001b[1;32m      2\u001b[0m \u001b[0;32mfrom\u001b[0m \u001b[0mweka\u001b[0m\u001b[0;34m.\u001b[0m\u001b[0mclassifiers\u001b[0m \u001b[0;32mimport\u001b[0m \u001b[0mClassifier\u001b[0m\u001b[0;34m\u001b[0m\u001b[0;34m\u001b[0m\u001b[0m\n\u001b[0;32m----> 3\u001b[0;31m \u001b[0mcls\u001b[0m \u001b[0;34m=\u001b[0m \u001b[0mClassifier\u001b[0m\u001b[0;34m(\u001b[0m\u001b[0mclassname\u001b[0m\u001b[0;34m=\u001b[0m\u001b[0;34m\"weka.classifiers.trees.J48\"\u001b[0m\u001b[0;34m)\u001b[0m\u001b[0;34m\u001b[0m\u001b[0;34m\u001b[0m\u001b[0m\n\u001b[0m\u001b[1;32m      4\u001b[0m \u001b[0mcls\u001b[0m\u001b[0;34m.\u001b[0m\u001b[0mbuild_classifier\u001b[0m\u001b[0;34m(\u001b[0m\u001b[0mtest\u001b[0m\u001b[0;34m)\u001b[0m\u001b[0;34m\u001b[0m\u001b[0;34m\u001b[0m\u001b[0m\n\u001b[1;32m      5\u001b[0m \u001b[0;34m\u001b[0m\u001b[0m\n",
            "\u001b[0;32m/usr/local/lib/python3.7/dist-packages/weka/classifiers.py\u001b[0m in \u001b[0;36m__init__\u001b[0;34m(self, classname, jobject, options)\u001b[0m\n\u001b[1;32m     55\u001b[0m         \"\"\"\n\u001b[1;32m     56\u001b[0m         \u001b[0;32mif\u001b[0m \u001b[0mjobject\u001b[0m \u001b[0;32mis\u001b[0m \u001b[0;32mNone\u001b[0m\u001b[0;34m:\u001b[0m\u001b[0;34m\u001b[0m\u001b[0;34m\u001b[0m\u001b[0m\n\u001b[0;32m---> 57\u001b[0;31m             \u001b[0mjobject\u001b[0m \u001b[0;34m=\u001b[0m \u001b[0mClassifier\u001b[0m\u001b[0;34m.\u001b[0m\u001b[0mnew_instance\u001b[0m\u001b[0;34m(\u001b[0m\u001b[0mclassname\u001b[0m\u001b[0;34m)\u001b[0m\u001b[0;34m\u001b[0m\u001b[0;34m\u001b[0m\u001b[0m\n\u001b[0m\u001b[1;32m     58\u001b[0m         \u001b[0mself\u001b[0m\u001b[0;34m.\u001b[0m\u001b[0menforce_type\u001b[0m\u001b[0;34m(\u001b[0m\u001b[0mjobject\u001b[0m\u001b[0;34m,\u001b[0m \u001b[0;34m\"weka.classifiers.Classifier\"\u001b[0m\u001b[0;34m)\u001b[0m\u001b[0;34m\u001b[0m\u001b[0;34m\u001b[0m\u001b[0m\n\u001b[1;32m     59\u001b[0m         \u001b[0mself\u001b[0m\u001b[0;34m.\u001b[0m\u001b[0mis_updateable\u001b[0m \u001b[0;34m=\u001b[0m \u001b[0mself\u001b[0m\u001b[0;34m.\u001b[0m\u001b[0mcheck_type\u001b[0m\u001b[0;34m(\u001b[0m\u001b[0mjobject\u001b[0m\u001b[0;34m,\u001b[0m \u001b[0;34m\"weka.classifiers.UpdateableClassifier\"\u001b[0m\u001b[0;34m)\u001b[0m\u001b[0;34m\u001b[0m\u001b[0;34m\u001b[0m\u001b[0m\n",
            "\u001b[0;32m/usr/local/lib/python3.7/dist-packages/weka/core/classes.py\u001b[0m in \u001b[0;36mnew_instance\u001b[0;34m(cls, classname, options)\u001b[0m\n\u001b[1;32m    888\u001b[0m                 \u001b[0;34m\"Lweka/core/Utils;\"\u001b[0m\u001b[0;34m,\u001b[0m \u001b[0;34m\"forName\"\u001b[0m\u001b[0;34m,\u001b[0m\u001b[0;34m\u001b[0m\u001b[0;34m\u001b[0m\u001b[0m\n\u001b[1;32m    889\u001b[0m                 \u001b[0;34m\"(Ljava/lang/Class;Ljava/lang/String;[Ljava/lang/String;)Ljava/lang/Object;\"\u001b[0m\u001b[0;34m,\u001b[0m\u001b[0;34m\u001b[0m\u001b[0;34m\u001b[0m\u001b[0m\n\u001b[0;32m--> 890\u001b[0;31m                 javabridge.class_for_name(\"java.lang.Object\"), classname, options)\n\u001b[0m\u001b[1;32m    891\u001b[0m         \u001b[0;32mexcept\u001b[0m \u001b[0mJavaException\u001b[0m \u001b[0;32mas\u001b[0m \u001b[0me\u001b[0m\u001b[0;34m:\u001b[0m\u001b[0;34m\u001b[0m\u001b[0;34m\u001b[0m\u001b[0m\n\u001b[1;32m    892\u001b[0m             \u001b[0mprint\u001b[0m\u001b[0;34m(\u001b[0m\u001b[0;34m\"Failed to instantiate \"\u001b[0m \u001b[0;34m+\u001b[0m \u001b[0mclassname\u001b[0m \u001b[0;34m+\u001b[0m \u001b[0;34m\": \"\u001b[0m \u001b[0;34m+\u001b[0m \u001b[0mstr\u001b[0m\u001b[0;34m(\u001b[0m\u001b[0me\u001b[0m\u001b[0;34m)\u001b[0m\u001b[0;34m)\u001b[0m\u001b[0;34m\u001b[0m\u001b[0;34m\u001b[0m\u001b[0m\n",
            "\u001b[0;32m/usr/local/lib/python3.7/dist-packages/javabridge/jutil.py\u001b[0m in \u001b[0;36mclass_for_name\u001b[0;34m(classname, ldr)\u001b[0m\n\u001b[1;32m   1742\u001b[0m     \u001b[0;32mif\u001b[0m \u001b[0mldr\u001b[0m \u001b[0;34m==\u001b[0m \u001b[0;34m\"system\"\u001b[0m\u001b[0;34m:\u001b[0m\u001b[0;34m\u001b[0m\u001b[0;34m\u001b[0m\u001b[0m\n\u001b[1;32m   1743\u001b[0m         ldr = static_call('java/lang/ClassLoader', 'getSystemClassLoader',\n\u001b[0;32m-> 1744\u001b[0;31m                           '()Ljava/lang/ClassLoader;')\n\u001b[0m\u001b[1;32m   1745\u001b[0m     return static_call('java/lang/Class', 'forName', \n\u001b[1;32m   1746\u001b[0m                        \u001b[0;34m'(Ljava/lang/String;ZLjava/lang/ClassLoader;)'\u001b[0m\u001b[0;34m\u001b[0m\u001b[0;34m\u001b[0m\u001b[0m\n",
            "\u001b[0;32m/usr/local/lib/python3.7/dist-packages/javabridge/jutil.py\u001b[0m in \u001b[0;36mstatic_call\u001b[0;34m(class_name, method_name, sig, *args)\u001b[0m\n\u001b[1;32m    937\u001b[0m     '''\n\u001b[1;32m    938\u001b[0m     \u001b[0menv\u001b[0m \u001b[0;34m=\u001b[0m \u001b[0mget_env\u001b[0m\u001b[0;34m(\u001b[0m\u001b[0;34m)\u001b[0m\u001b[0;34m\u001b[0m\u001b[0;34m\u001b[0m\u001b[0m\n\u001b[0;32m--> 939\u001b[0;31m     \u001b[0mfn\u001b[0m \u001b[0;34m=\u001b[0m \u001b[0mmake_static_call\u001b[0m\u001b[0;34m(\u001b[0m\u001b[0mclass_name\u001b[0m\u001b[0;34m,\u001b[0m \u001b[0mmethod_name\u001b[0m\u001b[0;34m,\u001b[0m \u001b[0msig\u001b[0m\u001b[0;34m)\u001b[0m\u001b[0;34m\u001b[0m\u001b[0;34m\u001b[0m\u001b[0m\n\u001b[0m\u001b[1;32m    940\u001b[0m     \u001b[0margs_sig\u001b[0m \u001b[0;34m=\u001b[0m \u001b[0msplit_sig\u001b[0m\u001b[0;34m(\u001b[0m\u001b[0msig\u001b[0m\u001b[0;34m[\u001b[0m\u001b[0;36m1\u001b[0m\u001b[0;34m:\u001b[0m\u001b[0msig\u001b[0m\u001b[0;34m.\u001b[0m\u001b[0mfind\u001b[0m\u001b[0;34m(\u001b[0m\u001b[0;34m')'\u001b[0m\u001b[0;34m)\u001b[0m\u001b[0;34m]\u001b[0m\u001b[0;34m)\u001b[0m\u001b[0;34m\u001b[0m\u001b[0;34m\u001b[0m\u001b[0m\n\u001b[1;32m    941\u001b[0m     \u001b[0mret_sig\u001b[0m \u001b[0;34m=\u001b[0m \u001b[0msig\u001b[0m\u001b[0;34m[\u001b[0m\u001b[0msig\u001b[0m\u001b[0;34m.\u001b[0m\u001b[0mfind\u001b[0m\u001b[0;34m(\u001b[0m\u001b[0;34m')'\u001b[0m\u001b[0;34m)\u001b[0m\u001b[0;34m+\u001b[0m\u001b[0;36m1\u001b[0m\u001b[0;34m:\u001b[0m\u001b[0;34m]\u001b[0m\u001b[0;34m\u001b[0m\u001b[0;34m\u001b[0m\u001b[0m\n",
            "\u001b[0;32m/usr/local/lib/python3.7/dist-packages/javabridge/jutil.py\u001b[0m in \u001b[0;36mmake_static_call\u001b[0;34m(class_name, method_name, sig)\u001b[0m\n\u001b[1;32m    908\u001b[0m     '''\n\u001b[1;32m    909\u001b[0m     \u001b[0menv\u001b[0m \u001b[0;34m=\u001b[0m \u001b[0mget_env\u001b[0m\u001b[0;34m(\u001b[0m\u001b[0;34m)\u001b[0m\u001b[0;34m\u001b[0m\u001b[0;34m\u001b[0m\u001b[0m\n\u001b[0;32m--> 910\u001b[0;31m     \u001b[0mklass\u001b[0m \u001b[0;34m=\u001b[0m \u001b[0menv\u001b[0m\u001b[0;34m.\u001b[0m\u001b[0mfind_class\u001b[0m\u001b[0;34m(\u001b[0m\u001b[0mclass_name\u001b[0m\u001b[0;34m)\u001b[0m\u001b[0;34m\u001b[0m\u001b[0;34m\u001b[0m\u001b[0m\n\u001b[0m\u001b[1;32m    911\u001b[0m     \u001b[0;32mif\u001b[0m \u001b[0mklass\u001b[0m \u001b[0;32mis\u001b[0m \u001b[0;32mNone\u001b[0m\u001b[0;34m:\u001b[0m\u001b[0;34m\u001b[0m\u001b[0;34m\u001b[0m\u001b[0m\n\u001b[1;32m    912\u001b[0m         \u001b[0mjexception\u001b[0m \u001b[0;34m=\u001b[0m \u001b[0mget_env\u001b[0m\u001b[0;34m(\u001b[0m\u001b[0;34m)\u001b[0m\u001b[0;34m.\u001b[0m\u001b[0mexception_occurred\u001b[0m\u001b[0;34m(\u001b[0m\u001b[0;34m)\u001b[0m\u001b[0;34m\u001b[0m\u001b[0;34m\u001b[0m\u001b[0m\n",
            "\u001b[0;31mAttributeError\u001b[0m: 'NoneType' object has no attribute 'find_class'"
          ]
        }
      ]
    },
    {
      "cell_type": "code",
      "source": [
        "#2 c4.5 using unpruned tree \n",
        "\n",
        "# c4.5\n",
        "from weka.classifiers import Classifier\n",
        "cls = Classifier(classname=\"weka.classifiers.trees.J48\", options=[\"-U\"])\n",
        "cls.build_classifier(data)\n",
        "\n",
        "for index, inst in enumerate(data):\n",
        "    pred = cls.classify_instance(inst)\n",
        "    dist = cls.distribution_for_instance(inst)\n",
        "    #print(str(index+1) + \": label index=\" + str(pred) + \", class distribution=\" + str(dist))\n",
        "evaluat(classifier=cls, data=data, fold=10)"
      ],
      "metadata": {
        "colab": {
          "base_uri": "https://localhost:8080/"
        },
        "id": "D6yGXafDNSM_",
        "outputId": "96857777-592f-4020-d8ad-57994d63459d"
      },
      "execution_count": null,
      "outputs": [
        {
          "output_type": "stream",
          "name": "stdout",
          "text": [
            "\n",
            "Correctly Classified Instances         139               64.9533 %\n",
            "Incorrectly Classified Instances        75               35.0467 %\n",
            "Kappa statistic                          0.5268\n",
            "Mean absolute error                      0.1032\n",
            "Root mean squared error                  0.2944\n",
            "Relative absolute error                 48.7418 %\n",
            "Root relative squared error             90.7276 %\n",
            "Total Number of Instances              214     \n",
            "\n"
          ]
        }
      ]
    },
    {
      "cell_type": "code",
      "source": [
        "#4 PART classifier it  builds a partial C4.5 decision tree in each iteration and makes the \"best\" leaf into a rule.\n",
        "from weka.classifiers import Classifier\n",
        "cls = Classifier(classname=\"weka.classifiers.rules.PART\")\n",
        "cls.build_classifier(data)\n",
        "\n",
        "for index, inst in enumerate(data):\n",
        "    pred = cls.classify_instance(inst)\n",
        "    dist = cls.distribution_for_instance(inst)\n",
        "    #print(str(index+1) + \": label index=\" + str(pred) + \", class distribution=\" + str(dist))\n",
        "evaluat(classifier=cls, data=data, fold=10)"
      ],
      "metadata": {
        "colab": {
          "base_uri": "https://localhost:8080/"
        },
        "id": "-5WqW0zgN9RF",
        "outputId": "5f85c9d6-c38e-4b5c-95e2-92483a0ff62f"
      },
      "execution_count": null,
      "outputs": [
        {
          "output_type": "stream",
          "name": "stdout",
          "text": [
            "\n",
            "Correctly Classified Instances         147               68.6916 %\n",
            "Incorrectly Classified Instances        67               31.3084 %\n",
            "Kappa statistic                          0.5724\n",
            "Mean absolute error                      0.0955\n",
            "Root mean squared error                  0.2788\n",
            "Relative absolute error                 45.118  %\n",
            "Root relative squared error             85.9112 %\n",
            "Total Number of Instances              214     \n",
            "\n"
          ]
        }
      ]
    },
    {
      "cell_type": "code",
      "source": [
        "#5 Decision Stump It is an algorithm\n",
        "#that generates one level decision tree.\n",
        "from weka.classifiers import Classifier\n",
        "cls = Classifier(classname=\"weka.classifiers.trees.DecisionStump\")\n",
        "cls.build_classifier(data)\n",
        "\n",
        "for index, inst in enumerate(data):\n",
        "    pred = cls.classify_instance(inst)\n",
        "    dist = cls.distribution_for_instance(inst)\n",
        "    #print(str(index+1) + \": label index=\" + str(pred) + \", class distribution=\" + str(dist))\n",
        "evaluat(classifier=cls, data=data, fold=10)"
      ],
      "metadata": {
        "colab": {
          "base_uri": "https://localhost:8080/"
        },
        "id": "ub7bbYZ7lxgP",
        "outputId": "cef66eae-1d1d-4c8b-8b6f-d574a7d857dd"
      },
      "execution_count": null,
      "outputs": [
        {
          "output_type": "stream",
          "name": "stdout",
          "text": [
            "\n",
            "Correctly Classified Instances          95               44.3925 %\n",
            "Incorrectly Classified Instances       119               55.6075 %\n",
            "Kappa statistic                          0.2356\n",
            "Mean absolute error                      0.1829\n",
            "Root mean squared error                  0.3035\n",
            "Relative absolute error                 86.3841 %\n",
            "Root relative squared error             93.5141 %\n",
            "Total Number of Instances              214     \n",
            "\n"
          ]
        }
      ]
    },
    {
      "cell_type": "code",
      "source": [
        "#6 Desicion table using majority classifier \n",
        "from weka.classifiers import Classifier\n",
        "cls = Classifier(classname=\"weka.classifiers.rules.DecisionTable\")\n",
        "cls.build_classifier(data)\n",
        "\n",
        "for index, inst in enumerate(data):\n",
        "    pred = cls.classify_instance(inst)\n",
        "    dist = cls.distribution_for_instance(inst)\n",
        "    #print(str(index+1) + \": label index=\" + str(pred) + \", class distribution=\" + str(dist))\n",
        "evaluat(classifier=cls, data=data, fold=10)"
      ],
      "metadata": {
        "colab": {
          "base_uri": "https://localhost:8080/"
        },
        "id": "ymW4JJGvPA-b",
        "outputId": "75c085d3-437c-4cc2-d463-0f768056767d"
      },
      "execution_count": null,
      "outputs": [
        {
          "output_type": "stream",
          "name": "stdout",
          "text": [
            "\n",
            "Correctly Classified Instances         149               69.6262 %\n",
            "Incorrectly Classified Instances        65               30.3738 %\n",
            "Kappa statistic                          0.57  \n",
            "Mean absolute error                      0.1719\n",
            "Root mean squared error                  0.2766\n",
            "Relative absolute error                 81.1587 %\n",
            "Root relative squared error             85.2364 %\n",
            "Total Number of Instances              214     \n",
            "\n"
          ]
        }
      ]
    },
    {
      "cell_type": "code",
      "source": [
        "#7 Desicion table using Using nearest neighbour instead of global table majority.\n",
        "from weka.classifiers import Classifier\n",
        "cls = Classifier(classname=\"weka.classifiers.rules.DecisionTable\",options=[\"-I\"])\n",
        "cls.build_classifier(data)\n",
        "\n",
        "for index, inst in enumerate(data):\n",
        "    pred = cls.classify_instance(inst)\n",
        "    dist = cls.distribution_for_instance(inst)\n",
        "    #print(str(index+1) + \": label index=\" + str(pred) + \", class distribution=\" + str(dist))\n",
        "evaluat(classifier=cls, data=data, fold=10)"
      ],
      "metadata": {
        "colab": {
          "base_uri": "https://localhost:8080/"
        },
        "id": "lRrj5s2kPoqo",
        "outputId": "e272b789-92fc-4acc-fe55-dc969469aa6a"
      },
      "execution_count": null,
      "outputs": [
        {
          "output_type": "stream",
          "name": "stdout",
          "text": [
            "\n",
            "Correctly Classified Instances         149               69.6262 %\n",
            "Incorrectly Classified Instances        65               30.3738 %\n",
            "Kappa statistic                          0.5767\n",
            "Mean absolute error                      0.168 \n",
            "Root mean squared error                  0.2757\n",
            "Relative absolute error                 79.3275 %\n",
            "Root relative squared error             84.942  %\n",
            "Total Number of Instances              214     \n",
            "\n"
          ]
        }
      ]
    },
    {
      "cell_type": "code",
      "source": [
        "#8 ClassificationViaRegression / The M5 algorithm (Quinlan 1992) is\n",
        "#used as the regression method. (not yet)\n",
        "from weka.classifiers import Classifier\n",
        "cls = Classifier(classname=\"weka.classifiers.meta.ClassificationViaRegression\")\n",
        "cls.build_classifier(data)\n",
        "\n",
        "for index, inst in enumerate(data):\n",
        "    pred = cls.classify_instance(inst)\n",
        "    dist = cls.distribution_for_instance(inst)\n",
        "    #print(str(index+1) + \": label index=\" + str(pred) + \", class distribution=\" + str(dist))\n",
        "evaluat(classifier=cls, data=data, fold=10)"
      ],
      "metadata": {
        "colab": {
          "base_uri": "https://localhost:8080/"
        },
        "id": "MkOtSmopQFhe",
        "outputId": "f84e9f7f-2d4e-49b1-f197-4e3b93c4edf2"
      },
      "execution_count": null,
      "outputs": [
        {
          "output_type": "stream",
          "name": "stdout",
          "text": [
            "\n",
            "Correctly Classified Instances         148               69.1589 %\n",
            "Incorrectly Classified Instances        66               30.8411 %\n",
            "Kappa statistic                          0.572 \n",
            "Mean absolute error                      0.13  \n",
            "Root mean squared error                  0.2508\n",
            "Relative absolute error                 61.3987 %\n",
            "Root relative squared error             77.275  %\n",
            "Total Number of Instances              214     \n",
            "\n"
          ]
        }
      ]
    },
    {
      "cell_type": "code",
      "source": [
        "#9 Random Forest This algorithm constructs\n",
        "#a Random Forest that forms combining a great number of unpruned decision trees.\n",
        "from weka.classifiers import Classifier\n",
        "cls = Classifier(classname=\"weka.classifiers.trees.RandomForest\")\n",
        "cls.build_classifier(data)\n",
        "\n",
        "for index, inst in enumerate(data):\n",
        "    pred = cls.classify_instance(inst)\n",
        "    dist = cls.distribution_for_instance(inst)\n",
        "    #print(str(index+1) + \": label index=\" + str(pred) + \", class distribution=\" + str(dist))\n",
        "evaluat(classifier=cls, data=data, fold=10)"
      ],
      "metadata": {
        "colab": {
          "base_uri": "https://localhost:8080/"
        },
        "id": "IQrOb7zzRf6r",
        "outputId": "601b468a-0f13-4b07-eabe-d55d5fa14d1c"
      },
      "execution_count": null,
      "outputs": [
        {
          "output_type": "stream",
          "name": "stdout",
          "text": [
            "\n",
            "Correctly Classified Instances         169               78.972  %\n",
            "Incorrectly Classified Instances        45               21.028  %\n",
            "Kappa statistic                          0.71  \n",
            "Mean absolute error                      0.0987\n",
            "Root mean squared error                  0.2109\n",
            "Relative absolute error                 46.6187 %\n",
            "Root relative squared error             64.9862 %\n",
            "Total Number of Instances              214     \n",
            "\n"
          ]
        }
      ]
    },
    {
      "cell_type": "code",
      "source": [
        "#10 Random Tree \n",
        "# This algorithm constructs a tree considering K random attributes at each node. It does not carry out any pruning\n",
        "from weka.classifiers import Classifier\n",
        "cls = Classifier(classname=\"weka.classifiers.trees.RandomTree\")\n",
        "cls.build_classifier(data)\n",
        "\n",
        "for index, inst in enumerate(data):\n",
        "    pred = cls.classify_instance(inst)\n",
        "    dist = cls.distribution_for_instance(inst)\n",
        "    #print(str(index+1) + \": label index=\" + str(pred) + \", class distribution=\" + str(dist))\n",
        "evaluat(classifier=cls, data=data, fold=10)"
      ],
      "metadata": {
        "colab": {
          "base_uri": "https://localhost:8080/"
        },
        "id": "rMKl5DSFSIrt",
        "outputId": "66e0b279-df6b-42f8-9c85-451ccb2c59ec"
      },
      "execution_count": null,
      "outputs": [
        {
          "output_type": "stream",
          "name": "stdout",
          "text": [
            "\n",
            "Correctly Classified Instances         145               67.757  %\n",
            "Incorrectly Classified Instances        69               32.243  %\n",
            "Kappa statistic                          0.5589\n",
            "Mean absolute error                      0.0921\n",
            "Root mean squared error                  0.3035\n",
            "Relative absolute error                 43.504  %\n",
            "Root relative squared error             93.523  %\n",
            "Total Number of Instances              214     \n",
            "\n"
          ]
        }
      ]
    },
    {
      "cell_type": "code",
      "source": [
        "#11 trees.LMT\n",
        "# This algorithm constructs a tree considering K random attributes at each node. It does not carry out any pruning\n",
        "from weka.classifiers import Classifier\n",
        "cls = Classifier(classname=\"weka.classifiers.trees.LMT\")\n",
        "cls.build_classifier(data)\n",
        "\n",
        "for index, inst in enumerate(data):\n",
        "    pred = cls.classify_instance(inst)\n",
        "    dist = cls.distribution_for_instance(inst)\n",
        "    #print(str(index+1) + \": label index=\" + str(pred) + \", class distribution=\" + str(dist))\n",
        "\n",
        "#evaluat(classifier=cls, data=data, fold=10)\n",
        "evaluat(classifier=cls, data=data, fold=10)"
      ],
      "metadata": {
        "colab": {
          "base_uri": "https://localhost:8080/"
        },
        "id": "VGgSRuWqC1jY",
        "outputId": "f9e82086-5533-4947-ccd7-e366cb31a29d"
      },
      "execution_count": null,
      "outputs": [
        {
          "output_type": "stream",
          "name": "stdout",
          "text": [
            "\n",
            "Correctly Classified Instances         152               71.028  %\n",
            "Incorrectly Classified Instances        62               28.972  %\n",
            "Kappa statistic                          0.6074\n",
            "Mean absolute error                      0.0849\n",
            "Root mean squared error                  0.2655\n",
            "Relative absolute error                 40.07   %\n",
            "Root relative squared error             81.8131 %\n",
            "Total Number of Instances              214     \n",
            "\n"
          ]
        }
      ]
    },
    {
      "cell_type": "code",
      "source": [
        "#12 VFI\n",
        "from weka.classifiers import Classifier\n",
        "cls = Classifier(classname=\"weka.classifiers.misc.VFI\")\n",
        "cls.build_classifier(data)\n",
        "\n",
        "for index, inst in enumerate(data):\n",
        "    pred = cls.classify_instance(inst)\n",
        "    dist = cls.distribution_for_instance(inst)\n",
        "    #print(str(index+1) + \": label index=\" + str(pred) + \", class distribution=\" + str(dist))\n",
        "evaluat(classifier=cls, data=data, fold=10)\n"
      ],
      "metadata": {
        "colab": {
          "base_uri": "https://localhost:8080/"
        },
        "id": "dGz_eRJJTa2G",
        "outputId": "83a48b3c-6c71-4049-ec90-28a7357e78e9"
      },
      "execution_count": null,
      "outputs": [
        {
          "output_type": "stream",
          "name": "stdout",
          "text": [
            "\n",
            "Correctly Classified Instances         119               55.6075 %\n",
            "Incorrectly Classified Instances        95               44.3925 %\n",
            "Kappa statistic                          0.4344\n",
            "Mean absolute error                      0.2082\n",
            "Root mean squared error                  0.3136\n",
            "Relative absolute error                 98.3133 %\n",
            "Root relative squared error             96.6223 %\n",
            "Total Number of Instances              214     \n",
            "\n"
          ]
        }
      ]
    },
    {
      "cell_type": "code",
      "source": [
        "#12 Conjunctive Rule. This algorithm generates a simple conjunctive\n",
        "#rules classifier.\n",
        "from weka.classifiers import Classifier\n",
        "cls = Classifier(classname=\"weka.classifiers.rules.ConjunctiveRule\")\n",
        "cls.build_classifier(data)\n",
        "\n",
        "for index, inst in enumerate(data):\n",
        "    pred = cls.classify_instance(inst)\n",
        "    dist = cls.distribution_for_instance(inst)\n",
        "    #print(str(index+1) + \": label index=\" + str(pred) + \", class distribution=\" + str(dist))\n",
        "evaluat(classifier=cls, data=data, fold=10)"
      ],
      "metadata": {
        "colab": {
          "base_uri": "https://localhost:8080/"
        },
        "id": "--X1hLzAlAve",
        "outputId": "ed49b6f3-6ac9-4e0e-efc8-bca626eb3b7a"
      },
      "execution_count": null,
      "outputs": [
        {
          "output_type": "stream",
          "name": "stdout",
          "text": [
            "\n",
            "Correctly Classified Instances          96               44.8598 %\n",
            "Incorrectly Classified Instances       118               55.1402 %\n",
            "Kappa statistic                          0.2411\n",
            "Mean absolute error                      0.1821\n",
            "Root mean squared error                  0.3029\n",
            "Relative absolute error                 85.9846 %\n",
            "Root relative squared error             93.3187 %\n",
            "Total Number of Instances              214     \n",
            "\n"
          ]
        }
      ]
    },
    {
      "cell_type": "code",
      "source": [
        "#13 JRip\n",
        "# algorithm that generates propositional\n",
        "#rules.\n",
        "from weka.classifiers import Classifier\n",
        "cls = Classifier(classname=\"weka.classifiers.rules.JRip\")\n",
        "cls.build_classifier(data)\n",
        "\n",
        "for index, inst in enumerate(data):\n",
        "    pred = cls.classify_instance(inst)\n",
        "    dist = cls.distribution_for_instance(inst)\n",
        "    #print(str(index+1) + \": label index=\" + str(pred) + \", class distribution=\" + str(dist))\n",
        "evaluat(classifier=cls, data=data, fold=10)"
      ],
      "metadata": {
        "colab": {
          "base_uri": "https://localhost:8080/"
        },
        "id": "fEKgjwGzcWEc",
        "outputId": "4c0968a3-9845-48f0-82c1-f0b213bcc2b0"
      },
      "execution_count": null,
      "outputs": [
        {
          "output_type": "stream",
          "name": "stdout",
          "text": [
            "\n",
            "Correctly Classified Instances         149               69.6262 %\n",
            "Incorrectly Classified Instances        65               30.3738 %\n",
            "Kappa statistic                          0.5764\n",
            "Mean absolute error                      0.1139\n",
            "Root mean squared error                  0.27  \n",
            "Relative absolute error                 53.7685 %\n",
            "Root relative squared error             83.21   %\n",
            "Total Number of Instances              214     \n",
            "\n"
          ]
        }
      ]
    },
    {
      "cell_type": "code",
      "source": [
        "#14 Nnge (Martin 1995). It is a nearest neighbor algorithm\n",
        "#that use non-nested generalized exemplars\n",
        "from weka.classifiers import Classifier\n",
        "cls = Classifier(classname=\"weka.classifiers.rules.NNge\")\n",
        "cls.build_classifier(data)\n",
        "\n",
        "for index, inst in enumerate(data):\n",
        "    pred = cls.classify_instance(inst)\n",
        "    dist = cls.distribution_for_instance(inst)\n",
        "    #print(str(index+1) + \": label index=\" + str(pred) + \", class distribution=\" + str(dist))\n",
        "\n",
        "evaluat(classifier=cls, data=data, fold=10)"
      ],
      "metadata": {
        "colab": {
          "base_uri": "https://localhost:8080/"
        },
        "id": "ZXpakQ87kF_Q",
        "outputId": "8dbf5ebd-71c3-43b8-8b98-c3ab1084bf90"
      },
      "execution_count": null,
      "outputs": [
        {
          "output_type": "stream",
          "name": "stdout",
          "text": [
            "\n",
            "Correctly Classified Instances         145               67.757  %\n",
            "Incorrectly Classified Instances        69               32.243  %\n",
            "Kappa statistic                          0.558 \n",
            "Mean absolute error                      0.0921\n",
            "Root mean squared error                  0.3035\n",
            "Relative absolute error                 43.504  %\n",
            "Root relative squared error             93.523  %\n",
            "Total Number of Instances              214     \n",
            "\n"
          ]
        }
      ]
    },
    {
      "cell_type": "code",
      "source": [
        "#15 HyperPipes (Witten & Frank 2000). It generates a classifier\n",
        "#that constructs a HyperPipe for each category, which\n",
        "#contains all the points of that category.\n",
        "from weka.classifiers import Classifier\n",
        "\n",
        "cls = Classifier(classname=\"weka.classifiers.misc.HyperPipes\")\n",
        "cls.build_classifier(data)\n",
        "\n",
        "for index, inst in enumerate(data):\n",
        "    pred = cls.classify_instance(inst)\n",
        "    dist = cls.distribution_for_instance(inst)\n",
        "    #print(str(index+1) + \": label index=\" + str(pred) + \", class distribution=\" + str(dist))\n",
        "\n",
        "evaluat(classifier=cls, data=data, fold=10)"
      ],
      "metadata": {
        "colab": {
          "base_uri": "https://localhost:8080/"
        },
        "id": "gfzCEmuPkGwO",
        "outputId": "0b644ff2-90b1-4ae2-b4d1-4fad847b0305"
      },
      "execution_count": null,
      "outputs": [
        {
          "output_type": "stream",
          "name": "stdout",
          "text": [
            "\n",
            "Correctly Classified Instances         109               50.9346 %\n",
            "Incorrectly Classified Instances       105               49.0654 %\n",
            "Kappa statistic                          0.2907\n",
            "Mean absolute error                      0.2281\n",
            "Root mean squared error                  0.332 \n",
            "Relative absolute error                107.7397 %\n",
            "Root relative squared error            102.3    %\n",
            "Total Number of Instances              214     \n",
            "\n"
          ]
        }
      ]
    },
    {
      "cell_type": "markdown",
      "source": [
        "### Adding StackingC classifiers "
      ],
      "metadata": {
        "id": "jhaCiEpymymD"
      }
    },
    {
      "cell_type": "code",
      "source": [
        "#1 IBK Algorithm \n",
        "#K-nearest neighbours classifier. Can select appropriate value of K based on cross-validation. Can also do distance weighting.\n",
        "from weka.classifiers import Classifier\n",
        "\n",
        "cls = Classifier(classname=\"weka.classifiers.lazy.IBk\")\n",
        "cls.build_classifier(data)\n",
        "\n",
        "for index, inst in enumerate(data):\n",
        "    pred = cls.classify_instance(inst)\n",
        "    dist = cls.distribution_for_instance(inst)\n",
        "    #print(str(index+1) + \": label index=\" + str(pred) + \", class distribution=\" + str(dist))\n",
        "\n",
        "evaluat(classifier=cls, data=data, fold=10)"
      ],
      "metadata": {
        "colab": {
          "base_uri": "https://localhost:8080/"
        },
        "id": "icG9HegHmyQM",
        "outputId": "f5d93980-58ef-485a-ebf8-aeafea6933c3"
      },
      "execution_count": null,
      "outputs": [
        {
          "output_type": "stream",
          "name": "stdout",
          "text": [
            "\n",
            "Correctly Classified Instances         146               68.2243 %\n",
            "Incorrectly Classified Instances        68               31.7757 %\n",
            "Kappa statistic                          0.5702\n",
            "Mean absolute error                      0.0962\n",
            "Root mean squared error                  0.2963\n",
            "Relative absolute error                 45.4183 %\n",
            "Root relative squared error             91.2901 %\n",
            "Total Number of Instances              214     \n",
            "\n"
          ]
        }
      ]
    },
    {
      "cell_type": "code",
      "source": [
        "#2 K* classifier \n",
        "# K* is an instance-based classifier, that is the class of a test instance is based upon the class of those training instances similar to it, as determined by some similarity function. It differs from other instance-based learners in that it uses an entropy-based distance function.\n",
        "cls = Classifier(classname=\"weka.classifiers.lazy.KStar\")\n",
        "cls.build_classifier(data)\n",
        "\n",
        "for index, inst in enumerate(data):\n",
        "    pred = cls.classify_instance(inst)\n",
        "    dist = cls.distribution_for_instance(inst)\n",
        "    #print(str(index+1) + \": label index=\" + str(pred) + \", class distribution=\" + str(dist))\n",
        "\n",
        "evaluat(classifier=cls, data=data, fold=10)"
      ],
      "metadata": {
        "id": "IwHNd4vtI5y_",
        "colab": {
          "base_uri": "https://localhost:8080/",
          "height": 415
        },
        "outputId": "42025c64-3a21-4748-e964-61dd6f67da35"
      },
      "execution_count": 29,
      "outputs": [
        {
          "output_type": "error",
          "ename": "AttributeError",
          "evalue": "ignored",
          "traceback": [
            "\u001b[0;31m---------------------------------------------------------------------------\u001b[0m",
            "\u001b[0;31mAttributeError\u001b[0m                            Traceback (most recent call last)",
            "\u001b[0;32m<ipython-input-29-364401654cae>\u001b[0m in \u001b[0;36m<module>\u001b[0;34m()\u001b[0m\n\u001b[1;32m      1\u001b[0m \u001b[0;31m#2 K* classifier\u001b[0m\u001b[0;34m\u001b[0m\u001b[0;34m\u001b[0m\u001b[0;34m\u001b[0m\u001b[0m\n\u001b[1;32m      2\u001b[0m \u001b[0;31m# K* is an instance-based classifier, that is the class of a test instance is based upon the class of those training instances similar to it, as determined by some similarity function. It differs from other instance-based learners in that it uses an entropy-based distance function.\u001b[0m\u001b[0;34m\u001b[0m\u001b[0;34m\u001b[0m\u001b[0;34m\u001b[0m\u001b[0m\n\u001b[0;32m----> 3\u001b[0;31m \u001b[0mcls\u001b[0m \u001b[0;34m=\u001b[0m \u001b[0mClassifier\u001b[0m\u001b[0;34m(\u001b[0m\u001b[0mclassname\u001b[0m\u001b[0;34m=\u001b[0m\u001b[0;34m\"weka.classifiers.lazy.KStar\"\u001b[0m\u001b[0;34m)\u001b[0m\u001b[0;34m\u001b[0m\u001b[0;34m\u001b[0m\u001b[0m\n\u001b[0m\u001b[1;32m      4\u001b[0m \u001b[0mcls\u001b[0m\u001b[0;34m.\u001b[0m\u001b[0mbuild_classifier\u001b[0m\u001b[0;34m(\u001b[0m\u001b[0mdata\u001b[0m\u001b[0;34m)\u001b[0m\u001b[0;34m\u001b[0m\u001b[0;34m\u001b[0m\u001b[0m\n\u001b[1;32m      5\u001b[0m \u001b[0;34m\u001b[0m\u001b[0m\n",
            "\u001b[0;32m/usr/local/lib/python3.7/dist-packages/weka/classifiers.py\u001b[0m in \u001b[0;36m__init__\u001b[0;34m(self, classname, jobject, options)\u001b[0m\n\u001b[1;32m     55\u001b[0m         \"\"\"\n\u001b[1;32m     56\u001b[0m         \u001b[0;32mif\u001b[0m \u001b[0mjobject\u001b[0m \u001b[0;32mis\u001b[0m \u001b[0;32mNone\u001b[0m\u001b[0;34m:\u001b[0m\u001b[0;34m\u001b[0m\u001b[0;34m\u001b[0m\u001b[0m\n\u001b[0;32m---> 57\u001b[0;31m             \u001b[0mjobject\u001b[0m \u001b[0;34m=\u001b[0m \u001b[0mClassifier\u001b[0m\u001b[0;34m.\u001b[0m\u001b[0mnew_instance\u001b[0m\u001b[0;34m(\u001b[0m\u001b[0mclassname\u001b[0m\u001b[0;34m)\u001b[0m\u001b[0;34m\u001b[0m\u001b[0;34m\u001b[0m\u001b[0m\n\u001b[0m\u001b[1;32m     58\u001b[0m         \u001b[0mself\u001b[0m\u001b[0;34m.\u001b[0m\u001b[0menforce_type\u001b[0m\u001b[0;34m(\u001b[0m\u001b[0mjobject\u001b[0m\u001b[0;34m,\u001b[0m \u001b[0;34m\"weka.classifiers.Classifier\"\u001b[0m\u001b[0;34m)\u001b[0m\u001b[0;34m\u001b[0m\u001b[0;34m\u001b[0m\u001b[0m\n\u001b[1;32m     59\u001b[0m         \u001b[0mself\u001b[0m\u001b[0;34m.\u001b[0m\u001b[0mis_updateable\u001b[0m \u001b[0;34m=\u001b[0m \u001b[0mself\u001b[0m\u001b[0;34m.\u001b[0m\u001b[0mcheck_type\u001b[0m\u001b[0;34m(\u001b[0m\u001b[0mjobject\u001b[0m\u001b[0;34m,\u001b[0m \u001b[0;34m\"weka.classifiers.UpdateableClassifier\"\u001b[0m\u001b[0;34m)\u001b[0m\u001b[0;34m\u001b[0m\u001b[0;34m\u001b[0m\u001b[0m\n",
            "\u001b[0;32m/usr/local/lib/python3.7/dist-packages/weka/core/classes.py\u001b[0m in \u001b[0;36mnew_instance\u001b[0;34m(cls, classname, options)\u001b[0m\n\u001b[1;32m    888\u001b[0m                 \u001b[0;34m\"Lweka/core/Utils;\"\u001b[0m\u001b[0;34m,\u001b[0m \u001b[0;34m\"forName\"\u001b[0m\u001b[0;34m,\u001b[0m\u001b[0;34m\u001b[0m\u001b[0;34m\u001b[0m\u001b[0m\n\u001b[1;32m    889\u001b[0m                 \u001b[0;34m\"(Ljava/lang/Class;Ljava/lang/String;[Ljava/lang/String;)Ljava/lang/Object;\"\u001b[0m\u001b[0;34m,\u001b[0m\u001b[0;34m\u001b[0m\u001b[0;34m\u001b[0m\u001b[0m\n\u001b[0;32m--> 890\u001b[0;31m                 javabridge.class_for_name(\"java.lang.Object\"), classname, options)\n\u001b[0m\u001b[1;32m    891\u001b[0m         \u001b[0;32mexcept\u001b[0m \u001b[0mJavaException\u001b[0m \u001b[0;32mas\u001b[0m \u001b[0me\u001b[0m\u001b[0;34m:\u001b[0m\u001b[0;34m\u001b[0m\u001b[0;34m\u001b[0m\u001b[0m\n\u001b[1;32m    892\u001b[0m             \u001b[0mprint\u001b[0m\u001b[0;34m(\u001b[0m\u001b[0;34m\"Failed to instantiate \"\u001b[0m \u001b[0;34m+\u001b[0m \u001b[0mclassname\u001b[0m \u001b[0;34m+\u001b[0m \u001b[0;34m\": \"\u001b[0m \u001b[0;34m+\u001b[0m \u001b[0mstr\u001b[0m\u001b[0;34m(\u001b[0m\u001b[0me\u001b[0m\u001b[0;34m)\u001b[0m\u001b[0;34m)\u001b[0m\u001b[0;34m\u001b[0m\u001b[0;34m\u001b[0m\u001b[0m\n",
            "\u001b[0;32m/usr/local/lib/python3.7/dist-packages/javabridge/jutil.py\u001b[0m in \u001b[0;36mclass_for_name\u001b[0;34m(classname, ldr)\u001b[0m\n\u001b[1;32m   1742\u001b[0m     \u001b[0;32mif\u001b[0m \u001b[0mldr\u001b[0m \u001b[0;34m==\u001b[0m \u001b[0;34m\"system\"\u001b[0m\u001b[0;34m:\u001b[0m\u001b[0;34m\u001b[0m\u001b[0;34m\u001b[0m\u001b[0m\n\u001b[1;32m   1743\u001b[0m         ldr = static_call('java/lang/ClassLoader', 'getSystemClassLoader',\n\u001b[0;32m-> 1744\u001b[0;31m                           '()Ljava/lang/ClassLoader;')\n\u001b[0m\u001b[1;32m   1745\u001b[0m     return static_call('java/lang/Class', 'forName', \n\u001b[1;32m   1746\u001b[0m                        \u001b[0;34m'(Ljava/lang/String;ZLjava/lang/ClassLoader;)'\u001b[0m\u001b[0;34m\u001b[0m\u001b[0;34m\u001b[0m\u001b[0m\n",
            "\u001b[0;32m/usr/local/lib/python3.7/dist-packages/javabridge/jutil.py\u001b[0m in \u001b[0;36mstatic_call\u001b[0;34m(class_name, method_name, sig, *args)\u001b[0m\n\u001b[1;32m    937\u001b[0m     '''\n\u001b[1;32m    938\u001b[0m     \u001b[0menv\u001b[0m \u001b[0;34m=\u001b[0m \u001b[0mget_env\u001b[0m\u001b[0;34m(\u001b[0m\u001b[0;34m)\u001b[0m\u001b[0;34m\u001b[0m\u001b[0;34m\u001b[0m\u001b[0m\n\u001b[0;32m--> 939\u001b[0;31m     \u001b[0mfn\u001b[0m \u001b[0;34m=\u001b[0m \u001b[0mmake_static_call\u001b[0m\u001b[0;34m(\u001b[0m\u001b[0mclass_name\u001b[0m\u001b[0;34m,\u001b[0m \u001b[0mmethod_name\u001b[0m\u001b[0;34m,\u001b[0m \u001b[0msig\u001b[0m\u001b[0;34m)\u001b[0m\u001b[0;34m\u001b[0m\u001b[0;34m\u001b[0m\u001b[0m\n\u001b[0m\u001b[1;32m    940\u001b[0m     \u001b[0margs_sig\u001b[0m \u001b[0;34m=\u001b[0m \u001b[0msplit_sig\u001b[0m\u001b[0;34m(\u001b[0m\u001b[0msig\u001b[0m\u001b[0;34m[\u001b[0m\u001b[0;36m1\u001b[0m\u001b[0;34m:\u001b[0m\u001b[0msig\u001b[0m\u001b[0;34m.\u001b[0m\u001b[0mfind\u001b[0m\u001b[0;34m(\u001b[0m\u001b[0;34m')'\u001b[0m\u001b[0;34m)\u001b[0m\u001b[0;34m]\u001b[0m\u001b[0;34m)\u001b[0m\u001b[0;34m\u001b[0m\u001b[0;34m\u001b[0m\u001b[0m\n\u001b[1;32m    941\u001b[0m     \u001b[0mret_sig\u001b[0m \u001b[0;34m=\u001b[0m \u001b[0msig\u001b[0m\u001b[0;34m[\u001b[0m\u001b[0msig\u001b[0m\u001b[0;34m.\u001b[0m\u001b[0mfind\u001b[0m\u001b[0;34m(\u001b[0m\u001b[0;34m')'\u001b[0m\u001b[0;34m)\u001b[0m\u001b[0;34m+\u001b[0m\u001b[0;36m1\u001b[0m\u001b[0;34m:\u001b[0m\u001b[0;34m]\u001b[0m\u001b[0;34m\u001b[0m\u001b[0;34m\u001b[0m\u001b[0m\n",
            "\u001b[0;32m/usr/local/lib/python3.7/dist-packages/javabridge/jutil.py\u001b[0m in \u001b[0;36mmake_static_call\u001b[0;34m(class_name, method_name, sig)\u001b[0m\n\u001b[1;32m    908\u001b[0m     '''\n\u001b[1;32m    909\u001b[0m     \u001b[0menv\u001b[0m \u001b[0;34m=\u001b[0m \u001b[0mget_env\u001b[0m\u001b[0;34m(\u001b[0m\u001b[0;34m)\u001b[0m\u001b[0;34m\u001b[0m\u001b[0;34m\u001b[0m\u001b[0m\n\u001b[0;32m--> 910\u001b[0;31m     \u001b[0mklass\u001b[0m \u001b[0;34m=\u001b[0m \u001b[0menv\u001b[0m\u001b[0;34m.\u001b[0m\u001b[0mfind_class\u001b[0m\u001b[0;34m(\u001b[0m\u001b[0mclass_name\u001b[0m\u001b[0;34m)\u001b[0m\u001b[0;34m\u001b[0m\u001b[0;34m\u001b[0m\u001b[0m\n\u001b[0m\u001b[1;32m    911\u001b[0m     \u001b[0;32mif\u001b[0m \u001b[0mklass\u001b[0m \u001b[0;32mis\u001b[0m \u001b[0;32mNone\u001b[0m\u001b[0;34m:\u001b[0m\u001b[0;34m\u001b[0m\u001b[0;34m\u001b[0m\u001b[0m\n\u001b[1;32m    912\u001b[0m         \u001b[0mjexception\u001b[0m \u001b[0;34m=\u001b[0m \u001b[0mget_env\u001b[0m\u001b[0;34m(\u001b[0m\u001b[0;34m)\u001b[0m\u001b[0;34m.\u001b[0m\u001b[0mexception_occurred\u001b[0m\u001b[0;34m(\u001b[0m\u001b[0;34m)\u001b[0m\u001b[0;34m\u001b[0m\u001b[0;34m\u001b[0m\u001b[0m\n",
            "\u001b[0;31mAttributeError\u001b[0m: 'NoneType' object has no attribute 'find_class'"
          ]
        }
      ]
    },
    {
      "cell_type": "code",
      "source": [
        "#3 MMT classifier \n",
        "\n",
        "from weka.filters import Filter\n",
        "import weka.core.converters as converters\n",
        "data = converters.load_any_file(\"glass.arff\")\n",
        "nominal = Filter(classname=\"weka.filters.unsupervised.attribute.NumericToNominal\", options=[\"-R\", \"last\"])\n",
        "nominal.inputformat(data)\n",
        "nominal_data = nominal.filter(data)\n",
        "nominal_data.class_is_last()\n",
        "\n",
        "#data.class_is_last()\n",
        "\n",
        "\n",
        "cls = Classifier(classname=\"weka.classifiers.trees.M5P\")\n",
        "cls.build_classifier(nominal_data)\n",
        "\n",
        "\n",
        "\n",
        "evaluat(classifier=cls, data=data, fold=10)"
      ],
      "metadata": {
        "colab": {
          "base_uri": "https://localhost:8080/",
          "height": 396
        },
        "id": "9re6H7F4RkMQ",
        "outputId": "52a7189a-f524-4fe2-8824-a9c602d4b45f"
      },
      "execution_count": null,
      "outputs": [
        {
          "output_type": "error",
          "ename": "JavaException",
          "evalue": "ignored",
          "traceback": [
            "\u001b[0;31m---------------------------------------------------------------------------\u001b[0m",
            "\u001b[0;31mJavaException\u001b[0m                             Traceback (most recent call last)",
            "\u001b[0;32m<ipython-input-105-b2f11b7d0014>\u001b[0m in \u001b[0;36m<module>\u001b[0;34m()\u001b[0m\n\u001b[1;32m      4\u001b[0m \u001b[0;32mimport\u001b[0m \u001b[0mweka\u001b[0m\u001b[0;34m.\u001b[0m\u001b[0mcore\u001b[0m\u001b[0;34m.\u001b[0m\u001b[0mconverters\u001b[0m \u001b[0;32mas\u001b[0m \u001b[0mconverters\u001b[0m\u001b[0;34m\u001b[0m\u001b[0;34m\u001b[0m\u001b[0m\n\u001b[1;32m      5\u001b[0m \u001b[0mdata\u001b[0m \u001b[0;34m=\u001b[0m \u001b[0mconverters\u001b[0m\u001b[0;34m.\u001b[0m\u001b[0mload_any_file\u001b[0m\u001b[0;34m(\u001b[0m\u001b[0;34m\"glass.arff\"\u001b[0m\u001b[0;34m)\u001b[0m\u001b[0;34m\u001b[0m\u001b[0;34m\u001b[0m\u001b[0m\n\u001b[0;32m----> 6\u001b[0;31m \u001b[0mnominal\u001b[0m \u001b[0;34m=\u001b[0m \u001b[0mFilter\u001b[0m\u001b[0;34m(\u001b[0m\u001b[0mclassname\u001b[0m\u001b[0;34m=\u001b[0m\u001b[0;34m\"weka.filters.unsupervised.attribute.NumericToNominal\"\u001b[0m\u001b[0;34m,\u001b[0m \u001b[0moptions\u001b[0m\u001b[0;34m=\u001b[0m\u001b[0;34m[\u001b[0m\u001b[0;34m\"-c\"\u001b[0m\u001b[0;34m]\u001b[0m\u001b[0;34m)\u001b[0m\u001b[0;34m\u001b[0m\u001b[0;34m\u001b[0m\u001b[0m\n\u001b[0m\u001b[1;32m      7\u001b[0m \u001b[0mnominal\u001b[0m\u001b[0;34m.\u001b[0m\u001b[0minputformat\u001b[0m\u001b[0;34m(\u001b[0m\u001b[0mdata\u001b[0m\u001b[0;34m)\u001b[0m\u001b[0;34m\u001b[0m\u001b[0;34m\u001b[0m\u001b[0m\n\u001b[1;32m      8\u001b[0m \u001b[0mnominal_data\u001b[0m \u001b[0;34m=\u001b[0m \u001b[0mnominal\u001b[0m\u001b[0;34m.\u001b[0m\u001b[0mfilter\u001b[0m\u001b[0;34m(\u001b[0m\u001b[0mdata\u001b[0m\u001b[0;34m)\u001b[0m\u001b[0;34m\u001b[0m\u001b[0;34m\u001b[0m\u001b[0m\n",
            "\u001b[0;32m/usr/local/lib/python3.7/dist-packages/weka/filters.py\u001b[0m in \u001b[0;36m__init__\u001b[0;34m(self, classname, jobject, options)\u001b[0m\n\u001b[1;32m     57\u001b[0m             \u001b[0mjobject\u001b[0m \u001b[0;34m=\u001b[0m \u001b[0mFilter\u001b[0m\u001b[0;34m.\u001b[0m\u001b[0mnew_instance\u001b[0m\u001b[0;34m(\u001b[0m\u001b[0mclassname\u001b[0m\u001b[0;34m)\u001b[0m\u001b[0;34m\u001b[0m\u001b[0;34m\u001b[0m\u001b[0m\n\u001b[1;32m     58\u001b[0m         \u001b[0mself\u001b[0m\u001b[0;34m.\u001b[0m\u001b[0menforce_type\u001b[0m\u001b[0;34m(\u001b[0m\u001b[0mjobject\u001b[0m\u001b[0;34m,\u001b[0m \u001b[0;34m\"weka.filters.Filter\"\u001b[0m\u001b[0;34m)\u001b[0m\u001b[0;34m\u001b[0m\u001b[0;34m\u001b[0m\u001b[0m\n\u001b[0;32m---> 59\u001b[0;31m         \u001b[0msuper\u001b[0m\u001b[0;34m(\u001b[0m\u001b[0mFilter\u001b[0m\u001b[0;34m,\u001b[0m \u001b[0mself\u001b[0m\u001b[0;34m)\u001b[0m\u001b[0;34m.\u001b[0m\u001b[0m__init__\u001b[0m\u001b[0;34m(\u001b[0m\u001b[0mjobject\u001b[0m\u001b[0;34m=\u001b[0m\u001b[0mjobject\u001b[0m\u001b[0;34m,\u001b[0m \u001b[0moptions\u001b[0m\u001b[0;34m=\u001b[0m\u001b[0moptions\u001b[0m\u001b[0;34m)\u001b[0m\u001b[0;34m\u001b[0m\u001b[0;34m\u001b[0m\u001b[0m\n\u001b[0m\u001b[1;32m     60\u001b[0m \u001b[0;34m\u001b[0m\u001b[0m\n\u001b[1;32m     61\u001b[0m     \u001b[0;32mdef\u001b[0m \u001b[0m_make_calls\u001b[0m\u001b[0;34m(\u001b[0m\u001b[0mself\u001b[0m\u001b[0;34m)\u001b[0m\u001b[0;34m:\u001b[0m\u001b[0;34m\u001b[0m\u001b[0;34m\u001b[0m\u001b[0m\n",
            "\u001b[0;32m/usr/local/lib/python3.7/dist-packages/weka/core/classes.py\u001b[0m in \u001b[0;36m__init__\u001b[0;34m(self, jobject, options)\u001b[0m\n\u001b[1;32m   1294\u001b[0m         \u001b[0mself\u001b[0m\u001b[0;34m.\u001b[0m\u001b[0mis_optionhandler\u001b[0m \u001b[0;34m=\u001b[0m \u001b[0mOptionHandler\u001b[0m\u001b[0;34m.\u001b[0m\u001b[0mcheck_type\u001b[0m\u001b[0;34m(\u001b[0m\u001b[0mjobject\u001b[0m\u001b[0;34m,\u001b[0m \u001b[0;34m\"weka.core.OptionHandler\"\u001b[0m\u001b[0;34m)\u001b[0m\u001b[0;34m\u001b[0m\u001b[0;34m\u001b[0m\u001b[0m\n\u001b[1;32m   1295\u001b[0m         \u001b[0;32mif\u001b[0m \u001b[0;34m(\u001b[0m\u001b[0moptions\u001b[0m \u001b[0;32mis\u001b[0m \u001b[0;32mnot\u001b[0m \u001b[0;32mNone\u001b[0m\u001b[0;34m)\u001b[0m \u001b[0;32mand\u001b[0m \u001b[0;34m(\u001b[0m\u001b[0mlen\u001b[0m\u001b[0;34m(\u001b[0m\u001b[0moptions\u001b[0m\u001b[0;34m)\u001b[0m \u001b[0;34m>\u001b[0m \u001b[0;36m0\u001b[0m\u001b[0;34m)\u001b[0m\u001b[0;34m:\u001b[0m\u001b[0;34m\u001b[0m\u001b[0;34m\u001b[0m\u001b[0m\n\u001b[0;32m-> 1296\u001b[0;31m             \u001b[0mself\u001b[0m\u001b[0;34m.\u001b[0m\u001b[0moptions\u001b[0m \u001b[0;34m=\u001b[0m \u001b[0moptions\u001b[0m\u001b[0;34m\u001b[0m\u001b[0;34m\u001b[0m\u001b[0m\n\u001b[0m\u001b[1;32m   1297\u001b[0m         \u001b[0;31m# we have to manually instantiate some objects, since multiple inheritance doesn't call\u001b[0m\u001b[0;34m\u001b[0m\u001b[0;34m\u001b[0m\u001b[0;34m\u001b[0m\u001b[0m\n\u001b[1;32m   1298\u001b[0m         \u001b[0;31m# Configurable constructor\u001b[0m\u001b[0;34m\u001b[0m\u001b[0;34m\u001b[0m\u001b[0;34m\u001b[0m\u001b[0m\n",
            "\u001b[0;32m/usr/local/lib/python3.7/dist-packages/weka/core/classes.py\u001b[0m in \u001b[0;36moptions\u001b[0;34m(self, options)\u001b[0m\n\u001b[1;32m   1345\u001b[0m         \"\"\"\n\u001b[1;32m   1346\u001b[0m         \u001b[0;32mif\u001b[0m \u001b[0mself\u001b[0m\u001b[0;34m.\u001b[0m\u001b[0mis_optionhandler\u001b[0m\u001b[0;34m:\u001b[0m\u001b[0;34m\u001b[0m\u001b[0;34m\u001b[0m\u001b[0m\n\u001b[0;32m-> 1347\u001b[0;31m             \u001b[0mjavabridge\u001b[0m\u001b[0;34m.\u001b[0m\u001b[0mcall\u001b[0m\u001b[0;34m(\u001b[0m\u001b[0mself\u001b[0m\u001b[0;34m.\u001b[0m\u001b[0mjobject\u001b[0m\u001b[0;34m,\u001b[0m \u001b[0;34m\"setOptions\"\u001b[0m\u001b[0;34m,\u001b[0m \u001b[0;34m\"([Ljava/lang/String;)V\"\u001b[0m\u001b[0;34m,\u001b[0m \u001b[0mtypeconv\u001b[0m\u001b[0;34m.\u001b[0m\u001b[0mstring_list_to_jarray\u001b[0m\u001b[0;34m(\u001b[0m\u001b[0moptions\u001b[0m\u001b[0;34m)\u001b[0m\u001b[0;34m)\u001b[0m\u001b[0;34m\u001b[0m\u001b[0;34m\u001b[0m\u001b[0m\n\u001b[0m\u001b[1;32m   1348\u001b[0m \u001b[0;34m\u001b[0m\u001b[0m\n\u001b[1;32m   1349\u001b[0m     \u001b[0;32mdef\u001b[0m \u001b[0mto_commandline\u001b[0m\u001b[0;34m(\u001b[0m\u001b[0mself\u001b[0m\u001b[0;34m)\u001b[0m\u001b[0;34m:\u001b[0m\u001b[0;34m\u001b[0m\u001b[0;34m\u001b[0m\u001b[0m\n",
            "\u001b[0;32m/usr/local/lib/python3.7/dist-packages/javabridge/jutil.py\u001b[0m in \u001b[0;36mcall\u001b[0;34m(o, method_name, sig, *args)\u001b[0m\n\u001b[1;32m    890\u001b[0m     \u001b[0mret_sig\u001b[0m \u001b[0;34m=\u001b[0m \u001b[0msig\u001b[0m\u001b[0;34m[\u001b[0m\u001b[0msig\u001b[0m\u001b[0;34m.\u001b[0m\u001b[0mfind\u001b[0m\u001b[0;34m(\u001b[0m\u001b[0;34m')'\u001b[0m\u001b[0;34m)\u001b[0m\u001b[0;34m+\u001b[0m\u001b[0;36m1\u001b[0m\u001b[0;34m:\u001b[0m\u001b[0;34m]\u001b[0m\u001b[0;34m\u001b[0m\u001b[0;34m\u001b[0m\u001b[0m\n\u001b[1;32m    891\u001b[0m     \u001b[0mnice_args\u001b[0m \u001b[0;34m=\u001b[0m \u001b[0mget_nice_args\u001b[0m\u001b[0;34m(\u001b[0m\u001b[0margs\u001b[0m\u001b[0;34m,\u001b[0m \u001b[0margs_sig\u001b[0m\u001b[0;34m)\u001b[0m\u001b[0;34m\u001b[0m\u001b[0;34m\u001b[0m\u001b[0m\n\u001b[0;32m--> 892\u001b[0;31m     \u001b[0mresult\u001b[0m \u001b[0;34m=\u001b[0m \u001b[0mfn\u001b[0m\u001b[0;34m(\u001b[0m\u001b[0;34m*\u001b[0m\u001b[0mnice_args\u001b[0m\u001b[0;34m)\u001b[0m\u001b[0;34m\u001b[0m\u001b[0;34m\u001b[0m\u001b[0m\n\u001b[0m\u001b[1;32m    893\u001b[0m     \u001b[0mx\u001b[0m \u001b[0;34m=\u001b[0m \u001b[0menv\u001b[0m\u001b[0;34m.\u001b[0m\u001b[0mexception_occurred\u001b[0m\u001b[0;34m(\u001b[0m\u001b[0;34m)\u001b[0m\u001b[0;34m\u001b[0m\u001b[0;34m\u001b[0m\u001b[0m\n\u001b[1;32m    894\u001b[0m     \u001b[0;32mif\u001b[0m \u001b[0mx\u001b[0m \u001b[0;32mis\u001b[0m \u001b[0;32mnot\u001b[0m \u001b[0;32mNone\u001b[0m\u001b[0;34m:\u001b[0m\u001b[0;34m\u001b[0m\u001b[0;34m\u001b[0m\u001b[0m\n",
            "\u001b[0;32m/usr/local/lib/python3.7/dist-packages/javabridge/jutil.py\u001b[0m in \u001b[0;36mfn\u001b[0;34m(*args)\u001b[0m\n\u001b[1;32m    857\u001b[0m             \u001b[0mx\u001b[0m \u001b[0;34m=\u001b[0m \u001b[0menv\u001b[0m\u001b[0;34m.\u001b[0m\u001b[0mexception_occurred\u001b[0m\u001b[0;34m(\u001b[0m\u001b[0;34m)\u001b[0m\u001b[0;34m\u001b[0m\u001b[0;34m\u001b[0m\u001b[0m\n\u001b[1;32m    858\u001b[0m             \u001b[0;32mif\u001b[0m \u001b[0mx\u001b[0m \u001b[0;32mis\u001b[0m \u001b[0;32mnot\u001b[0m \u001b[0;32mNone\u001b[0m\u001b[0;34m:\u001b[0m\u001b[0;34m\u001b[0m\u001b[0;34m\u001b[0m\u001b[0m\n\u001b[0;32m--> 859\u001b[0;31m                 \u001b[0;32mraise\u001b[0m \u001b[0mJavaException\u001b[0m\u001b[0;34m(\u001b[0m\u001b[0mx\u001b[0m\u001b[0;34m)\u001b[0m\u001b[0;34m\u001b[0m\u001b[0;34m\u001b[0m\u001b[0m\n\u001b[0m\u001b[1;32m    860\u001b[0m             \u001b[0;32mreturn\u001b[0m \u001b[0mresult\u001b[0m\u001b[0;34m\u001b[0m\u001b[0;34m\u001b[0m\u001b[0m\n\u001b[1;32m    861\u001b[0m     \u001b[0;32melse\u001b[0m\u001b[0;34m:\u001b[0m\u001b[0;34m\u001b[0m\u001b[0;34m\u001b[0m\u001b[0m\n",
            "\u001b[0;31mJavaException\u001b[0m: Illegal options: -c "
          ]
        }
      ]
    }
  ]
}