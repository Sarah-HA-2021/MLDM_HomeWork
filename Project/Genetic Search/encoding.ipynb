{
  "nbformat": 4,
  "nbformat_minor": 0,
  "metadata": {
    "colab": {
      "name": "Copy of genetic_algorithm.ipynb",
      "provenance": [],
      "collapsed_sections": []
    },
    "kernelspec": {
      "name": "python3",
      "display_name": "Python 3"
    },
    "language_info": {
      "name": "python"
    }
  },
  "cells": [
    {
      "cell_type": "code",
      "source": [
        "# evaluation function \n",
        "from weka.classifiers import Classifier, Evaluation\n",
        "from weka.core.classes import Random\n",
        "\n",
        "def evaluat (classifier, data, fold):\n",
        "  evaluation = Evaluation(data)                     # initialize with priors\n",
        "  evaluation.crossvalidate_model(classifier, data, fold, Random(42))  # 10-fold CV\n",
        "  print(evaluation.summary())"
      ],
      "metadata": {
        "id": "PzIaR837q_v8"
      },
      "execution_count": 60,
      "outputs": []
    },
    {
      "cell_type": "markdown",
      "source": [
        "#Encoding Base classifiers \n",
        "\n",
        "\n",
        "1.   Naive Bayes\n",
        "2.   PART\n",
        "3.   C4.5\n",
        "4.   C4.5 using unpruned tree\n",
        "5.   Decision Stump\n",
        "6.   Decision Table\n",
        "7.   Decision Table using the nearest neighbour instead of global table majority\n",
        "8.   Classification Via Regression\n",
        "9.   Random Forest\n",
        "10.  Random Tree\n",
        "11.  VFI\n",
        "12.  Conjunctive Rule\n",
        "13.  JRip\n",
        "14.  Nnge\n",
        "15.  HyperPipes\n",
        "\n",
        "\n",
        "\n",
        "\n",
        "\n",
        "\n",
        "\n",
        "\n",
        "\n",
        "\n",
        "\n",
        "\n",
        "\n",
        "\n",
        "\n"
      ],
      "metadata": {
        "id": "2vIDTyxJFVc4"
      }
    },
    {
      "cell_type": "code",
      "source": [
        "# encoding \n",
        "Algorithms_names=['Naive Bayes',\n",
        "'PART',\n",
        "'C4.5',\n",
        "'C4.5 using unpruned tree',\n",
        "'Decision Stump',\n",
        "'Decision Table',\n",
        "'Decision Table using the nearest neighbour instead of global table majority',\n",
        "'Classification Via Regression',\n",
        "'Random Forest',\n",
        "'Random Tree',\n",
        "'VFI',\n",
        "'Conjunctive Rule',\n",
        "'JRip',\n",
        "'Nnge',\n",
        "'HyperPipes']\n",
        "\n",
        "# encoding \n",
        "Algorithms_weka_names=['Naive Bayes',\n",
        "'PART',\n",
        "'C4.5',\n",
        "'C4.5 using unpruned tree',\n",
        "'Decision Stump',\n",
        "'Decision Table',\n",
        "'Decision Table using the nearest neighbour instead of global table majority',\n",
        "'Classification Via Regression',\n",
        "'Random Forest',\n",
        "'Random Tree',\n",
        "'VFI',\n",
        "'Conjunctive Rule',\n",
        "'JRip',\n",
        "'Nnge',\n",
        "'HyperPipes']"
      ],
      "metadata": {
        "id": "CwFu8DPgEugw"
      },
      "execution_count": 61,
      "outputs": []
    },
    {
      "cell_type": "code",
      "source": [
        "!pip install numpy\n",
        "!pip install python-javabridge\n",
        "!pip install python-weka-wrapper3"
      ],
      "metadata": {
        "colab": {
          "base_uri": "https://localhost:8080/"
        },
        "id": "Tdvs47WCXbpu",
        "outputId": "e4a984b0-6d2a-42d9-a977-452df102e2ad"
      },
      "execution_count": 62,
      "outputs": [
        {
          "output_type": "stream",
          "name": "stdout",
          "text": [
            "Requirement already satisfied: numpy in /usr/local/lib/python3.7/dist-packages (1.21.5)\n",
            "Requirement already satisfied: python-javabridge in /usr/local/lib/python3.7/dist-packages (4.0.3)\n",
            "Requirement already satisfied: numpy>=1.20.1 in /usr/local/lib/python3.7/dist-packages (from python-javabridge) (1.21.5)\n",
            "Requirement already satisfied: python-weka-wrapper3 in /usr/local/lib/python3.7/dist-packages (0.2.5)\n",
            "Requirement already satisfied: python-javabridge>=4.0.0 in /usr/local/lib/python3.7/dist-packages (from python-weka-wrapper3) (4.0.3)\n",
            "Requirement already satisfied: packaging in /usr/local/lib/python3.7/dist-packages (from python-weka-wrapper3) (21.3)\n",
            "Requirement already satisfied: numpy in /usr/local/lib/python3.7/dist-packages (from python-weka-wrapper3) (1.21.5)\n",
            "Requirement already satisfied: pyparsing!=3.0.5,>=2.0.2 in /usr/local/lib/python3.7/dist-packages (from packaging->python-weka-wrapper3) (3.0.6)\n"
          ]
        }
      ]
    },
    {
      "cell_type": "code",
      "source": [
        "# start jvm\n",
        "import weka.core.jvm as jvm\n",
        "\n",
        "jvm.start(packages=True)"
      ],
      "metadata": {
        "colab": {
          "base_uri": "https://localhost:8080/"
        },
        "id": "z66PMT7TX3an",
        "outputId": "f6ec7717-a798-43bb-aad6-d40c92288b77"
      },
      "execution_count": 4,
      "outputs": [
        {
          "output_type": "stream",
          "name": "stderr",
          "text": [
            "DEBUG:weka.core.jvm:Adding bundled jars\n",
            "DEBUG:weka.core.jvm:Classpath=['/usr/local/lib/python3.7/dist-packages/javabridge/jars/rhino-1.7R4.jar', '/usr/local/lib/python3.7/dist-packages/javabridge/jars/runnablequeue.jar', '/usr/local/lib/python3.7/dist-packages/javabridge/jars/cpython.jar', '/usr/local/lib/python3.7/dist-packages/weka/lib/weka.jar', '/usr/local/lib/python3.7/dist-packages/weka/lib/python-weka-wrapper.jar']\n",
            "DEBUG:weka.core.jvm:MaxHeapSize=default\n",
            "DEBUG:weka.core.jvm:Package support enabled\n"
          ]
        }
      ]
    },
    {
      "cell_type": "code",
      "source": [
        "# data \n",
        "# glass dataset \n",
        "!wget https://storm.cis.fordham.edu/~gweiss/data-mining/weka-data/glass.arff\n",
        "import weka.core.converters as converters\n",
        "data = converters.load_any_file(\"glass.arff\")\n",
        "data.class_is_last()\n",
        "\n",
        "subset = data.subset(row_range='1-3') # print the first rows from the data\n",
        "#print(subset)"
      ],
      "metadata": {
        "colab": {
          "base_uri": "https://localhost:8080/"
        },
        "id": "b2hS5mMtYpdV",
        "outputId": "488fed80-f359-48d9-ef31-a2d53eae3b6f"
      },
      "execution_count": 63,
      "outputs": [
        {
          "output_type": "stream",
          "name": "stdout",
          "text": [
            "--2021-12-24 02:26:50--  https://storm.cis.fordham.edu/~gweiss/data-mining/weka-data/glass.arff\n",
            "Resolving storm.cis.fordham.edu (storm.cis.fordham.edu)... 150.108.68.26\n",
            "Connecting to storm.cis.fordham.edu (storm.cis.fordham.edu)|150.108.68.26|:443... connected.\n",
            "HTTP request sent, awaiting response... 200 OK\n",
            "Length: 17823 (17K) [text/plain]\n",
            "Saving to: ‘glass.arff.16’\n",
            "\n",
            "glass.arff.16       100%[===================>]  17.41K  --.-KB/s    in 0.07s   \n",
            "\n",
            "2021-12-24 02:26:51 (248 KB/s) - ‘glass.arff.16’ saved [17823/17823]\n",
            "\n"
          ]
        }
      ]
    },
    {
      "cell_type": "code",
      "source": [
        "# split into train and test \n",
        "from weka.core.classes import Random\n",
        "\n",
        "train, test = data.train_test_split(80.0, Random(1))\n",
        "print(len(train))\n",
        "print(len(test))\n",
        "train.subset(row_range='1-3')"
      ],
      "metadata": {
        "colab": {
          "base_uri": "https://localhost:8080/"
        },
        "id": "fHqsjDoCYQ7e",
        "outputId": "a911bd64-6cac-4eb1-aaa9-14a7b653607e"
      },
      "execution_count": 64,
      "outputs": [
        {
          "output_type": "stream",
          "name": "stdout",
          "text": [
            "171\n",
            "43\n"
          ]
        },
        {
          "output_type": "execute_result",
          "data": {
            "text/plain": [
              "@relation 'Glass-weka.filters.unsupervised.instance.RemoveRange-V-R1-3-weka.filters.MultiFilter-Fweka.filters.unsupervised.instance.RemoveRange -V -R 1-3'\n",
              "\n",
              "@attribute RI numeric\n",
              "@attribute Na numeric\n",
              "@attribute Mg numeric\n",
              "@attribute Al numeric\n",
              "@attribute Si numeric\n",
              "@attribute K numeric\n",
              "@attribute Ca numeric\n",
              "@attribute Ba numeric\n",
              "@attribute Fe numeric\n",
              "@attribute Type {'build wind float','build wind non-float','vehic wind float','vehic wind non-float',containers,tableware,headlamps}\n",
              "\n",
              "@data\n",
              "1.52121,14.03,3.76,0.58,71.79,0.11,9.65,0,0,'vehic wind float'\n",
              "1.51674,12.87,3.56,1.64,73.14,0.65,7.99,0,0,'build wind non-float'\n",
              "1.52119,12.97,0.33,1.51,73.39,0.13,11.27,0,0.28,containers"
            ]
          },
          "metadata": {},
          "execution_count": 64
        }
      ]
    },
    {
      "cell_type": "markdown",
      "source": [
        "# loading saved models"
      ],
      "metadata": {
        "id": "6YzPYr8TY7UB"
      }
    },
    {
      "cell_type": "code",
      "source": [
        "from weka.classifiers import Classifier, Evaluation\n",
        "outfile1 =\"j482.model\"\n",
        "model1, _ = Classifier.deserialize(outfile1)\n",
        "print(model1)"
      ],
      "metadata": {
        "colab": {
          "base_uri": "https://localhost:8080/"
        },
        "id": "5xHW29lBeGho",
        "outputId": "603a84ca-ac49-4c85-e8f9-0bbdc19f03cc"
      },
      "execution_count": 7,
      "outputs": [
        {
          "output_type": "stream",
          "name": "stdout",
          "text": [
            "J48 pruned tree\n",
            "------------------\n",
            "\n",
            "Ba <= 0.11\n",
            "|   Mg <= 2.39\n",
            "|   |   Na <= 13.99\n",
            "|   |   |   Al <= 1.38: build wind non-float (6.0/1.0)\n",
            "|   |   |   Al > 1.38\n",
            "|   |   |   |   Fe <= 0.08: containers (8.0)\n",
            "|   |   |   |   Fe > 0.08: build wind non-float (4.0/1.0)\n",
            "|   |   Na > 13.99\n",
            "|   |   |   K <= 0.05: tableware (8.0)\n",
            "|   |   |   K > 0.05: build wind non-float (2.0/1.0)\n",
            "|   Mg > 2.39\n",
            "|   |   Ca <= 8.31\n",
            "|   |   |   Al <= 1.4\n",
            "|   |   |   |   Mg <= 3.77\n",
            "|   |   |   |   |   RI <= 1.51694: build wind non-float (3.0/1.0)\n",
            "|   |   |   |   |   RI > 1.51694: build wind float (7.0)\n",
            "|   |   |   |   Mg > 3.77: build wind non-float (4.0)\n",
            "|   |   |   Al > 1.4: build wind non-float (32.0/1.0)\n",
            "|   |   Ca > 8.31\n",
            "|   |   |   RI <= 1.51707\n",
            "|   |   |   |   Si <= 72.72: vehic wind float (5.0)\n",
            "|   |   |   |   Si > 72.72\n",
            "|   |   |   |   |   RI <= 1.51655: build wind float (2.0/1.0)\n",
            "|   |   |   |   |   RI > 1.51655: build wind non-float (2.0)\n",
            "|   |   |   RI > 1.51707\n",
            "|   |   |   |   Fe <= 0.11\n",
            "|   |   |   |   |   Al <= 1.47\n",
            "|   |   |   |   |   |   Fe <= 0.01\n",
            "|   |   |   |   |   |   |   Al <= 1.11\n",
            "|   |   |   |   |   |   |   |   Mg <= 3.7: vehic wind float (3.0/1.0)\n",
            "|   |   |   |   |   |   |   |   Mg > 3.7\n",
            "|   |   |   |   |   |   |   |   |   RI <= 1.52152\n",
            "|   |   |   |   |   |   |   |   |   |   RI <= 1.52101: build wind float (2.0)\n",
            "|   |   |   |   |   |   |   |   |   |   RI > 1.52101: vehic wind float (2.0)\n",
            "|   |   |   |   |   |   |   |   |   RI > 1.52152: build wind float (6.0)\n",
            "|   |   |   |   |   |   |   Al > 1.11\n",
            "|   |   |   |   |   |   |   |   RI <= 1.51839: build wind float (18.0)\n",
            "|   |   |   |   |   |   |   |   RI > 1.51839\n",
            "|   |   |   |   |   |   |   |   |   Na <= 13.42: build wind non-float (4.0)\n",
            "|   |   |   |   |   |   |   |   |   Na > 13.42: build wind float (5.0/1.0)\n",
            "|   |   |   |   |   |   Fe > 0.01: build wind float (7.0)\n",
            "|   |   |   |   |   Al > 1.47: vehic wind float (4.0/1.0)\n",
            "|   |   |   |   Fe > 0.11\n",
            "|   |   |   |   |   Mg <= 3.6: build wind float (6.0)\n",
            "|   |   |   |   |   Mg > 3.6\n",
            "|   |   |   |   |   |   RI <= 1.51994: build wind non-float (8.0)\n",
            "|   |   |   |   |   |   RI > 1.51994: build wind float (3.0)\n",
            "Ba > 0.11\n",
            "|   Si <= 69.89: build wind non-float (2.0/1.0)\n",
            "|   Si > 69.89: headlamps (18.0)\n",
            "\n",
            "Number of Leaves  : \t26\n",
            "\n",
            "Size of the tree : \t51\n",
            "\n"
          ]
        }
      ]
    },
    {
      "cell_type": "code",
      "source": [
        "from weka.classifiers import Classifier, Evaluation\n",
        "outfile2 =\"naivBayes.model\"\n",
        "model2, _ = Classifier.deserialize(outfile2)\n",
        "print(model2)"
      ],
      "metadata": {
        "colab": {
          "base_uri": "https://localhost:8080/"
        },
        "id": "81YKYKZ-kznH",
        "outputId": "358470a9-f4c0-40c8-c110-e64ed26cb82d"
      },
      "execution_count": 8,
      "outputs": [
        {
          "output_type": "stream",
          "name": "stdout",
          "text": [
            "Naive Bayes Classifier\n",
            "\n",
            "                              Class\n",
            "Attribute          build wind float build wind non-float     vehic wind float vehic wind non-float           containers            tableware            headlamps\n",
            "                             (0.33)               (0.36)               (0.08)               (0.01)               (0.06)               (0.05)               (0.12)\n",
            "==================================================================================================================================================================\n",
            "RI\n",
            "  mean                         1.519               1.5186               1.5177                    0                1.518               1.5172                1.517\n",
            "  std. dev.                   0.0022               0.0036               0.0016                    0                0.003                0.003               0.0024\n",
            "  weight sum                      57                   63                   13                    0                   10                    8                   20\n",
            "  precision                   0.0001               0.0001               0.0001               0.0001               0.0001               0.0001               0.0001\n",
            "\n",
            "Na\n",
            "  mean                       13.2614              13.1569              13.4214                    0              12.8886              14.7512              14.4018\n",
            "  std. dev.                   0.5143               0.6874               0.4972               0.0094                 0.72               1.0295               0.7403\n",
            "  weight sum                      57                   63                   13                    0                   10                    8                   20\n",
            "  precision                   0.0564               0.0564               0.0564               0.0564               0.0564               0.0564               0.0564\n",
            "\n",
            "Mg\n",
            "  mean                        3.5488               3.0719                3.538                    0                0.662               1.1729               0.6159\n",
            "  std. dev.                   0.2686               1.2326               0.1653               0.0096               0.9712               1.0184               1.1165\n",
            "  weight sum                      57                   63                   13                    0                   10                    8                   20\n",
            "  precision                   0.0576               0.0576               0.0576               0.0576               0.0576               0.0576               0.0576\n",
            "\n",
            "Al\n",
            "  mean                        1.1345               1.4143               1.2106                    0                2.113               1.3868               2.0881\n",
            "  std. dev.                   0.2851               0.3287               0.3135               0.0052               0.7271               0.5664               0.4279\n",
            "  weight sum                      57                   63                   13                    0                   10                    8                   20\n",
            "  precision                   0.0312               0.0312               0.0312               0.0312               0.0312               0.0312               0.0312\n",
            "\n",
            "Si\n",
            "  mean                        72.576              72.5605              72.4167                    0              72.3492              73.2627              72.8878\n",
            "  std. dev.                   0.5844               0.6774               0.4485               0.0079               1.3893               1.0661               1.0751\n",
            "  weight sum                      57                   63                   13                    0                   10                    8                   20\n",
            "  precision                   0.0475               0.0475               0.0475               0.0475               0.0475               0.0475               0.0475\n",
            "\n",
            "K\n",
            "  mean                        0.4339               0.5268               0.4118                    0               1.7559                    0               0.4283\n",
            "  std. dev.                   0.2192               0.2092               0.2256               0.0178               2.2658               0.0178               0.7518\n",
            "  weight sum                      57                   63                   13                    0                   10                    8                   20\n",
            "  precision                   0.1071               0.1071               0.1071               0.1071               0.1071               0.1071               0.1071\n",
            "\n",
            "Ca\n",
            "  mean                        8.8773               8.9854               8.7911                    0               9.8121               9.3108               8.4207\n",
            "  std. dev.                   0.5869               1.8604               0.3915               0.0127               2.2327               1.4448               1.1261\n",
            "  weight sum                      57                   63                   13                    0                   10                    8                   20\n",
            "  precision                   0.0762               0.0762               0.0762               0.0762               0.0762               0.0762               0.0762\n",
            "\n",
            "Ba\n",
            "  mean                        0.0025               0.0523                    0                    0               0.2148                    0               1.0953\n",
            "  std. dev.                   0.0239               0.3938               0.0239               0.0239               0.6443               0.0239               0.6826\n",
            "  weight sum                      57                   63                   13                    0                   10                    8                   20\n",
            "  precision                   0.1432               0.1432               0.1432               0.1432               0.1432               0.1432               0.1432\n",
            "\n",
            "Fe\n",
            "  mean                        0.0486                0.068                0.014                    0                0.028                    0               0.0112\n",
            "  std. dev.                   0.0798               0.1005               0.0329               0.0023                0.084               0.0023               0.0253\n",
            "  weight sum                      57                   63                   13                    0                   10                    8                   20\n",
            "  precision                    0.014                0.014                0.014                0.014                0.014                0.014                0.014\n",
            "\n",
            "\n"
          ]
        }
      ]
    },
    {
      "cell_type": "markdown",
      "source": [
        "# Building ensemble from pre-trained models "
      ],
      "metadata": {
        "id": "ll4QxmaslvH1"
      }
    },
    {
      "cell_type": "markdown",
      "source": [
        "#### implementing Voting ensemble"
      ],
      "metadata": {
        "id": "GpiiDTBLqpl7"
      }
    },
    {
      "cell_type": "code",
      "source": [
        "# saving the model \n",
        "\n",
        "def save_model(classifier,name,path=\"\"):\n",
        "  import os\n",
        "  import tempfile\n",
        "  #import wekaexamples.helper as helper\n",
        "  import weka.core.serialization as serialization\n",
        "  outfile = name+\".model\"\n",
        "  print(outfile)\n",
        "  serialization.write(outfile, classifier)\n",
        "  return True"
      ],
      "metadata": {
        "id": "BNuTW2xEZ3X7"
      },
      "execution_count": 129,
      "outputs": []
    },
    {
      "cell_type": "code",
      "source": [
        "def read_model (name=\"weka.classifiers.trees.J48.model\"):\n",
        "    import os\n",
        "    import tempfile\n",
        "    #import wekaexamples.helper as helper\n",
        "    import weka.core.serialization as serialization\n",
        "    # save and read object\n",
        "    outfile = name\n",
        "    model, m = Classifier.deserialize(outfile)\n",
        "    #print(model)\n",
        "    #return model \n",
        "    return evl.test_model(model, test)\n",
        "    #print(evl.summary())\n",
        "    #print(model)\n",
        "\n",
        "read_model()"
      ],
      "metadata": {
        "colab": {
          "base_uri": "https://localhost:8080/"
        },
        "id": "PTbLFiI2YjlT",
        "outputId": "ae70cb4b-3af5-46b2-f3bc-422a4fc7e49b"
      },
      "execution_count": 130,
      "outputs": [
        {
          "output_type": "execute_result",
          "data": {
            "text/plain": [
              "array([0., 2., 0., 4., 0., 0., 1., 0., 0., 6., 6., 0., 1., 6., 0., 0., 4.,\n",
              "       6., 1., 6., 6., 0., 0., 2., 0., 1., 0., 1., 6., 6., 6., 0., 6., 0.,\n",
              "       1., 6., 1., 6., 6., 0., 1., 2., 0.])"
            ]
          },
          "metadata": {},
          "execution_count": 130
        }
      ]
    },
    {
      "cell_type": "code",
      "source": [
        "from IPython.core.display import TextDisplayObject\n",
        "# build classifiers\n",
        "from weka.classifiers import Classifier , Evaluation \n",
        "list_cls_names=[\"weka.classifiers.trees.J48\",\"weka.classifiers.trees.DecisionStump\",\"weka.classifiers.rules.JRip\",\"weka.classifiers.lazy.KStar\"]\n",
        "\n",
        "\n",
        "for cls_name in list_cls_names:\n",
        "    # training classifier \n",
        "    from weka.classifiers import Classifier, Evaluation\n",
        "    from weka.core.classes import Random\n",
        "    #evaluation = Evaluation(train)   \n",
        "    cls = Classifier(classname=cls_name)\n",
        "    cls.build_classifier(train)\n",
        "    #evaluation.test_model(classifier, test)\n",
        "    evaluat(cls,train,10)\n",
        "    # saving the model \n",
        "    save_model(classifier=cls,name=cls_name)\n",
        "    # build classifier\n",
        "    #cls = Classifier(classname=cls_name)\n",
        "    #cls.build_classifier(train)"
      ],
      "metadata": {
        "colab": {
          "base_uri": "https://localhost:8080/"
        },
        "id": "u2gxEssqaOGh",
        "outputId": "09bf5a2a-221d-483d-d589-30873281aa7b"
      },
      "execution_count": 131,
      "outputs": [
        {
          "output_type": "stream",
          "name": "stdout",
          "text": [
            "\n",
            "Correctly Classified Instances         120               70.1754 %\n",
            "Incorrectly Classified Instances        51               29.8246 %\n",
            "Kappa statistic                          0.5886\n",
            "Mean absolute error                      0.0923\n",
            "Root mean squared error                  0.2758\n",
            "Relative absolute error                 43.9974 %\n",
            "Root relative squared error             85.4684 %\n",
            "Total Number of Instances              171     \n",
            "\n",
            "weka.classifiers.trees.J48.model\n",
            "\n",
            "Correctly Classified Instances          74               43.2749 %\n",
            "Incorrectly Classified Instances        97               56.7251 %\n",
            "Kappa statistic                          0.2161\n",
            "Mean absolute error                      0.1829\n",
            "Root mean squared error                  0.3043\n",
            "Relative absolute error                 87.2286 %\n",
            "Root relative squared error             94.3018 %\n",
            "Total Number of Instances              171     \n",
            "\n",
            "weka.classifiers.trees.DecisionStump.model\n",
            "\n",
            "Correctly Classified Instances         123               71.9298 %\n",
            "Incorrectly Classified Instances        48               28.0702 %\n",
            "Kappa statistic                          0.6061\n",
            "Mean absolute error                      0.1026\n",
            "Root mean squared error                  0.266 \n",
            "Relative absolute error                 48.9387 %\n",
            "Root relative squared error             82.4406 %\n",
            "Total Number of Instances              171     \n",
            "\n",
            "weka.classifiers.rules.JRip.model\n",
            "\n",
            "Correctly Classified Instances         134               78.3626 %\n",
            "Incorrectly Classified Instances        37               21.6374 %\n",
            "Kappa statistic                          0.7019\n",
            "Mean absolute error                      0.0657\n",
            "Root mean squared error                  0.217 \n",
            "Relative absolute error                 31.328  %\n",
            "Root relative squared error             67.2425 %\n",
            "Total Number of Instances              171     \n",
            "\n",
            "weka.classifiers.lazy.KStar.model\n"
          ]
        }
      ]
    },
    {
      "cell_type": "code",
      "source": [
        "list_cls_names=[\"weka.classifiers.trees.J48\",\"weka.classifiers.trees.DecisionStump\",\"weka.classifiers.rules.JRip\",\"weka.classifiers.lazy.KStar\"]\n",
        "\n",
        "\n",
        "for clc_name in list_cls_names:\n",
        "  "
      ],
      "metadata": {
        "id": "obtdlGf8c5HO"
      },
      "execution_count": null,
      "outputs": []
    },
    {
      "cell_type": "code",
      "source": [
        "list_cls_names=[\"weka.classifiers.trees.J48\",\"weka.classifiers.trees.DecisionStump\",\"weka.classifiers.rules.JRip\"]\n",
        "\n",
        "predicted_classes=[]\n",
        "\n",
        "for cls_name in list_cls_names:\n",
        "  predicted_classes.append(read_model (name=cls_name+\".model\"))\n",
        "  print(read_model (name=cls_name+\".model\"))\n",
        "  print('/////////////////////')"
      ],
      "metadata": {
        "colab": {
          "base_uri": "https://localhost:8080/"
        },
        "id": "QzudJYe2ZycC",
        "outputId": "9704dca4-6c24-46de-fa89-b688c0803c3f"
      },
      "execution_count": 138,
      "outputs": [
        {
          "output_type": "stream",
          "name": "stdout",
          "text": [
            "[0. 2. 0. 4. 0. 0. 1. 0. 0. 6. 6. 0. 1. 6. 0. 0. 4. 6. 1. 6. 6. 0. 0. 2.\n",
            " 0. 1. 0. 1. 6. 6. 6. 0. 6. 0. 1. 6. 1. 6. 6. 0. 1. 2. 0.]\n",
            "/////////////////////\n",
            "[0. 0. 0. 6. 0. 0. 0. 0. 0. 6. 6. 0. 0. 0. 0. 6. 6. 0. 6. 6. 6. 0. 0. 0.\n",
            " 0. 6. 0. 0. 6. 6. 0. 0. 6. 0. 0. 6. 0. 6. 6. 0. 0. 0. 0.]\n",
            "/////////////////////\n",
            "[0. 0. 1. 4. 1. 0. 1. 0. 0. 6. 6. 0. 1. 6. 1. 5. 1. 0. 4. 1. 6. 1. 1. 1.\n",
            " 0. 1. 1. 1. 6. 6. 1. 1. 6. 1. 1. 6. 1. 4. 6. 0. 1. 0. 0.]\n",
            "/////////////////////\n"
          ]
        }
      ]
    },
    {
      "cell_type": "code",
      "source": [
        "predicted_classes[0]"
      ],
      "metadata": {
        "colab": {
          "base_uri": "https://localhost:8080/"
        },
        "id": "Spflrjfwfia5",
        "outputId": "8e44ecc3-12b6-4227-c9b1-350c28cce557"
      },
      "execution_count": 139,
      "outputs": [
        {
          "output_type": "execute_result",
          "data": {
            "text/plain": [
              "array([0., 2., 0., 4., 0., 0., 1., 0., 0., 6., 6., 0., 1., 6., 0., 0., 4.,\n",
              "       6., 1., 6., 6., 0., 0., 2., 0., 1., 0., 1., 6., 6., 6., 0., 6., 0.,\n",
              "       1., 6., 1., 6., 6., 0., 1., 2., 0.])"
            ]
          },
          "metadata": {},
          "execution_count": 139
        }
      ]
    },
    {
      "cell_type": "code",
      "source": [
        "final_desicion=[]\n",
        "for i in range (0,len(test)):\n",
        "  arr= [] \n",
        "  for j in range (0,3) :# 3 is number of classifier\n",
        "    arr.append(predicted_classes[j][i])\n",
        "  final_desicion.append(max(arr,key=arr.count))\n",
        "final_desicion"
      ],
      "metadata": {
        "colab": {
          "base_uri": "https://localhost:8080/"
        },
        "id": "lBEm4-tdeKuZ",
        "outputId": "0100e516-0a20-4b84-d9ac-55f17811220a"
      },
      "execution_count": 149,
      "outputs": [
        {
          "output_type": "execute_result",
          "data": {
            "text/plain": [
              "[0.0,\n",
              " 0.0,\n",
              " 0.0,\n",
              " 4.0,\n",
              " 0.0,\n",
              " 0.0,\n",
              " 1.0,\n",
              " 0.0,\n",
              " 0.0,\n",
              " 6.0,\n",
              " 6.0,\n",
              " 0.0,\n",
              " 1.0,\n",
              " 6.0,\n",
              " 0.0,\n",
              " 0.0,\n",
              " 4.0,\n",
              " 0.0,\n",
              " 1.0,\n",
              " 6.0,\n",
              " 6.0,\n",
              " 0.0,\n",
              " 0.0,\n",
              " 2.0,\n",
              " 0.0,\n",
              " 1.0,\n",
              " 0.0,\n",
              " 1.0,\n",
              " 6.0,\n",
              " 6.0,\n",
              " 6.0,\n",
              " 0.0,\n",
              " 6.0,\n",
              " 0.0,\n",
              " 1.0,\n",
              " 6.0,\n",
              " 1.0,\n",
              " 6.0,\n",
              " 6.0,\n",
              " 0.0,\n",
              " 1.0,\n",
              " 0.0,\n",
              " 0.0]"
            ]
          },
          "metadata": {},
          "execution_count": 149
        }
      ]
    },
    {
      "cell_type": "code",
      "source": [
        " def evaluation(classifier, trainingData, testingData = None):\n",
        "     #trainingData.set_class_index(trainingData.num_attributes() - 1)\n",
        "     if testingData == None:\n",
        "         evaluation = Evaluation(trainingData) \n",
        "                             # initialize with priors\n",
        "         evaluation.crossvalidate_model(classifier, trainingData, 10, Random(42))  # 10-fold CV\n",
        "         return evaluation\n",
        "     else:\n",
        "         print (\"testing data exists\")\n",
        "         if testingData.num_attributes() == trainingData.num_attributes():\n",
        "             #testingData.set_class_index(testingData.num_attributes() - 1)\n",
        "             evaluation = Evaluation(trainingData)   \n",
        "             \n",
        "             classifier.build_classifier(trainingData)\n",
        "             evaluation.test_model(classifier, testingData)\n",
        "             \n",
        "             #for attribute in trainingData.attributes():\n",
        "             #    print \"train:\" + str(attribute)\n",
        "             #for attribute in testingData.attributes():\n",
        "             #    print \"test:\" + str(attribute)\n",
        "                 \n",
        "                 \n",
        "             return evaluation\n",
        "         else:\n",
        "             print (\"testing Data doesn't have same attribute with training data\")\n",
        "             for attribute in trainingData.attributes():\n",
        "                 print (\"train:\" + str(attribute))\n",
        "             for attribute in testingData.attributes():\n",
        "                 print (\"test:\" + str(attribute))"
      ],
      "metadata": {
        "id": "Lpe64iKdSZtw"
      },
      "execution_count": 81,
      "outputs": []
    },
    {
      "cell_type": "code",
      "source": [
        "len(train)"
      ],
      "metadata": {
        "colab": {
          "base_uri": "https://localhost:8080/"
        },
        "id": "F2ERJ1uDVK9u",
        "outputId": "b1d6d629-7c24-4b90-e00c-2f09f9ec3b60"
      },
      "execution_count": 88,
      "outputs": [
        {
          "output_type": "execute_result",
          "data": {
            "text/plain": [
              "171"
            ]
          },
          "metadata": {},
          "execution_count": 88
        }
      ]
    },
    {
      "cell_type": "code",
      "source": [
        "len(test)"
      ],
      "metadata": {
        "colab": {
          "base_uri": "https://localhost:8080/"
        },
        "id": "Pi9WR5MGVM7-",
        "outputId": "efb8bb94-109d-4580-f57e-088734264d10"
      },
      "execution_count": 89,
      "outputs": [
        {
          "output_type": "execute_result",
          "data": {
            "text/plain": [
              "43"
            ]
          },
          "metadata": {},
          "execution_count": 89
        }
      ]
    },
    {
      "cell_type": "code",
      "source": [
        "   \n",
        "\n",
        "#3 Naive Bayes classifier\n",
        "from weka.classifiers import Classifier\n",
        "cls = Classifier(classname=\"weka.classifiers.lazy.IBk\")\n",
        "evaluation = Evaluation(train)   \n",
        "cls.build_classifier(train)\n",
        "evaluation.test_model(cls,test)\n",
        "print (evaluation.summary())\n",
        "for index, inst in enumerate(data):\n",
        "    pred = cls.classify_instance(inst)\n",
        "    dist = cls.distribution_for_instance(inst)\n",
        "    #print(str(index+1) + \": label index=\" + str(pred) + \", class distribution=\" + str(dist))\n",
        "evaluat(classifier=cls, data=data, fold=10)"
      ],
      "metadata": {
        "colab": {
          "base_uri": "https://localhost:8080/"
        },
        "id": "FpJlDY7RTvE6",
        "outputId": "af1e0cda-2e4c-468d-8947-534092e35815"
      },
      "execution_count": 99,
      "outputs": [
        {
          "output_type": "stream",
          "name": "stdout",
          "text": [
            "\n",
            "Correctly Classified Instances          27               62.7907 %\n",
            "Incorrectly Classified Instances        16               37.2093 %\n",
            "Kappa statistic                          0.5089\n",
            "Mean absolute error                      0.1118\n",
            "Root mean squared error                  0.3199\n",
            "Relative absolute error                 51.7903 %\n",
            "Root relative squared error             96.2874 %\n",
            "Total Number of Instances               43     \n",
            "\n",
            "\n",
            "Correctly Classified Instances         146               68.2243 %\n",
            "Incorrectly Classified Instances        68               31.7757 %\n",
            "Kappa statistic                          0.5702\n",
            "Mean absolute error                      0.0962\n",
            "Root mean squared error                  0.2963\n",
            "Relative absolute error                 45.4183 %\n",
            "Root relative squared error             91.2901 %\n",
            "Total Number of Instances              214     \n",
            "\n"
          ]
        }
      ]
    },
    {
      "cell_type": "code",
      "source": [
        "import os\n",
        "import tempfile\n",
        "#import wekaexamples.helper as helper\n",
        "import weka.core.serialization as serialization\n",
        "# save and read object\n",
        "outfile = \"weka.classifiers.trees.J48.model\"\n",
        "model, _ = Classifier.deserialize(outfile)\n",
        "evl.test_model(model, test)\n",
        "print(evl.summary())\n",
        "#print(model)"
      ],
      "metadata": {
        "colab": {
          "base_uri": "https://localhost:8080/"
        },
        "id": "KRFg5Q6iN4iw",
        "outputId": "19d61ffc-6c56-419d-b3cf-a9e5c03850ab"
      },
      "execution_count": 71,
      "outputs": [
        {
          "output_type": "stream",
          "name": "stdout",
          "text": [
            "\n",
            "Correctly Classified Instances         120               55.814  %\n",
            "Incorrectly Classified Instances        95               44.186  %\n",
            "Kappa statistic                          0.4051\n",
            "Mean absolute error                      0.1439\n",
            "Root mean squared error                  0.3129\n",
            "Relative absolute error                 66.6777 %\n",
            "Root relative squared error             94.1742 %\n",
            "Total Number of Instances              215     \n",
            "\n"
          ]
        }
      ]
    },
    {
      "cell_type": "code",
      "source": [
        "# save and read object\n",
        "outfile = tempfile.gettempdir() + os.sep + \"j482.model\"\n",
        "cls.serialize(outfile)\n",
        "model, _ = Classifier.deserialize(outfile)\n",
        "evl.test_model(model, test)\n",
        "print(evl.summary())\n",
        "#print(model)"
      ],
      "metadata": {
        "id": "I_reLKJQNnAI"
      },
      "execution_count": null,
      "outputs": []
    },
    {
      "cell_type": "code",
      "source": [
        "# load model \n",
        "for cls_name in list_cls_names:\n",
        "  # read classifier \n",
        "  import tempfile\n",
        "  import os\n",
        "  import weka.core.serialization as serialization\n",
        "  # apply saved model \n",
        "  outfile = tempfile.gettempdir() + os.sep + \"\"+cls_name+\"_New2.model\"\n",
        "  print(outfile)\n",
        "  model, _ = Classifier.deserialize(outfile)\n",
        "  evl.test_model(model, test)\n",
        "  print(evl.summary())"
      ],
      "metadata": {
        "colab": {
          "base_uri": "https://localhost:8080/"
        },
        "id": "zX_E2TzbKbhm",
        "outputId": "b73ed11e-8630-4882-fa6c-a61965cce1f3"
      },
      "execution_count": 34,
      "outputs": [
        {
          "output_type": "stream",
          "name": "stdout",
          "text": [
            "/tmp/weka.classifiers.trees.J48_New2.model\n",
            "\n",
            "Correctly Classified Instances          26               60.4651 %\n",
            "Incorrectly Classified Instances        17               39.5349 %\n",
            "Kappa statistic                          0.4737\n",
            "Mean absolute error                      0.1167\n",
            "Root mean squared error                  0.3183\n",
            "Relative absolute error                 54.0823 %\n",
            "Root relative squared error             95.806  %\n",
            "Total Number of Instances               43     \n",
            "\n",
            "/tmp/weka.classifiers.trees.DecisionStump_New2.model\n",
            "\n",
            "Correctly Classified Instances          47               54.6512 %\n",
            "Incorrectly Classified Instances        39               45.3488 %\n",
            "Kappa statistic                          0.3877\n",
            "Mean absolute error                      0.1507\n",
            "Root mean squared error                  0.3115\n",
            "Relative absolute error                 69.8266 %\n",
            "Root relative squared error             93.7618 %\n",
            "Total Number of Instances               86     \n",
            "\n"
          ]
        }
      ]
    },
    {
      "cell_type": "code",
      "source": [
        "from weka.classifiers import Classifier, Evaluation\n",
        "import os\n",
        "import tempfile\n",
        "\n",
        "cls = Classifier(classname=\"weka.classifiers.meta.Vote\",options=[\"-P\",\"naivBayes.model\",\"-P\",\"j482.model\"])\n",
        "#cls.build_classifier(test)\n",
        "#evaluat (classifier=cls, data=test, fold=10)\n",
        "#evl.test_model(cls, test)\n",
        "#for index, inst in enumerate(test):\n",
        "    #pred = cls.classify_instance(inst)\n",
        "    #dist = cls.distribution_for_instance(inst)\n",
        "    #print(str(index+1) + \": label index=\" + str(pred) + \", class distribution=\" + str(dist))\n",
        "#evaluat(classifier=cls, data=test, fold=10)\n"
      ],
      "metadata": {
        "id": "kKKpkAKZ7SOY"
      },
      "execution_count": 108,
      "outputs": []
    },
    {
      "cell_type": "code",
      "source": [
        "\n",
        "\n",
        "from weka.classifiers import Classifier, Evaluation\n",
        "import os\n",
        "import tempfile\n",
        "\n",
        "cls2 = Classifier(classname=\"weka.classifiers.meta.MultiClassClassifier\")\n",
        "cls2.build_classifier(test)\n",
        "evl.test_model(cls2, test)\n",
        "#for index, inst in enumerate(test):\n",
        "    #pred = cls.classify_instance(inst)\n",
        "    #dist = cls.distribution_for_instance(inst)\n",
        "    #print(str(index+1) + \": label index=\" + str(pred) + \", class distribution=\" + str(dist))\n",
        "#evaluat(classifier=cls, data=test, fold=10)\n"
      ],
      "metadata": {
        "colab": {
          "base_uri": "https://localhost:8080/"
        },
        "id": "21glu3wTQBBI",
        "outputId": "da7704df-1834-4772-bdcc-3c7b4f284438"
      },
      "execution_count": 59,
      "outputs": [
        {
          "output_type": "execute_result",
          "data": {
            "text/plain": [
              "array([0., 1., 6., 4., 1., 0., 1., 0., 0., 6., 6., 2., 0., 0., 0., 5., 4.,\n",
              "       2., 1., 1., 6., 0., 0., 2., 0., 1., 1., 0., 6., 6., 1., 1., 6., 0.,\n",
              "       1., 6., 1., 4., 6., 0., 0., 0., 1.])"
            ]
          },
          "metadata": {},
          "execution_count": 59
        }
      ]
    },
    {
      "cell_type": "code",
      "source": [
        "from weka.classifiers import Classifier, Evaluation\n",
        "import os\n",
        "import tempfile\n",
        "\n",
        "cls = Classifier(classname=\"weka.classifiers.meta.Vote\",options=[\"-P\",\"naivBayes.model\"])\n",
        "cls.build_classifier(test)\n",
        "\n",
        "for index, inst in enumerate(test):\n",
        "    pred = cls.classify_instance(inst)\n",
        "    dist = cls.distribution_for_instance(inst)\n",
        "    #print(str(index+1) + \": label index=\" + str(pred) + \", class distribution=\" + str(dist))\n",
        "evaluat(classifier=cls, data=test, fold=10)\n"
      ],
      "metadata": {
        "id": "I_EcP0ek3Cps"
      },
      "execution_count": null,
      "outputs": []
    },
    {
      "cell_type": "markdown",
      "source": [
        "# fitness function "
      ],
      "metadata": {
        "id": "LJR8FRhmo_Hb"
      }
    },
    {
      "cell_type": "code",
      "source": [
        "def fitness_func(ensemble,test_data):\n",
        "    summary=evaluat(classifier=ensemble, test_data, fold=10)\n",
        "    fitness = summay.acc \n",
        "    return fitness"
      ],
      "metadata": {
        "id": "2oS889WFZpBp"
      },
      "execution_count": null,
      "outputs": []
    },
    {
      "cell_type": "code",
      "source": [
        "path=....\n",
        "model, _ = Classifier.deserialize(path)\n",
        "evl.test_model(model, test)\n",
        "print(evl.summary())\n",
        "#print(model)"
      ],
      "metadata": {
        "id": "UNEZe8a4Y-Pj"
      },
      "execution_count": null,
      "outputs": []
    },
    {
      "cell_type": "markdown",
      "source": [
        "# space of serach"
      ],
      "metadata": {
        "id": "Oaqb-ZF6bUJx"
      }
    },
    {
      "cell_type": "code",
      "source": [
        "ensembling_method=[]"
      ],
      "metadata": {
        "id": "MJvZT4P0bYVd"
      },
      "execution_count": null,
      "outputs": []
    },
    {
      "cell_type": "code",
      "source": [
        "def fitness_func(model,data):\n",
        "    output = numpy.sum(solution*function_inputs)\n",
        "    fitness = acc \n",
        "    return fitness"
      ],
      "metadata": {
        "id": "4naPmFJoV1mh"
      },
      "execution_count": null,
      "outputs": []
    },
    {
      "cell_type": "code",
      "source": [
        "# GA Parameters \n",
        "\n",
        "fitness_function = fitness_func\n",
        "\n",
        "num_generations = 30\n",
        "num_parents_mating = 4\n",
        "\n",
        "sol_per_pop = 8\n",
        "num_genes = len(function_inputs)\n",
        "\n",
        "init_range_low = -2\n",
        "init_range_high = 5\n",
        "\n",
        "parent_selection_type = \"sss\"\n",
        "keep_parents = 1\n",
        "\n",
        "crossover_type = \"single_point\"\n",
        "\n",
        "mutation_type = \"random\"\n",
        "mutation_percent_genes = 10"
      ],
      "metadata": {
        "id": "47I6OkcyUkUv"
      },
      "execution_count": null,
      "outputs": []
    },
    {
      "cell_type": "markdown",
      "metadata": {
        "id": "OjjVAraZUBX4"
      },
      "source": [
        "# Genetic Algorithm Part "
      ]
    },
    {
      "cell_type": "code",
      "metadata": {
        "colab": {
          "base_uri": "https://localhost:8080/"
        },
        "id": "WxTqsGLqT9Zx",
        "outputId": "d1bd57a6-cf1b-45be-b38c-222abc52c8eb"
      },
      "source": [
        "#PyGAD is an open-source Python library for building the genetic algorithm and optimizing machine learning algorithms. \n",
        "\n",
        "!pip3 install pygad"
      ],
      "execution_count": null,
      "outputs": [
        {
          "output_type": "stream",
          "name": "stdout",
          "text": [
            "Collecting pygad\n",
            "  Downloading pygad-2.16.1-py3-none-any.whl (53 kB)\n",
            "\u001b[?25l\r\u001b[K     |██████▏                         | 10 kB 23.6 MB/s eta 0:00:01\r\u001b[K     |████████████▎                   | 20 kB 27.4 MB/s eta 0:00:01\r\u001b[K     |██████████████████▍             | 30 kB 31.1 MB/s eta 0:00:01\r\u001b[K     |████████████████████████▌       | 40 kB 26.1 MB/s eta 0:00:01\r\u001b[K     |██████████████████████████████▋ | 51 kB 10.7 MB/s eta 0:00:01\r\u001b[K     |████████████████████████████████| 53 kB 1.8 MB/s \n",
            "\u001b[?25hRequirement already satisfied: matplotlib in /usr/local/lib/python3.7/dist-packages (from pygad) (3.2.2)\n",
            "Requirement already satisfied: numpy in /usr/local/lib/python3.7/dist-packages (from pygad) (1.19.5)\n",
            "Requirement already satisfied: kiwisolver>=1.0.1 in /usr/local/lib/python3.7/dist-packages (from matplotlib->pygad) (1.3.2)\n",
            "Requirement already satisfied: python-dateutil>=2.1 in /usr/local/lib/python3.7/dist-packages (from matplotlib->pygad) (2.8.2)\n",
            "Requirement already satisfied: pyparsing!=2.0.4,!=2.1.2,!=2.1.6,>=2.0.1 in /usr/local/lib/python3.7/dist-packages (from matplotlib->pygad) (3.0.6)\n",
            "Requirement already satisfied: cycler>=0.10 in /usr/local/lib/python3.7/dist-packages (from matplotlib->pygad) (0.11.0)\n",
            "Requirement already satisfied: six>=1.5 in /usr/local/lib/python3.7/dist-packages (from python-dateutil>=2.1->matplotlib->pygad) (1.15.0)\n",
            "Installing collected packages: pygad\n",
            "Successfully installed pygad-2.16.1\n"
          ]
        }
      ]
    },
    {
      "cell_type": "markdown",
      "metadata": {
        "id": "7zlveFCNU4Tn"
      },
      "source": [
        "# We will test genteic algorithm on a simple optmization problem problem first \n",
        "# finding the best set of weights that satisfy the following function:\n",
        "y = f(w1:w6) = w1x1 + w2x2 + w3x3 + w4x4 + w5x5 + 6wx6\n",
        "where (x1,x2,x3,x4,x5,x6)=(4,-2,3.5,5,-11,-4.7) and y=44"
      ]
    },
    {
      "cell_type": "code",
      "metadata": {
        "id": "AY6WKxenUyCf"
      },
      "source": [
        "import pygad\n",
        "\n",
        "# problem input and output \n",
        "\n",
        "function_inputs = [4,-2,3.5,5,-11,-4.7]\n",
        "desired_output = 44"
      ],
      "execution_count": null,
      "outputs": []
    },
    {
      "cell_type": "code",
      "metadata": {
        "id": "bTW4q965Vtit"
      },
      "source": [
        "# fitness function \n",
        "\n",
        "def fitness_func(solution, solution_idx):\n",
        "    output = numpy.sum(solution*function_inputs)\n",
        "    fitness = 1.0 / numpy.abs(output - desired_output)\n",
        "    return fitness"
      ],
      "execution_count": null,
      "outputs": []
    },
    {
      "cell_type": "code",
      "metadata": {
        "id": "IvPjN64XV9X0"
      },
      "source": [
        "# GA Parameters \n",
        "\n",
        "fitness_function = fitness_func\n",
        "\n",
        "num_generations = 50\n",
        "num_parents_mating = 4\n",
        "\n",
        "sol_per_pop = 8\n",
        "num_genes = len(function_inputs)\n",
        "\n",
        "init_range_low = -2\n",
        "init_range_high = 5\n",
        "\n",
        "parent_selection_type = \"sss\"\n",
        "keep_parents = 1\n",
        "\n",
        "crossover_type = \"single_point\"\n",
        "\n",
        "mutation_type = \"random\"\n",
        "mutation_percent_genes = 10"
      ],
      "execution_count": null,
      "outputs": []
    },
    {
      "cell_type": "code",
      "metadata": {
        "colab": {
          "base_uri": "https://localhost:8080/"
        },
        "id": "uk8WcW6TWNh1",
        "outputId": "0b0c9960-8860-46f0-882b-dcf74286ad35"
      },
      "source": [
        "# Greating a class of Genetic Algorthim \n",
        "\n",
        "ga_instance = pygad.GA(num_generations=num_generations,\n",
        "                       num_parents_mating=num_parents_mating,\n",
        "                       fitness_func=fitness_function,\n",
        "                       sol_per_pop=sol_per_pop,\n",
        "                       num_genes=num_genes,\n",
        "                       init_range_low=init_range_low,\n",
        "                       init_range_high=init_range_high,\n",
        "                       parent_selection_type=parent_selection_type,\n",
        "                       keep_parents=keep_parents,\n",
        "                       crossover_type=crossover_type,\n",
        "                       mutation_type=mutation_type,\n",
        "                       mutation_percent_genes=mutation_percent_genes)"
      ],
      "execution_count": null,
      "outputs": [
        {
          "output_type": "stream",
          "name": "stderr",
          "text": [
            "/usr/local/lib/python3.7/dist-packages/pygad/pygad.py:486: UserWarning: The percentage of genes to mutate (mutation_percent_genes=10) resutled in selecting (0) genes. The number of genes to mutate is set to 1 (mutation_num_genes=1).\n",
            "If you do not want to mutate any gene, please set mutation_type=None.\n",
            "  if not self.suppress_warnings: warnings.warn(\"The percentage of genes to mutate (mutation_percent_genes={mutation_percent}) resutled in selecting ({mutation_num}) genes. The number of genes to mutate is set to 1 (mutation_num_genes=1).\\nIf you do not want to mutate any gene, please set mutation_type=None.\".format(mutation_percent=mutation_percent_genes, mutation_num=mutation_num_genes))\n"
          ]
        }
      ]
    },
    {
      "cell_type": "code",
      "metadata": {
        "id": "0Xs3KL8GWkZS"
      },
      "source": [
        "# start thr optimization \n",
        "import numpy \n",
        "ga_instance.run()"
      ],
      "execution_count": null,
      "outputs": []
    },
    {
      "cell_type": "code",
      "metadata": {
        "colab": {
          "base_uri": "https://localhost:8080/"
        },
        "id": "vaLMUxEtW3h_",
        "outputId": "d857787a-1adf-4c65-f6a8-29669c926aa9"
      },
      "source": [
        "# Finaly Found solution \n",
        "\n",
        "solution, solution_fitness, solution_idx = ga_instance.best_solution()\n",
        "print(\"Parameters of the best solution : {solution}\".format(solution=solution))\n",
        "print(\"Fitness value of the best solution = {solution_fitness}\".format(solution_fitness=solution_fitness))\n",
        "\n",
        "prediction = numpy.sum(numpy.array(function_inputs)*solution)\n",
        "print(\"Predicted output based on the best solution : {prediction}\".format(prediction=prediction))"
      ],
      "execution_count": null,
      "outputs": [
        {
          "output_type": "stream",
          "name": "stdout",
          "text": [
            "Parameters of the best solution : [-0.74299132 -0.4316492   0.38598573  3.70109278 -1.93073469 -1.0680689 ]\n",
            "Fitness value of the best solution = 173.83881795991607\n",
            "Predicted output based on the best solution : 44.00575245512904\n"
          ]
        }
      ]
    }
  ]
}