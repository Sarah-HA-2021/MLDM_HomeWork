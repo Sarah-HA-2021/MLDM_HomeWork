{
  "nbformat": 4,
  "nbformat_minor": 0,
  "metadata": {
    "colab": {
      "name": "Copy of Copy of genetic_algorithm.ipynb",
      "provenance": [],
      "collapsed_sections": []
    },
    "kernelspec": {
      "name": "python3",
      "display_name": "Python 3"
    },
    "language_info": {
      "name": "python"
    }
  },
  "cells": [
    {
      "cell_type": "markdown",
      "source": [
        "#Encoding Base classifiers \n",
        "\n",
        "\n",
        "1.   Naive Bayes\n",
        "2.   PART\n",
        "3.   C4.5\n",
        "4.   C4.5 using unpruned tree\n",
        "5.   Decision Stump\n",
        "6.   Decision Table\n",
        "7.   Decision Table using the nearest neighbour instead of global table majority\n",
        "8.   Classification Via Regression\n",
        "9.   Random Forest\n",
        "10.  Random Tree\n",
        "11.  VFI\n",
        "12.  Conjunctive Rule\n",
        "13.  JRip\n",
        "14.  Nnge\n",
        "15.  HyperPipes\n",
        "\n",
        "\n",
        "\n",
        "\n",
        "\n",
        "\n",
        "\n",
        "\n",
        "\n",
        "\n",
        "\n",
        "\n",
        "\n",
        "\n",
        "\n"
      ],
      "metadata": {
        "id": "2vIDTyxJFVc4"
      }
    },
    {
      "cell_type": "code",
      "source": [
        "# Learning algorithms \n",
        "Algorithms_names=['Naive Bayes',\n",
        "'PART',\n",
        "'C4.5',\n",
        "'C4.5 using unpruned tree',\n",
        "'Decision Stump',\n",
        "'Decision Table',\n",
        "'Decision Table using the nearest neighbour instead of global table majority',\n",
        "'Classification Via Regression',\n",
        "'Random Forest',\n",
        "'Random Tree',\n",
        "'VFI',\n",
        "'Conjunctive Rule',\n",
        "'JRip',\n",
        "'Nnge',\n",
        "'HyperPipes']\n",
        "\n",
        "# Leraning alforithms in weka \n",
        "Algorithms_weka_names=['Naive Bayes',\n",
        "'PART',\n",
        "'C4.5',\n",
        "'C4.5 using unpruned tree',\n",
        "'Decision Stump',\n",
        "'Decision Table',\n",
        "'Decision Table using the nearest neighbour instead of global table majority',\n",
        "'Classification Via Regression',\n",
        "'Random Forest',\n",
        "'Random Tree',\n",
        "'VFI',\n",
        "'Conjunctive Rule',\n",
        "'JRip',\n",
        "'Nnge',\n",
        "'HyperPipes']"
      ],
      "metadata": {
        "id": "CwFu8DPgEugw"
      },
      "execution_count": 145,
      "outputs": []
    },
    {
      "cell_type": "code",
      "source": [
        "# ensembling method \n",
        "ensembling_method=['vote','meta_classifier']\n",
        "# 0 for meta classifier \n",
        "# 1 for vote "
      ],
      "metadata": {
        "id": "QtLBOD58n_Sg"
      },
      "execution_count": 146,
      "outputs": []
    },
    {
      "cell_type": "markdown",
      "source": [
        "# Generating Population "
      ],
      "metadata": {
        "id": "tq2FpUj0ouzp"
      }
    },
    {
      "cell_type": "code",
      "source": [
        "# A Python program to print all\n",
        "# combinations of given length\n",
        "\n",
        "wide_space=[]\n",
        "\n",
        "from itertools import combinations\n",
        "count = 0\n",
        "# Get all combinations of [1, 2, 3]\n",
        "# and length 2\n",
        "comb = combinations(Algorithms_names,3)\n",
        " \n",
        "# Print the obtained combinations\n",
        "for i in list(comb):\n",
        "    wide_space.append(i)\n",
        "    count =count+1\n",
        "    #print (i)\n",
        "print(count)"
      ],
      "metadata": {
        "colab": {
          "base_uri": "https://localhost:8080/"
        },
        "id": "2keIzkqXy3Ci",
        "outputId": "789d13b7-78b8-44dd-fadb-911556627e4f"
      },
      "execution_count": 147,
      "outputs": [
        {
          "output_type": "stream",
          "name": "stdout",
          "text": [
            "455\n"
          ]
        }
      ]
    },
    {
      "cell_type": "code",
      "source": [
        "#selecting  a random subset \n",
        "import random\n",
        "random.seed(0)\n",
        "from random import sample\n",
        "samples=sample(wide_space,50) #50 is population size \n",
        "print(samples)"
      ],
      "metadata": {
        "colab": {
          "base_uri": "https://localhost:8080/"
        },
        "id": "Q06kvjwC1xPs",
        "outputId": "4260ef7e-539e-49d7-f940-7a61ac726f7b"
      },
      "execution_count": 148,
      "outputs": [
        {
          "output_type": "stream",
          "name": "stdout",
          "text": [
            "[('Random Forest', 'JRip', 'Nnge'), ('C4.5', 'Decision Table', 'Nnge'), ('Decision Table using the nearest neighbour instead of global table majority', 'Random Tree', 'HyperPipes'), ('C4.5', 'Random Forest', 'VFI'), ('Naive Bayes', 'C4.5', 'VFI'), ('PART', 'Decision Table', 'HyperPipes'), ('C4.5 using unpruned tree', 'Decision Table using the nearest neighbour instead of global table majority', 'HyperPipes'), ('C4.5 using unpruned tree', 'Decision Table', 'Random Tree'), ('C4.5', 'Classification Via Regression', 'Random Forest'), ('Classification Via Regression', 'Random Forest', 'Conjunctive Rule'), ('Random Forest', 'Random Tree', 'HyperPipes'), ('PART', 'Random Tree', 'Conjunctive Rule'), ('C4.5 using unpruned tree', 'Decision Stump', 'HyperPipes'), ('C4.5', 'Decision Stump', 'Random Forest'), ('Decision Stump', 'Decision Table', 'HyperPipes'), ('PART', 'C4.5 using unpruned tree', 'JRip'), ('C4.5 using unpruned tree', 'Decision Table using the nearest neighbour instead of global table majority', 'Conjunctive Rule'), ('Naive Bayes', 'Random Forest', 'VFI'), ('PART', 'Classification Via Regression', 'Conjunctive Rule'), ('Decision Table using the nearest neighbour instead of global table majority', 'Random Tree', 'JRip'), ('Naive Bayes', 'Decision Table', 'Random Forest'), ('Decision Stump', 'Random Forest', 'Conjunctive Rule'), ('Classification Via Regression', 'Random Tree', 'HyperPipes'), ('PART', 'Decision Table', 'VFI'), ('C4.5 using unpruned tree', 'Random Forest', 'JRip'), ('Decision Table', 'VFI', 'Conjunctive Rule'), ('Classification Via Regression', 'Conjunctive Rule', 'JRip'), ('Decision Stump', 'Classification Via Regression', 'Random Tree'), ('Naive Bayes', 'Random Forest', 'HyperPipes'), ('PART', 'Random Tree', 'HyperPipes'), ('Naive Bayes', 'Decision Table', 'VFI'), ('Decision Table using the nearest neighbour instead of global table majority', 'Classification Via Regression', 'VFI'), ('Naive Bayes', 'Decision Stump', 'Decision Table using the nearest neighbour instead of global table majority'), ('Random Tree', 'VFI', 'Conjunctive Rule'), ('Decision Table', 'Random Forest', 'Random Tree'), ('C4.5', 'C4.5 using unpruned tree', 'Decision Stump'), ('C4.5 using unpruned tree', 'Decision Stump', 'Conjunctive Rule'), ('C4.5 using unpruned tree', 'Conjunctive Rule', 'HyperPipes'), ('Naive Bayes', 'Decision Table', 'Conjunctive Rule'), ('C4.5', 'Decision Stump', 'Decision Table using the nearest neighbour instead of global table majority'), ('C4.5', 'Random Tree', 'JRip'), ('PART', 'VFI', 'Nnge'), ('Decision Stump', 'Classification Via Regression', 'Nnge'), ('Decision Stump', 'VFI', 'Nnge'), ('PART', 'C4.5 using unpruned tree', 'Decision Table'), ('C4.5 using unpruned tree', 'VFI', 'Nnge'), ('C4.5', 'VFI', 'JRip'), ('Random Tree', 'JRip', 'HyperPipes'), ('C4.5 using unpruned tree', 'Classification Via Regression', 'JRip'), ('PART', 'Decision Table using the nearest neighbour instead of global table majority', 'Classification Via Regression')]\n"
          ]
        }
      ]
    },
    {
      "cell_type": "code",
      "source": [
        "population=[]\n",
        "def encoding (Algorithms_names,samples):\n",
        "  for sample in samples:\n",
        "    chromosome=len(Algorithms_names)*[0]\n",
        "    for i in range (0, len(Algorithms_names)):\n",
        "      if Algorithms_names[i] in sample:\n",
        "        #print('yes')\n",
        "        chromosome[i]=1\n",
        "    population.append(chromosome)\n",
        "  return population \n",
        "encoding (Algorithms_names,samples)"
      ],
      "metadata": {
        "colab": {
          "base_uri": "https://localhost:8080/"
        },
        "id": "MpQVgN3poHG0",
        "outputId": "e83eee18-2965-46bd-f9e9-d540d2bbf54a"
      },
      "execution_count": 149,
      "outputs": [
        {
          "output_type": "execute_result",
          "data": {
            "text/plain": [
              "[[0, 0, 0, 0, 0, 0, 0, 0, 1, 0, 0, 0, 1, 1, 0],\n",
              " [0, 0, 1, 0, 0, 1, 0, 0, 0, 0, 0, 0, 0, 1, 0],\n",
              " [0, 0, 0, 0, 0, 0, 1, 0, 0, 1, 0, 0, 0, 0, 1],\n",
              " [0, 0, 1, 0, 0, 0, 0, 0, 1, 0, 1, 0, 0, 0, 0],\n",
              " [1, 0, 1, 0, 0, 0, 0, 0, 0, 0, 1, 0, 0, 0, 0],\n",
              " [0, 1, 0, 0, 0, 1, 0, 0, 0, 0, 0, 0, 0, 0, 1],\n",
              " [0, 0, 0, 1, 0, 0, 1, 0, 0, 0, 0, 0, 0, 0, 1],\n",
              " [0, 0, 0, 1, 0, 1, 0, 0, 0, 1, 0, 0, 0, 0, 0],\n",
              " [0, 0, 1, 0, 0, 0, 0, 1, 1, 0, 0, 0, 0, 0, 0],\n",
              " [0, 0, 0, 0, 0, 0, 0, 1, 1, 0, 0, 1, 0, 0, 0],\n",
              " [0, 0, 0, 0, 0, 0, 0, 0, 1, 1, 0, 0, 0, 0, 1],\n",
              " [0, 1, 0, 0, 0, 0, 0, 0, 0, 1, 0, 1, 0, 0, 0],\n",
              " [0, 0, 0, 1, 1, 0, 0, 0, 0, 0, 0, 0, 0, 0, 1],\n",
              " [0, 0, 1, 0, 1, 0, 0, 0, 1, 0, 0, 0, 0, 0, 0],\n",
              " [0, 0, 0, 0, 1, 1, 0, 0, 0, 0, 0, 0, 0, 0, 1],\n",
              " [0, 1, 0, 1, 0, 0, 0, 0, 0, 0, 0, 0, 1, 0, 0],\n",
              " [0, 0, 0, 1, 0, 0, 1, 0, 0, 0, 0, 1, 0, 0, 0],\n",
              " [1, 0, 0, 0, 0, 0, 0, 0, 1, 0, 1, 0, 0, 0, 0],\n",
              " [0, 1, 0, 0, 0, 0, 0, 1, 0, 0, 0, 1, 0, 0, 0],\n",
              " [0, 0, 0, 0, 0, 0, 1, 0, 0, 1, 0, 0, 1, 0, 0],\n",
              " [1, 0, 0, 0, 0, 1, 0, 0, 1, 0, 0, 0, 0, 0, 0],\n",
              " [0, 0, 0, 0, 1, 0, 0, 0, 1, 0, 0, 1, 0, 0, 0],\n",
              " [0, 0, 0, 0, 0, 0, 0, 1, 0, 1, 0, 0, 0, 0, 1],\n",
              " [0, 1, 0, 0, 0, 1, 0, 0, 0, 0, 1, 0, 0, 0, 0],\n",
              " [0, 0, 0, 1, 0, 0, 0, 0, 1, 0, 0, 0, 1, 0, 0],\n",
              " [0, 0, 0, 0, 0, 1, 0, 0, 0, 0, 1, 1, 0, 0, 0],\n",
              " [0, 0, 0, 0, 0, 0, 0, 1, 0, 0, 0, 1, 1, 0, 0],\n",
              " [0, 0, 0, 0, 1, 0, 0, 1, 0, 1, 0, 0, 0, 0, 0],\n",
              " [1, 0, 0, 0, 0, 0, 0, 0, 1, 0, 0, 0, 0, 0, 1],\n",
              " [0, 1, 0, 0, 0, 0, 0, 0, 0, 1, 0, 0, 0, 0, 1],\n",
              " [1, 0, 0, 0, 0, 1, 0, 0, 0, 0, 1, 0, 0, 0, 0],\n",
              " [0, 0, 0, 0, 0, 0, 1, 1, 0, 0, 1, 0, 0, 0, 0],\n",
              " [1, 0, 0, 0, 1, 0, 1, 0, 0, 0, 0, 0, 0, 0, 0],\n",
              " [0, 0, 0, 0, 0, 0, 0, 0, 0, 1, 1, 1, 0, 0, 0],\n",
              " [0, 0, 0, 0, 0, 1, 0, 0, 1, 1, 0, 0, 0, 0, 0],\n",
              " [0, 0, 1, 1, 1, 0, 0, 0, 0, 0, 0, 0, 0, 0, 0],\n",
              " [0, 0, 0, 1, 1, 0, 0, 0, 0, 0, 0, 1, 0, 0, 0],\n",
              " [0, 0, 0, 1, 0, 0, 0, 0, 0, 0, 0, 1, 0, 0, 1],\n",
              " [1, 0, 0, 0, 0, 1, 0, 0, 0, 0, 0, 1, 0, 0, 0],\n",
              " [0, 0, 1, 0, 1, 0, 1, 0, 0, 0, 0, 0, 0, 0, 0],\n",
              " [0, 0, 1, 0, 0, 0, 0, 0, 0, 1, 0, 0, 1, 0, 0],\n",
              " [0, 1, 0, 0, 0, 0, 0, 0, 0, 0, 1, 0, 0, 1, 0],\n",
              " [0, 0, 0, 0, 1, 0, 0, 1, 0, 0, 0, 0, 0, 1, 0],\n",
              " [0, 0, 0, 0, 1, 0, 0, 0, 0, 0, 1, 0, 0, 1, 0],\n",
              " [0, 1, 0, 1, 0, 1, 0, 0, 0, 0, 0, 0, 0, 0, 0],\n",
              " [0, 0, 0, 1, 0, 0, 0, 0, 0, 0, 1, 0, 0, 1, 0],\n",
              " [0, 0, 1, 0, 0, 0, 0, 0, 0, 0, 1, 0, 1, 0, 0],\n",
              " [0, 0, 0, 0, 0, 0, 0, 0, 0, 1, 0, 0, 1, 0, 1],\n",
              " [0, 0, 0, 1, 0, 0, 0, 1, 0, 0, 0, 0, 1, 0, 0],\n",
              " [0, 1, 0, 0, 0, 0, 1, 1, 0, 0, 0, 0, 0, 0, 0]]"
            ]
          },
          "metadata": {},
          "execution_count": 149
        }
      ]
    },
    {
      "cell_type": "code",
      "source": [
        "# append ensembling method encoding\n",
        "import random\n",
        "\n",
        "for chromosome in population:\n",
        "  chromosome.append(random.randrange(2))\n",
        "\n",
        "population[:3]"
      ],
      "metadata": {
        "colab": {
          "base_uri": "https://localhost:8080/"
        },
        "id": "q827s7E9-3X6",
        "outputId": "2b9c6c0a-b4b8-400c-aea9-389b1d2a5e6a"
      },
      "execution_count": 150,
      "outputs": [
        {
          "output_type": "execute_result",
          "data": {
            "text/plain": [
              "[[0, 0, 0, 0, 0, 0, 0, 0, 1, 0, 0, 0, 1, 1, 0, 0],\n",
              " [0, 0, 1, 0, 0, 1, 0, 0, 0, 0, 0, 0, 0, 1, 0, 0],\n",
              " [0, 0, 0, 0, 0, 0, 1, 0, 0, 1, 0, 0, 0, 0, 1, 0]]"
            ]
          },
          "metadata": {},
          "execution_count": 150
        }
      ]
    },
    {
      "cell_type": "code",
      "source": [
        "!pip install numpy\n",
        "!pip install python-javabridge\n",
        "!pip install python-weka-wrapper3"
      ],
      "metadata": {
        "colab": {
          "base_uri": "https://localhost:8080/"
        },
        "id": "Tdvs47WCXbpu",
        "outputId": "465d29e9-50f3-4563-bcf7-0db7a5ad2eaf"
      },
      "execution_count": 151,
      "outputs": [
        {
          "output_type": "stream",
          "name": "stdout",
          "text": [
            "Requirement already satisfied: numpy in /usr/local/lib/python3.7/dist-packages (1.21.5)\n",
            "Requirement already satisfied: python-javabridge in /usr/local/lib/python3.7/dist-packages (4.0.3)\n",
            "Requirement already satisfied: numpy>=1.20.1 in /usr/local/lib/python3.7/dist-packages (from python-javabridge) (1.21.5)\n",
            "Requirement already satisfied: python-weka-wrapper3 in /usr/local/lib/python3.7/dist-packages (0.2.5)\n",
            "Requirement already satisfied: packaging in /usr/local/lib/python3.7/dist-packages (from python-weka-wrapper3) (21.3)\n",
            "Requirement already satisfied: python-javabridge>=4.0.0 in /usr/local/lib/python3.7/dist-packages (from python-weka-wrapper3) (4.0.3)\n",
            "Requirement already satisfied: numpy in /usr/local/lib/python3.7/dist-packages (from python-weka-wrapper3) (1.21.5)\n",
            "Requirement already satisfied: pyparsing!=3.0.5,>=2.0.2 in /usr/local/lib/python3.7/dist-packages (from packaging->python-weka-wrapper3) (3.0.6)\n"
          ]
        }
      ]
    },
    {
      "cell_type": "code",
      "source": [
        "# start jvm\n",
        "import weka.core.jvm as jvm\n",
        "\n",
        "jvm.start(packages=True)"
      ],
      "metadata": {
        "colab": {
          "base_uri": "https://localhost:8080/"
        },
        "id": "z66PMT7TX3an",
        "outputId": "95691b7c-209d-49f6-e655-84737dc57fde"
      },
      "execution_count": 152,
      "outputs": [
        {
          "output_type": "stream",
          "name": "stderr",
          "text": [
            "INFO:weka.core.jvm:JVM already running, call jvm.stop() first\n"
          ]
        }
      ]
    },
    {
      "cell_type": "code",
      "source": [
        "# evaluation function \n",
        "from weka.classifiers import Classifier, Evaluation\n",
        "from weka.core.classes import Random\n",
        "\n",
        "def evaluat (classifier, data, fold):\n",
        "  evaluation = Evaluation(data)                     # initialize with priors\n",
        "  evaluation.crossvalidate_model(classifier, data, fold, Random(42))  # 10-fold CV\n",
        "  print(evaluation.summary())"
      ],
      "metadata": {
        "id": "ml_-w_2dE7Kd"
      },
      "execution_count": 153,
      "outputs": []
    },
    {
      "cell_type": "code",
      "source": [
        "# data \n",
        "# glass dataset \n",
        "!wget https://storm.cis.fordham.edu/~gweiss/data-mining/weka-data/glass.arff\n",
        "import weka.core.converters as converters\n",
        "data = converters.load_any_file(\"glass.arff\")\n",
        "data.class_is_last()\n",
        "\n",
        "subset = data.subset(row_range='1-3') # print the first rows from the data\n",
        "#print(subset)"
      ],
      "metadata": {
        "colab": {
          "base_uri": "https://localhost:8080/"
        },
        "id": "b2hS5mMtYpdV",
        "outputId": "645c852e-72c3-40dc-dcdc-e779081f3203"
      },
      "execution_count": 154,
      "outputs": [
        {
          "output_type": "stream",
          "name": "stdout",
          "text": [
            "--2021-12-24 20:32:37--  https://storm.cis.fordham.edu/~gweiss/data-mining/weka-data/glass.arff\n",
            "Resolving storm.cis.fordham.edu (storm.cis.fordham.edu)... 150.108.68.26\n",
            "Connecting to storm.cis.fordham.edu (storm.cis.fordham.edu)|150.108.68.26|:443... connected.\n",
            "HTTP request sent, awaiting response... 200 OK\n",
            "Length: 17823 (17K) [text/plain]\n",
            "Saving to: ‘glass.arff.1’\n",
            "\n",
            "glass.arff.1        100%[===================>]  17.41K  --.-KB/s    in 0.04s   \n",
            "\n",
            "2021-12-24 20:32:37 (407 KB/s) - ‘glass.arff.1’ saved [17823/17823]\n",
            "\n"
          ]
        }
      ]
    },
    {
      "cell_type": "code",
      "source": [
        "# split into train and test \n",
        "from weka.core.classes import Random\n",
        "\n",
        "train, test = data.train_test_split(80.0, Random(1))\n",
        "print(len(train))\n",
        "print(len(test))\n",
        "train.subset(row_range='1-3')"
      ],
      "metadata": {
        "colab": {
          "base_uri": "https://localhost:8080/"
        },
        "id": "fHqsjDoCYQ7e",
        "outputId": "458859da-5c36-49f9-8e1b-11fed61ca44e"
      },
      "execution_count": 155,
      "outputs": [
        {
          "output_type": "stream",
          "name": "stdout",
          "text": [
            "171\n",
            "43\n"
          ]
        },
        {
          "output_type": "execute_result",
          "data": {
            "text/plain": [
              "@relation 'Glass-weka.filters.unsupervised.instance.RemoveRange-V-R1-3-weka.filters.MultiFilter-Fweka.filters.unsupervised.instance.RemoveRange -V -R 1-3'\n",
              "\n",
              "@attribute RI numeric\n",
              "@attribute Na numeric\n",
              "@attribute Mg numeric\n",
              "@attribute Al numeric\n",
              "@attribute Si numeric\n",
              "@attribute K numeric\n",
              "@attribute Ca numeric\n",
              "@attribute Ba numeric\n",
              "@attribute Fe numeric\n",
              "@attribute Type {'build wind float','build wind non-float','vehic wind float','vehic wind non-float',containers,tableware,headlamps}\n",
              "\n",
              "@data\n",
              "1.52121,14.03,3.76,0.58,71.79,0.11,9.65,0,0,'vehic wind float'\n",
              "1.51674,12.87,3.56,1.64,73.14,0.65,7.99,0,0,'build wind non-float'\n",
              "1.52119,12.97,0.33,1.51,73.39,0.13,11.27,0,0.28,containers"
            ]
          },
          "metadata": {},
          "execution_count": 155
        }
      ]
    },
    {
      "cell_type": "markdown",
      "source": [
        "# loading saved models which are our searching space"
      ],
      "metadata": {
        "id": "6YzPYr8TY7UB"
      }
    },
    {
      "cell_type": "code",
      "source": [
        "from weka.classifiers import Classifier, Evaluation\n",
        "outfile1 =\"j482.model\"\n",
        "model1, _ = Classifier.deserialize(outfile1)\n",
        "print(model1)"
      ],
      "metadata": {
        "colab": {
          "base_uri": "https://localhost:8080/"
        },
        "id": "5xHW29lBeGho",
        "outputId": "a09c3c96-6d9d-4848-94b0-c62c08013efe"
      },
      "execution_count": 156,
      "outputs": [
        {
          "output_type": "stream",
          "name": "stdout",
          "text": [
            "J48 pruned tree\n",
            "------------------\n",
            "\n",
            "Ba <= 0.11\n",
            "|   Mg <= 2.39\n",
            "|   |   Na <= 13.99\n",
            "|   |   |   Al <= 1.38: build wind non-float (6.0/1.0)\n",
            "|   |   |   Al > 1.38\n",
            "|   |   |   |   Fe <= 0.08: containers (8.0)\n",
            "|   |   |   |   Fe > 0.08: build wind non-float (4.0/1.0)\n",
            "|   |   Na > 13.99\n",
            "|   |   |   K <= 0.05: tableware (8.0)\n",
            "|   |   |   K > 0.05: build wind non-float (2.0/1.0)\n",
            "|   Mg > 2.39\n",
            "|   |   Ca <= 8.31\n",
            "|   |   |   Al <= 1.4\n",
            "|   |   |   |   Mg <= 3.77\n",
            "|   |   |   |   |   RI <= 1.51694: build wind non-float (3.0/1.0)\n",
            "|   |   |   |   |   RI > 1.51694: build wind float (7.0)\n",
            "|   |   |   |   Mg > 3.77: build wind non-float (4.0)\n",
            "|   |   |   Al > 1.4: build wind non-float (32.0/1.0)\n",
            "|   |   Ca > 8.31\n",
            "|   |   |   RI <= 1.51707\n",
            "|   |   |   |   Si <= 72.72: vehic wind float (5.0)\n",
            "|   |   |   |   Si > 72.72\n",
            "|   |   |   |   |   RI <= 1.51655: build wind float (2.0/1.0)\n",
            "|   |   |   |   |   RI > 1.51655: build wind non-float (2.0)\n",
            "|   |   |   RI > 1.51707\n",
            "|   |   |   |   Fe <= 0.11\n",
            "|   |   |   |   |   Al <= 1.47\n",
            "|   |   |   |   |   |   Fe <= 0.01\n",
            "|   |   |   |   |   |   |   Al <= 1.11\n",
            "|   |   |   |   |   |   |   |   Mg <= 3.7: vehic wind float (3.0/1.0)\n",
            "|   |   |   |   |   |   |   |   Mg > 3.7\n",
            "|   |   |   |   |   |   |   |   |   RI <= 1.52152\n",
            "|   |   |   |   |   |   |   |   |   |   RI <= 1.52101: build wind float (2.0)\n",
            "|   |   |   |   |   |   |   |   |   |   RI > 1.52101: vehic wind float (2.0)\n",
            "|   |   |   |   |   |   |   |   |   RI > 1.52152: build wind float (6.0)\n",
            "|   |   |   |   |   |   |   Al > 1.11\n",
            "|   |   |   |   |   |   |   |   RI <= 1.51839: build wind float (18.0)\n",
            "|   |   |   |   |   |   |   |   RI > 1.51839\n",
            "|   |   |   |   |   |   |   |   |   Na <= 13.42: build wind non-float (4.0)\n",
            "|   |   |   |   |   |   |   |   |   Na > 13.42: build wind float (5.0/1.0)\n",
            "|   |   |   |   |   |   Fe > 0.01: build wind float (7.0)\n",
            "|   |   |   |   |   Al > 1.47: vehic wind float (4.0/1.0)\n",
            "|   |   |   |   Fe > 0.11\n",
            "|   |   |   |   |   Mg <= 3.6: build wind float (6.0)\n",
            "|   |   |   |   |   Mg > 3.6\n",
            "|   |   |   |   |   |   RI <= 1.51994: build wind non-float (8.0)\n",
            "|   |   |   |   |   |   RI > 1.51994: build wind float (3.0)\n",
            "Ba > 0.11\n",
            "|   Si <= 69.89: build wind non-float (2.0/1.0)\n",
            "|   Si > 69.89: headlamps (18.0)\n",
            "\n",
            "Number of Leaves  : \t26\n",
            "\n",
            "Size of the tree : \t51\n",
            "\n"
          ]
        }
      ]
    },
    {
      "cell_type": "code",
      "source": [
        "from weka.classifiers import Classifier, Evaluation\n",
        "outfile2 =\"naivBayes.model\"\n",
        "model2, _ = Classifier.deserialize(outfile2)\n",
        "print(model2)"
      ],
      "metadata": {
        "id": "ZgJyMs2ZFoRd"
      },
      "execution_count": null,
      "outputs": []
    },
    {
      "cell_type": "markdown",
      "source": [
        "# Building ensemble from pre-trained models "
      ],
      "metadata": {
        "id": "ll4QxmaslvH1"
      }
    },
    {
      "cell_type": "markdown",
      "source": [
        "#### implementing Voting ensemble"
      ],
      "metadata": {
        "id": "GpiiDTBLqpl7"
      }
    },
    {
      "cell_type": "code",
      "source": [
        "# saving the model \n",
        "\n",
        "def save_model(classifier,name,path=\"\"):\n",
        "  import os\n",
        "  import tempfile\n",
        "  #import wekaexamples.helper as helper\n",
        "  import weka.core.serialization as serialization\n",
        "  outfile = name+\".model\"\n",
        "  print(outfile)\n",
        "  serialization.write(outfile, classifier)\n",
        "  return True"
      ],
      "metadata": {
        "id": "BNuTW2xEZ3X7"
      },
      "execution_count": 157,
      "outputs": []
    },
    {
      "cell_type": "code",
      "source": [
        "def read_model (name=\"j482.model\"):\n",
        "    import os\n",
        "    import tempfile\n",
        "    #import wekaexamples.helper as helper\n",
        "    import weka.core.serialization as serialization\n",
        "    # save and read object\n",
        "    outfile = name\n",
        "    model, m = Classifier.deserialize(outfile)\n",
        "    #print(model)\n",
        "    #return model\n",
        "    #return evl.test_model(model, test)\n",
        "    #print(evl.summary())\n",
        "    #print(model)\n",
        "\n",
        "read_model()"
      ],
      "metadata": {
        "id": "PTbLFiI2YjlT"
      },
      "execution_count": 158,
      "outputs": []
    },
    {
      "cell_type": "code",
      "source": [
        "from IPython.core.display import TextDisplayObject\n",
        "# build classifiers\n",
        "from weka.classifiers import Classifier , Evaluation \n",
        "list_cls_names=[\"weka.classifiers.trees.J48\",\"weka.classifiers.trees.DecisionStump\",\"weka.classifiers.rules.JRip\",\"weka.classifiers.lazy.KStar\"]\n",
        "\n",
        "\n",
        "for cls_name in list_cls_names:\n",
        "    # training classifier \n",
        "    from weka.classifiers import Classifier, Evaluation\n",
        "    from weka.core.classes import Random\n",
        "    #evaluation = Evaluation(train)   \n",
        "    cls = Classifier(classname=cls_name)\n",
        "    cls.build_classifier(train)\n",
        "    #evaluation.test_model(classifier, test)\n",
        "    evaluat(cls,train,10)\n",
        "    # saving the model \n",
        "    save_model(classifier=cls,name=cls_name)\n",
        "    # build classifier\n",
        "    #cls = Classifier(classname=cls_name)\n",
        "    #cls.build_classifier(train)"
      ],
      "metadata": {
        "colab": {
          "base_uri": "https://localhost:8080/"
        },
        "id": "u2gxEssqaOGh",
        "outputId": "c92018a9-72db-410e-b825-5f346464422f"
      },
      "execution_count": 159,
      "outputs": [
        {
          "output_type": "stream",
          "name": "stdout",
          "text": [
            "\n",
            "Correctly Classified Instances         120               70.1754 %\n",
            "Incorrectly Classified Instances        51               29.8246 %\n",
            "Kappa statistic                          0.5886\n",
            "Mean absolute error                      0.0923\n",
            "Root mean squared error                  0.2758\n",
            "Relative absolute error                 43.9974 %\n",
            "Root relative squared error             85.4684 %\n",
            "Total Number of Instances              171     \n",
            "\n",
            "weka.classifiers.trees.J48.model\n",
            "\n",
            "Correctly Classified Instances          74               43.2749 %\n",
            "Incorrectly Classified Instances        97               56.7251 %\n",
            "Kappa statistic                          0.2161\n",
            "Mean absolute error                      0.1829\n",
            "Root mean squared error                  0.3043\n",
            "Relative absolute error                 87.2286 %\n",
            "Root relative squared error             94.3018 %\n",
            "Total Number of Instances              171     \n",
            "\n",
            "weka.classifiers.trees.DecisionStump.model\n",
            "\n",
            "Correctly Classified Instances         123               71.9298 %\n",
            "Incorrectly Classified Instances        48               28.0702 %\n",
            "Kappa statistic                          0.6061\n",
            "Mean absolute error                      0.1026\n",
            "Root mean squared error                  0.266 \n",
            "Relative absolute error                 48.9387 %\n",
            "Root relative squared error             82.4406 %\n",
            "Total Number of Instances              171     \n",
            "\n",
            "weka.classifiers.rules.JRip.model\n",
            "\n",
            "Correctly Classified Instances         134               78.3626 %\n",
            "Incorrectly Classified Instances        37               21.6374 %\n",
            "Kappa statistic                          0.7019\n",
            "Mean absolute error                      0.0657\n",
            "Root mean squared error                  0.217 \n",
            "Relative absolute error                 31.328  %\n",
            "Root relative squared error             67.2425 %\n",
            "Total Number of Instances              171     \n",
            "\n",
            "weka.classifiers.lazy.KStar.model\n"
          ]
        }
      ]
    },
    {
      "cell_type": "markdown",
      "source": [
        "#   Genetic Algorithm "
      ],
      "metadata": {
        "id": "Vchsy9JhGSlZ"
      }
    },
    {
      "cell_type": "code",
      "source": [
        "# genetic algorithm\n",
        "def genetic_algorithm(fitness_func, chromosome_size, generations, population_size, cross_rate, matuation_ratet,population=None):\n",
        "\t# initial population of random bitstring\n",
        "\tpop = population \n",
        "\t# keep track of best solution\n",
        "\tbest, best_score= 0, fitness_func(pop[0])\n",
        "\t# enumerate generations\n",
        "\tfor gen in range(generations):\n",
        "\t\t# evaluate all candidates in the population\n",
        "\t\tscores = [fitness_func(c) for c in pop]\n",
        "\t\t# check for new best solution\n",
        "\t\tfor i in range(50):\n",
        "\t\t\tif scores[i] < best_eval:\n",
        "\t\t\t\tbest, best_score= pop[i], scores[i]\n",
        "\t\t\t\tprint(\">%d, new best f(%s) = %.3f\" % (gen,  pop[i], scores[i]))\n",
        "\t\t# select parents\n",
        "\t\tselected = [selection(pop, scores) for _ in range(50)]\n",
        "\t\t# create the next generation\n",
        "\t\tchildren = list()\n",
        "\t\tfor i in range(0, 50, 2):\n",
        "\t\t\t# get selected parents in pairs\n",
        "\t\t\tp1, p2 = selected[i], selected[i+1]\n",
        "\t\t\t# crossover and mutation\n",
        "\t\t\tfor c in crossover(p1, p2, cross_rate):\n",
        "\t\t\t\t# mutation\n",
        "\t\t\t\tmutation(c, r_mut)\n",
        "\t\t\t\t# store for next generation\n",
        "\t\t\t\tchildren.append(c)\n",
        "\t\t# replace population\n",
        "\t\tpop = children\n",
        "\treturn [best, best_eval]"
      ],
      "metadata": {
        "id": "UBy9dz12GXOl"
      },
      "execution_count": 160,
      "outputs": []
    },
    {
      "cell_type": "code",
      "source": [
        "#The problem is called \n",
        "# and evaluates a binary string based on the number of 1s in the string. For example, a bitstring with a length of 20 bits will have a score of 20 for a string of all 1s.\n",
        "\n",
        "#Given we have implemented the genetic algorithm to minimize the fitness_func function, we can add a negative sign to this evaluation so that large positive values become large negative values."
      ],
      "metadata": {
        "id": "BrUUJCRbIEva"
      },
      "execution_count": null,
      "outputs": []
    },
    {
      "cell_type": "code",
      "source": [
        "# parameters\n",
        "#parameters used for the genetic algorithm\n",
        "\n",
        "# define the total iterations\n",
        "generations = 30\n",
        "# bits\n",
        "chromosome_size = 16\n",
        "# define the population size\n",
        "population_size = 50\n",
        "# crossover rate\n",
        "cross_rate = 0.9\n",
        "# mutation rate\n",
        "matuation_rate= 0.1"
      ],
      "metadata": {
        "id": "f17NTH56JOHR"
      },
      "execution_count": null,
      "outputs": []
    },
    {
      "cell_type": "code",
      "source": [
        "from random import randrange,randint\n",
        "import numpy as population_size\n",
        "# selection\n",
        "def selection(pop, scores, k=3):\n",
        "\t# first random selection\n",
        "\tselection_ix = randrange(len(pop))\n",
        "\tfor ix in np.random.randint(low=0, high=len(pop), size=k-1):\n",
        "\t\t# check if better (e.g. perform a tournament)\n",
        "\t\tif scores[ix] < scores[selection_ix]:\n",
        "\t\t\tselection_ix = ix\n",
        "\treturn pop[selection_ix]\n",
        "\n",
        "# crossover two parents to create two children\n",
        "def crossover(p1, p2, cross_rate):\n",
        "\t# children are copies of parents by default\n",
        "\tc1, c2 = p1.copy(), p2.copy()\n",
        "\t# check for recombination\n",
        "\tif random.uniform(0,1) < cross_rate:\n",
        "\t\t# select crossover point that is not on the end of the string\n",
        "\t\tpt = randint(1, len(p1)-2)\n",
        "\t\t# perform crossover\n",
        "\t\tc1 = p1[:pt] + p2[pt:]\n",
        "\t\tc2 = p2[:pt] + p1[pt:]\n",
        "\treturn [c1, c2]\n",
        "\n",
        "# mutation operator\n",
        "def mutation(bitstring, r_mut):\n",
        "\tfor i in range(len(bitstring)):\n",
        "\t\t# check for a mutation\n",
        "\t\tif random.uniform(0,1) < r_mut:\n",
        "\t\t\t# flip the bit\n",
        "\t\t\tbitstring[i] = 1 - bitstring[i]\n",
        "\n"
      ],
      "metadata": {
        "id": "1zMt9IIgMuDr"
      },
      "execution_count": null,
      "outputs": []
    },
    {
      "cell_type": "code",
      "source": [
        "# fitness_func function\n",
        "def test(x):\n",
        "\treturn sum(x)"
      ],
      "metadata": {
        "id": "k5FClb-TXaNr"
      },
      "execution_count": null,
      "outputs": []
    },
    {
      "cell_type": "code",
      "source": [
        "# apply the algorithm \n",
        "import numpy as np\n",
        "# perform the genetic algorithm search\n",
        "best, score = genetic_algorithm(\"\", chromosome_size, generations, population_size, cross_rate, r_mut,population)\n",
        "print('Done!')\n",
        "print('f(%s) = %f' % (best, score))"
      ],
      "metadata": {
        "colab": {
          "base_uri": "https://localhost:8080/"
        },
        "id": "cQl_wusNKjwN",
        "outputId": "cfcfe228-c64d-4dc5-c38b-7b45b1ebebd6"
      },
      "execution_count": null,
      "outputs": [
        {
          "output_type": "stream",
          "name": "stdout",
          "text": [
            ">0, new best f([0, 0, 1, 0, 0, 0, 0, 0, 1, 0, 1, 0, 0, 0, 0, 1]) = -4.000\n",
            ">1, new best f([0, 1, 0, 1, 1, 0, 1, 0, 0, 0, 0, 1, 0, 0, 0, 1]) = -6.000\n",
            ">1, new best f([0, 0, 1, 1, 0, 1, 0, 0, 0, 0, 1, 1, 1, 0, 0, 1]) = -7.000\n",
            ">1, new best f([0, 0, 0, 1, 1, 0, 0, 1, 0, 1, 1, 1, 0, 1, 1, 1]) = -9.000\n",
            ">3, new best f([0, 1, 1, 1, 0, 0, 1, 1, 0, 1, 1, 1, 1, 1, 0, 1]) = -11.000\n",
            ">3, new best f([1, 1, 1, 1, 1, 1, 1, 1, 1, 0, 1, 0, 0, 1, 1, 1]) = -13.000\n",
            ">4, new best f([0, 1, 1, 1, 1, 1, 1, 1, 1, 1, 1, 1, 1, 1, 1, 1]) = -15.000\n",
            ">8, new best f([1, 1, 1, 1, 1, 1, 1, 1, 1, 1, 1, 1, 1, 1, 1, 1]) = -16.000\n",
            "Done!\n",
            "f([1, 1, 1, 1, 1, 1, 1, 1, 1, 1, 1, 1, 1, 1, 1, 1]) = -16.000000\n"
          ]
        }
      ]
    },
    {
      "cell_type": "markdown",
      "source": [
        "### decoding "
      ],
      "metadata": {
        "id": "QIjtLzEoXbK0"
      }
    },
    {
      "cell_type": "code",
      "source": [
        "def decode (chromosome):\n",
        "  selected_classifiers=[]\n",
        "  for i in range (0,len(chromosome)-1) :\n",
        "    if chromosome[i] == 1:\n",
        "      selected_classifiers.append(Algorithms_weka_names[i])\n",
        "  return selected_classifiers\n",
        "    \n",
        "decode([0, 0, 1, 0, 0, 0, 0, 0, 1, 0, 1, 0, 0, 0, 0, 1])"
      ],
      "metadata": {
        "colab": {
          "base_uri": "https://localhost:8080/"
        },
        "id": "rGt0FPnNXeEk",
        "outputId": "014581f8-455e-4871-c597-f8733eed887e"
      },
      "execution_count": null,
      "outputs": [
        {
          "output_type": "execute_result",
          "data": {
            "text/plain": [
              "['C4.5', 'Random Forest', 'VFI']"
            ]
          },
          "metadata": {},
          "execution_count": 140
        }
      ]
    },
    {
      "cell_type": "markdown",
      "source": [
        "# here where we are working right now, once the voting model can  be applied on our pretrained models, we can apply its accuarcy as the fitness function "
      ],
      "metadata": {
        "id": "fD-RzC2kLoKv"
      }
    },
    {
      "cell_type": "code",
      "source": [
        "from weka.classifiers import Classifier, Evaluation\n",
        "import os\n",
        "import tempfile\n",
        "\n",
        "cls = Classifier(classname=\"weka.classifiers.meta.Vote\",options=[\"-P\",\"weka.classifiers.rules.JRip.model\",\"-P\",\"weka.classifiers.trees.J48.model\"])\n",
        "cls.build_classifier(test)\n",
        "#evaluat (classifier=cls, data=test, fold=10)\n",
        "#evl.test_model(cls, test)\n",
        "#for index, inst in enumerate(test):\n",
        "    #pred = cls.classify_instance(inst)\n",
        "    #dist = cls.distribution_for_instance(inst)\n",
        "    #print(str(index+1) + \": label index=\" + str(pred) + \", class distribution=\" + str(dist))\n",
        "#evaluat(classifier=cls, data=test, fold=10)"
      ],
      "metadata": {
        "colab": {
          "base_uri": "https://localhost:8080/",
          "height": 417
        },
        "id": "YY8sZrSsgfpn",
        "outputId": "1cfd41ea-8d57-49b5-de12-3f5baf3343ee"
      },
      "execution_count": null,
      "outputs": [
        {
          "output_type": "error",
          "ename": "JavaException",
          "evalue": "ignored",
          "traceback": [
            "\u001b[0;31m---------------------------------------------------------------------------\u001b[0m",
            "\u001b[0;31mJavaException\u001b[0m                             Traceback (most recent call last)",
            "\u001b[0;32m<ipython-input-144-3f3989f1c41e>\u001b[0m in \u001b[0;36m<module>\u001b[0;34m()\u001b[0m\n\u001b[1;32m      4\u001b[0m \u001b[0;34m\u001b[0m\u001b[0m\n\u001b[1;32m      5\u001b[0m \u001b[0mcls\u001b[0m \u001b[0;34m=\u001b[0m \u001b[0mClassifier\u001b[0m\u001b[0;34m(\u001b[0m\u001b[0mclassname\u001b[0m\u001b[0;34m=\u001b[0m\u001b[0;34m\"weka.classifiers.meta.Vote\"\u001b[0m\u001b[0;34m,\u001b[0m\u001b[0moptions\u001b[0m\u001b[0;34m=\u001b[0m\u001b[0;34m[\u001b[0m\u001b[0;34m\"-P\"\u001b[0m\u001b[0;34m,\u001b[0m\u001b[0;34m\"weka.classifiers.rules.JRip.model\"\u001b[0m\u001b[0;34m,\u001b[0m\u001b[0;34m\"-P\"\u001b[0m\u001b[0;34m,\u001b[0m\u001b[0;34m\"weka.classifiers.trees.J48.model\"\u001b[0m\u001b[0;34m]\u001b[0m\u001b[0;34m)\u001b[0m\u001b[0;34m\u001b[0m\u001b[0;34m\u001b[0m\u001b[0m\n\u001b[0;32m----> 6\u001b[0;31m \u001b[0mcls\u001b[0m\u001b[0;34m.\u001b[0m\u001b[0mbuild_classifier\u001b[0m\u001b[0;34m(\u001b[0m\u001b[0mtest\u001b[0m\u001b[0;34m)\u001b[0m\u001b[0;34m\u001b[0m\u001b[0;34m\u001b[0m\u001b[0m\n\u001b[0m\u001b[1;32m      7\u001b[0m \u001b[0;31m#evaluat (classifier=cls, data=test, fold=10)\u001b[0m\u001b[0;34m\u001b[0m\u001b[0;34m\u001b[0m\u001b[0;34m\u001b[0m\u001b[0m\n\u001b[1;32m      8\u001b[0m \u001b[0;31m#evl.test_model(cls, test)\u001b[0m\u001b[0;34m\u001b[0m\u001b[0;34m\u001b[0m\u001b[0;34m\u001b[0m\u001b[0m\n",
            "\u001b[0;32m/usr/local/lib/python3.7/dist-packages/weka/classifiers.py\u001b[0m in \u001b[0;36mbuild_classifier\u001b[0;34m(self, data)\u001b[0m\n\u001b[1;32m    103\u001b[0m         \"\"\"\n\u001b[1;32m    104\u001b[0m         \u001b[0mself\u001b[0m\u001b[0;34m.\u001b[0m\u001b[0m_header\u001b[0m \u001b[0;34m=\u001b[0m \u001b[0mdata\u001b[0m\u001b[0;34m.\u001b[0m\u001b[0mcopy_structure\u001b[0m\u001b[0;34m(\u001b[0m\u001b[0;34m)\u001b[0m\u001b[0;34m\u001b[0m\u001b[0;34m\u001b[0m\u001b[0m\n\u001b[0;32m--> 105\u001b[0;31m         \u001b[0mjavabridge\u001b[0m\u001b[0;34m.\u001b[0m\u001b[0mcall\u001b[0m\u001b[0;34m(\u001b[0m\u001b[0mself\u001b[0m\u001b[0;34m.\u001b[0m\u001b[0mjobject\u001b[0m\u001b[0;34m,\u001b[0m \u001b[0;34m\"buildClassifier\"\u001b[0m\u001b[0;34m,\u001b[0m \u001b[0;34m\"(Lweka/core/Instances;)V\"\u001b[0m\u001b[0;34m,\u001b[0m \u001b[0mdata\u001b[0m\u001b[0;34m.\u001b[0m\u001b[0mjobject\u001b[0m\u001b[0;34m)\u001b[0m\u001b[0;34m\u001b[0m\u001b[0;34m\u001b[0m\u001b[0m\n\u001b[0m\u001b[1;32m    106\u001b[0m \u001b[0;34m\u001b[0m\u001b[0m\n\u001b[1;32m    107\u001b[0m     \u001b[0;32mdef\u001b[0m \u001b[0mupdate_classifier\u001b[0m\u001b[0;34m(\u001b[0m\u001b[0mself\u001b[0m\u001b[0;34m,\u001b[0m \u001b[0minst\u001b[0m\u001b[0;34m)\u001b[0m\u001b[0;34m:\u001b[0m\u001b[0;34m\u001b[0m\u001b[0;34m\u001b[0m\u001b[0m\n",
            "\u001b[0;32m/usr/local/lib/python3.7/dist-packages/javabridge/jutil.py\u001b[0m in \u001b[0;36mcall\u001b[0;34m(o, method_name, sig, *args)\u001b[0m\n\u001b[1;32m    890\u001b[0m     \u001b[0mret_sig\u001b[0m \u001b[0;34m=\u001b[0m \u001b[0msig\u001b[0m\u001b[0;34m[\u001b[0m\u001b[0msig\u001b[0m\u001b[0;34m.\u001b[0m\u001b[0mfind\u001b[0m\u001b[0;34m(\u001b[0m\u001b[0;34m')'\u001b[0m\u001b[0;34m)\u001b[0m\u001b[0;34m+\u001b[0m\u001b[0;36m1\u001b[0m\u001b[0;34m:\u001b[0m\u001b[0;34m]\u001b[0m\u001b[0;34m\u001b[0m\u001b[0;34m\u001b[0m\u001b[0m\n\u001b[1;32m    891\u001b[0m     \u001b[0mnice_args\u001b[0m \u001b[0;34m=\u001b[0m \u001b[0mget_nice_args\u001b[0m\u001b[0;34m(\u001b[0m\u001b[0margs\u001b[0m\u001b[0;34m,\u001b[0m \u001b[0margs_sig\u001b[0m\u001b[0;34m)\u001b[0m\u001b[0;34m\u001b[0m\u001b[0;34m\u001b[0m\u001b[0m\n\u001b[0;32m--> 892\u001b[0;31m     \u001b[0mresult\u001b[0m \u001b[0;34m=\u001b[0m \u001b[0mfn\u001b[0m\u001b[0;34m(\u001b[0m\u001b[0;34m*\u001b[0m\u001b[0mnice_args\u001b[0m\u001b[0;34m)\u001b[0m\u001b[0;34m\u001b[0m\u001b[0;34m\u001b[0m\u001b[0m\n\u001b[0m\u001b[1;32m    893\u001b[0m     \u001b[0mx\u001b[0m \u001b[0;34m=\u001b[0m \u001b[0menv\u001b[0m\u001b[0;34m.\u001b[0m\u001b[0mexception_occurred\u001b[0m\u001b[0;34m(\u001b[0m\u001b[0;34m)\u001b[0m\u001b[0;34m\u001b[0m\u001b[0;34m\u001b[0m\u001b[0m\n\u001b[1;32m    894\u001b[0m     \u001b[0;32mif\u001b[0m \u001b[0mx\u001b[0m \u001b[0;32mis\u001b[0m \u001b[0;32mnot\u001b[0m \u001b[0;32mNone\u001b[0m\u001b[0;34m:\u001b[0m\u001b[0;34m\u001b[0m\u001b[0;34m\u001b[0m\u001b[0m\n",
            "\u001b[0;32m/usr/local/lib/python3.7/dist-packages/javabridge/jutil.py\u001b[0m in \u001b[0;36mfn\u001b[0;34m(*args)\u001b[0m\n\u001b[1;32m    857\u001b[0m             \u001b[0mx\u001b[0m \u001b[0;34m=\u001b[0m \u001b[0menv\u001b[0m\u001b[0;34m.\u001b[0m\u001b[0mexception_occurred\u001b[0m\u001b[0;34m(\u001b[0m\u001b[0;34m)\u001b[0m\u001b[0;34m\u001b[0m\u001b[0;34m\u001b[0m\u001b[0m\n\u001b[1;32m    858\u001b[0m             \u001b[0;32mif\u001b[0m \u001b[0mx\u001b[0m \u001b[0;32mis\u001b[0m \u001b[0;32mnot\u001b[0m \u001b[0;32mNone\u001b[0m\u001b[0;34m:\u001b[0m\u001b[0;34m\u001b[0m\u001b[0;34m\u001b[0m\u001b[0m\n\u001b[0;32m--> 859\u001b[0;31m                 \u001b[0;32mraise\u001b[0m \u001b[0mJavaException\u001b[0m\u001b[0;34m(\u001b[0m\u001b[0mx\u001b[0m\u001b[0;34m)\u001b[0m\u001b[0;34m\u001b[0m\u001b[0;34m\u001b[0m\u001b[0m\n\u001b[0m\u001b[1;32m    860\u001b[0m             \u001b[0;32mreturn\u001b[0m \u001b[0mresult\u001b[0m\u001b[0;34m\u001b[0m\u001b[0;34m\u001b[0m\u001b[0m\n\u001b[1;32m    861\u001b[0m     \u001b[0;32melse\u001b[0m\u001b[0;34m:\u001b[0m\u001b[0;34m\u001b[0m\u001b[0;34m\u001b[0m\u001b[0m\n",
            "\u001b[0;31mJavaException\u001b[0m: <Java object at 0x-7aa1a590>"
          ]
        }
      ]
    }
  ]
}