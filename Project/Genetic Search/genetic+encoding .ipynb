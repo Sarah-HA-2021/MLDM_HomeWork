{
  "cells": [
    {
      "cell_type": "markdown",
      "metadata": {
        "id": "2vIDTyxJFVc4"
      },
      "source": [
        "#Encoding Base classifiers \n",
        "\n",
        "\n",
        "1.   Naive Bayes\n",
        "2.   PART\n",
        "3.   C4.5\n",
        "4.   C4.5 using unpruned tree\n",
        "5.   Decision Stump\n",
        "6.   Decision Table\n",
        "7.   Decision Table using the nearest neighbour instead of global table majority\n",
        "8.   Classification Via Regression\n",
        "9.   Random Forest\n",
        "10.  Random Tree\n",
        "11.  VFI\n",
        "12.  Conjunctive Rule\n",
        "13.  JRip\n",
        "14.  Nnge\n",
        "15.  HyperPipes\n",
        "\n",
        "\n",
        "\n",
        "\n",
        "\n",
        "\n",
        "\n",
        "\n",
        "\n",
        "\n",
        "\n",
        "\n",
        "\n",
        "\n",
        "\n"
      ]
    },
    {
      "cell_type": "code",
      "execution_count": 98,
      "metadata": {
        "id": "CwFu8DPgEugw"
      },
      "outputs": [],
      "source": [
        "# Learning algorithms \n",
        "Algorithms_names=['Naive Bayes',\n",
        "'PART',\n",
        "'C4.5',\n",
        "'C4.5 using unpruned tree',\n",
        "'Decision Stump',\n",
        "'Decision Table',\n",
        "'Decision Table using the nearest neighbour instead of global table majority',\n",
        "'Classification Via Regression',\n",
        "'Random Forest',\n",
        "'Random Tree',\n",
        "'VFI',\n",
        "'Conjunctive Rule',\n",
        "'JRip',\n",
        "'Nnge',\n",
        "'HyperPipes']\n",
        "\n",
        "# Leraning alforithms in weka \n",
        "Algorithms_weka_names=['weka.classifiers.bayes.NaiveBayes',\n",
        "'weka.classifiers.rules.PART',\n",
        "'weka.classifiers.trees.J48',\n",
        "'weka.classifiers.trees.J48', # unprunned tree \n",
        "'weka.classifiers.trees.DecisionStump',\n",
        "'weka.classifiers.rules.DecisionTable',\n",
        "'weka.classifiers.rules.DecisionTable', # desecion table using knn \n",
        "'weka.classifiers.meta.ClassificationViaRegression',\n",
        "'weka.classifiers.trees.RandomForest',\n",
        "'weka.classifiers.trees.RandomTree',\n",
        "'weka.classifiers.misc.VFI',\n",
        "'weka.classifiers.rules.ConjunctiveRule',\n",
        "'weka.classifiers.rules.JRip',\n",
        "'weka.classifiers.rules.NNge',\n",
        "'weka.classifiers.misc.HyperPipes']"
      ]
    },
    {
      "cell_type": "code",
      "execution_count": 99,
      "metadata": {
        "id": "QtLBOD58n_Sg"
      },
      "outputs": [],
      "source": [
        "# ensembling method \n",
        "ensembling_method=['weka.classifiers.meta.Vote','meta_classifier']\n",
        "# 0 for meta classifier \n",
        "# 1 for vote "
      ]
    },
    {
      "cell_type": "markdown",
      "metadata": {
        "id": "tq2FpUj0ouzp"
      },
      "source": [
        "# Generating Population "
      ]
    },
    {
      "cell_type": "code",
      "execution_count": 100,
      "metadata": {
        "colab": {
          "base_uri": "https://localhost:8080/"
        },
        "id": "2keIzkqXy3Ci",
        "outputId": "8c46adab-71ca-4d91-f1c4-c8551df22548"
      },
      "outputs": [
        {
          "output_type": "stream",
          "name": "stdout",
          "text": [
            "455\n"
          ]
        }
      ],
      "source": [
        "# A Python program to print all\n",
        "# combinations of given length\n",
        "\n",
        "wide_space=[]\n",
        "\n",
        "from itertools import combinations\n",
        "count = 0\n",
        "# Get all combinations of [1, 2, 3]\n",
        "# and length 2\n",
        "comb = combinations(Algorithms_names,3)\n",
        " \n",
        "# Print the obtained combinations\n",
        "for i in list(comb):\n",
        "    wide_space.append(i)\n",
        "    count =count+1\n",
        "    #print (i)\n",
        "print(count)"
      ]
    },
    {
      "cell_type": "code",
      "execution_count": 101,
      "metadata": {
        "colab": {
          "base_uri": "https://localhost:8080/"
        },
        "id": "Q06kvjwC1xPs",
        "outputId": "738814cd-bfb6-4412-9be8-7a455dadb4ee"
      },
      "outputs": [
        {
          "output_type": "stream",
          "name": "stdout",
          "text": [
            "[('Random Forest', 'JRip', 'Nnge'), ('C4.5', 'Decision Table', 'Nnge'), ('Decision Table using the nearest neighbour instead of global table majority', 'Random Tree', 'HyperPipes'), ('C4.5', 'Random Forest', 'VFI'), ('Naive Bayes', 'C4.5', 'VFI'), ('PART', 'Decision Table', 'HyperPipes'), ('C4.5 using unpruned tree', 'Decision Table using the nearest neighbour instead of global table majority', 'HyperPipes'), ('C4.5 using unpruned tree', 'Decision Table', 'Random Tree'), ('C4.5', 'Classification Via Regression', 'Random Forest'), ('Classification Via Regression', 'Random Forest', 'Conjunctive Rule'), ('Random Forest', 'Random Tree', 'HyperPipes'), ('PART', 'Random Tree', 'Conjunctive Rule'), ('C4.5 using unpruned tree', 'Decision Stump', 'HyperPipes'), ('C4.5', 'Decision Stump', 'Random Forest'), ('Decision Stump', 'Decision Table', 'HyperPipes'), ('PART', 'C4.5 using unpruned tree', 'JRip'), ('C4.5 using unpruned tree', 'Decision Table using the nearest neighbour instead of global table majority', 'Conjunctive Rule'), ('Naive Bayes', 'Random Forest', 'VFI'), ('PART', 'Classification Via Regression', 'Conjunctive Rule'), ('Decision Table using the nearest neighbour instead of global table majority', 'Random Tree', 'JRip'), ('Naive Bayes', 'Decision Table', 'Random Forest'), ('Decision Stump', 'Random Forest', 'Conjunctive Rule'), ('Classification Via Regression', 'Random Tree', 'HyperPipes'), ('PART', 'Decision Table', 'VFI'), ('C4.5 using unpruned tree', 'Random Forest', 'JRip'), ('Decision Table', 'VFI', 'Conjunctive Rule'), ('Classification Via Regression', 'Conjunctive Rule', 'JRip'), ('Decision Stump', 'Classification Via Regression', 'Random Tree'), ('Naive Bayes', 'Random Forest', 'HyperPipes'), ('PART', 'Random Tree', 'HyperPipes'), ('Naive Bayes', 'Decision Table', 'VFI'), ('Decision Table using the nearest neighbour instead of global table majority', 'Classification Via Regression', 'VFI'), ('Naive Bayes', 'Decision Stump', 'Decision Table using the nearest neighbour instead of global table majority'), ('Random Tree', 'VFI', 'Conjunctive Rule'), ('Decision Table', 'Random Forest', 'Random Tree'), ('C4.5', 'C4.5 using unpruned tree', 'Decision Stump'), ('C4.5 using unpruned tree', 'Decision Stump', 'Conjunctive Rule'), ('C4.5 using unpruned tree', 'Conjunctive Rule', 'HyperPipes'), ('Naive Bayes', 'Decision Table', 'Conjunctive Rule'), ('C4.5', 'Decision Stump', 'Decision Table using the nearest neighbour instead of global table majority'), ('C4.5', 'Random Tree', 'JRip'), ('PART', 'VFI', 'Nnge'), ('Decision Stump', 'Classification Via Regression', 'Nnge'), ('Decision Stump', 'VFI', 'Nnge'), ('PART', 'C4.5 using unpruned tree', 'Decision Table'), ('C4.5 using unpruned tree', 'VFI', 'Nnge'), ('C4.5', 'VFI', 'JRip'), ('Random Tree', 'JRip', 'HyperPipes'), ('C4.5 using unpruned tree', 'Classification Via Regression', 'JRip'), ('PART', 'Decision Table using the nearest neighbour instead of global table majority', 'Classification Via Regression')]\n"
          ]
        }
      ],
      "source": [
        "#selecting  a random subset \n",
        "import random\n",
        "random.seed(0)\n",
        "from random import sample\n",
        "samples=sample(wide_space,50) #50 is population size \n",
        "print(samples)"
      ]
    },
    {
      "cell_type": "code",
      "execution_count": 102,
      "metadata": {
        "colab": {
          "base_uri": "https://localhost:8080/"
        },
        "id": "MpQVgN3poHG0",
        "outputId": "0330583f-ce5c-4a8a-a364-a472ea79d207"
      },
      "outputs": [
        {
          "output_type": "execute_result",
          "data": {
            "text/plain": [
              "[[0, 0, 0, 0, 0, 0, 0, 0, 1, 0, 0, 0, 1, 1, 0],\n",
              " [0, 0, 1, 0, 0, 1, 0, 0, 0, 0, 0, 0, 0, 1, 0],\n",
              " [0, 0, 0, 0, 0, 0, 1, 0, 0, 1, 0, 0, 0, 0, 1],\n",
              " [0, 0, 1, 0, 0, 0, 0, 0, 1, 0, 1, 0, 0, 0, 0],\n",
              " [1, 0, 1, 0, 0, 0, 0, 0, 0, 0, 1, 0, 0, 0, 0],\n",
              " [0, 1, 0, 0, 0, 1, 0, 0, 0, 0, 0, 0, 0, 0, 1],\n",
              " [0, 0, 0, 1, 0, 0, 1, 0, 0, 0, 0, 0, 0, 0, 1],\n",
              " [0, 0, 0, 1, 0, 1, 0, 0, 0, 1, 0, 0, 0, 0, 0],\n",
              " [0, 0, 1, 0, 0, 0, 0, 1, 1, 0, 0, 0, 0, 0, 0],\n",
              " [0, 0, 0, 0, 0, 0, 0, 1, 1, 0, 0, 1, 0, 0, 0],\n",
              " [0, 0, 0, 0, 0, 0, 0, 0, 1, 1, 0, 0, 0, 0, 1],\n",
              " [0, 1, 0, 0, 0, 0, 0, 0, 0, 1, 0, 1, 0, 0, 0],\n",
              " [0, 0, 0, 1, 1, 0, 0, 0, 0, 0, 0, 0, 0, 0, 1],\n",
              " [0, 0, 1, 0, 1, 0, 0, 0, 1, 0, 0, 0, 0, 0, 0],\n",
              " [0, 0, 0, 0, 1, 1, 0, 0, 0, 0, 0, 0, 0, 0, 1],\n",
              " [0, 1, 0, 1, 0, 0, 0, 0, 0, 0, 0, 0, 1, 0, 0],\n",
              " [0, 0, 0, 1, 0, 0, 1, 0, 0, 0, 0, 1, 0, 0, 0],\n",
              " [1, 0, 0, 0, 0, 0, 0, 0, 1, 0, 1, 0, 0, 0, 0],\n",
              " [0, 1, 0, 0, 0, 0, 0, 1, 0, 0, 0, 1, 0, 0, 0],\n",
              " [0, 0, 0, 0, 0, 0, 1, 0, 0, 1, 0, 0, 1, 0, 0],\n",
              " [1, 0, 0, 0, 0, 1, 0, 0, 1, 0, 0, 0, 0, 0, 0],\n",
              " [0, 0, 0, 0, 1, 0, 0, 0, 1, 0, 0, 1, 0, 0, 0],\n",
              " [0, 0, 0, 0, 0, 0, 0, 1, 0, 1, 0, 0, 0, 0, 1],\n",
              " [0, 1, 0, 0, 0, 1, 0, 0, 0, 0, 1, 0, 0, 0, 0],\n",
              " [0, 0, 0, 1, 0, 0, 0, 0, 1, 0, 0, 0, 1, 0, 0],\n",
              " [0, 0, 0, 0, 0, 1, 0, 0, 0, 0, 1, 1, 0, 0, 0],\n",
              " [0, 0, 0, 0, 0, 0, 0, 1, 0, 0, 0, 1, 1, 0, 0],\n",
              " [0, 0, 0, 0, 1, 0, 0, 1, 0, 1, 0, 0, 0, 0, 0],\n",
              " [1, 0, 0, 0, 0, 0, 0, 0, 1, 0, 0, 0, 0, 0, 1],\n",
              " [0, 1, 0, 0, 0, 0, 0, 0, 0, 1, 0, 0, 0, 0, 1],\n",
              " [1, 0, 0, 0, 0, 1, 0, 0, 0, 0, 1, 0, 0, 0, 0],\n",
              " [0, 0, 0, 0, 0, 0, 1, 1, 0, 0, 1, 0, 0, 0, 0],\n",
              " [1, 0, 0, 0, 1, 0, 1, 0, 0, 0, 0, 0, 0, 0, 0],\n",
              " [0, 0, 0, 0, 0, 0, 0, 0, 0, 1, 1, 1, 0, 0, 0],\n",
              " [0, 0, 0, 0, 0, 1, 0, 0, 1, 1, 0, 0, 0, 0, 0],\n",
              " [0, 0, 1, 1, 1, 0, 0, 0, 0, 0, 0, 0, 0, 0, 0],\n",
              " [0, 0, 0, 1, 1, 0, 0, 0, 0, 0, 0, 1, 0, 0, 0],\n",
              " [0, 0, 0, 1, 0, 0, 0, 0, 0, 0, 0, 1, 0, 0, 1],\n",
              " [1, 0, 0, 0, 0, 1, 0, 0, 0, 0, 0, 1, 0, 0, 0],\n",
              " [0, 0, 1, 0, 1, 0, 1, 0, 0, 0, 0, 0, 0, 0, 0],\n",
              " [0, 0, 1, 0, 0, 0, 0, 0, 0, 1, 0, 0, 1, 0, 0],\n",
              " [0, 1, 0, 0, 0, 0, 0, 0, 0, 0, 1, 0, 0, 1, 0],\n",
              " [0, 0, 0, 0, 1, 0, 0, 1, 0, 0, 0, 0, 0, 1, 0],\n",
              " [0, 0, 0, 0, 1, 0, 0, 0, 0, 0, 1, 0, 0, 1, 0],\n",
              " [0, 1, 0, 1, 0, 1, 0, 0, 0, 0, 0, 0, 0, 0, 0],\n",
              " [0, 0, 0, 1, 0, 0, 0, 0, 0, 0, 1, 0, 0, 1, 0],\n",
              " [0, 0, 1, 0, 0, 0, 0, 0, 0, 0, 1, 0, 1, 0, 0],\n",
              " [0, 0, 0, 0, 0, 0, 0, 0, 0, 1, 0, 0, 1, 0, 1],\n",
              " [0, 0, 0, 1, 0, 0, 0, 1, 0, 0, 0, 0, 1, 0, 0],\n",
              " [0, 1, 0, 0, 0, 0, 1, 1, 0, 0, 0, 0, 0, 0, 0]]"
            ]
          },
          "metadata": {},
          "execution_count": 102
        }
      ],
      "source": [
        "population=[]\n",
        "def encoding (Algorithms_names,samples):\n",
        "  for sample in samples:\n",
        "    chromosome=len(Algorithms_names)*[0]\n",
        "    for i in range (0, len(Algorithms_names)):\n",
        "      if Algorithms_names[i] in sample:\n",
        "        #print('yes')\n",
        "        chromosome[i]=1\n",
        "    population.append(chromosome)\n",
        "  return population \n",
        "encoding (Algorithms_names,samples)"
      ]
    },
    {
      "cell_type": "code",
      "execution_count": 103,
      "metadata": {
        "colab": {
          "base_uri": "https://localhost:8080/"
        },
        "id": "q827s7E9-3X6",
        "outputId": "f5eb97cc-110d-4224-e086-4d5fa4b0f7b1"
      },
      "outputs": [
        {
          "output_type": "execute_result",
          "data": {
            "text/plain": [
              "[[0, 0, 0, 0, 0, 0, 0, 0, 1, 0, 0, 0, 1, 1, 0, 0],\n",
              " [0, 0, 1, 0, 0, 1, 0, 0, 0, 0, 0, 0, 0, 1, 0, 0],\n",
              " [0, 0, 0, 0, 0, 0, 1, 0, 0, 1, 0, 0, 0, 0, 1, 0]]"
            ]
          },
          "metadata": {},
          "execution_count": 103
        }
      ],
      "source": [
        "# append ensembling method encoding\n",
        "import random\n",
        "\n",
        "for chromosome in population:\n",
        "  chromosome.append(random.randrange(2))\n",
        "\n",
        "population[:3]"
      ]
    },
    {
      "cell_type": "code",
      "execution_count": 104,
      "metadata": {
        "colab": {
          "base_uri": "https://localhost:8080/"
        },
        "id": "Tdvs47WCXbpu",
        "outputId": "4f5a1818-5a5d-4641-f3fa-fa24a05575e8"
      },
      "outputs": [
        {
          "output_type": "stream",
          "name": "stdout",
          "text": [
            "Requirement already satisfied: numpy in /usr/local/lib/python3.7/dist-packages (1.21.5)\n",
            "Requirement already satisfied: python-javabridge in /usr/local/lib/python3.7/dist-packages (4.0.3)\n",
            "Requirement already satisfied: numpy>=1.20.1 in /usr/local/lib/python3.7/dist-packages (from python-javabridge) (1.21.5)\n",
            "Requirement already satisfied: python-weka-wrapper3 in /usr/local/lib/python3.7/dist-packages (0.2.5)\n",
            "Requirement already satisfied: python-javabridge>=4.0.0 in /usr/local/lib/python3.7/dist-packages (from python-weka-wrapper3) (4.0.3)\n",
            "Requirement already satisfied: numpy in /usr/local/lib/python3.7/dist-packages (from python-weka-wrapper3) (1.21.5)\n",
            "Requirement already satisfied: packaging in /usr/local/lib/python3.7/dist-packages (from python-weka-wrapper3) (21.3)\n",
            "Requirement already satisfied: pyparsing!=3.0.5,>=2.0.2 in /usr/local/lib/python3.7/dist-packages (from packaging->python-weka-wrapper3) (3.0.6)\n"
          ]
        }
      ],
      "source": [
        "!pip install numpy\n",
        "!pip install python-javabridge\n",
        "!pip install python-weka-wrapper3"
      ]
    },
    {
      "cell_type": "code",
      "execution_count": 93,
      "metadata": {
        "colab": {
          "base_uri": "https://localhost:8080/"
        },
        "id": "z66PMT7TX3an",
        "outputId": "f788ea01-fd70-4c2b-e2e8-d7628d9f91db"
      },
      "outputs": [
        {
          "output_type": "stream",
          "name": "stderr",
          "text": [
            "INFO:weka.core.jvm:JVM already running, call jvm.stop() first\n"
          ]
        }
      ],
      "source": [
        "# start jvm\n",
        "import weka.core.jvm as jvm\n",
        "\n",
        "jvm.start(packages=True)"
      ]
    },
    {
      "cell_type": "code",
      "execution_count": 105,
      "metadata": {
        "id": "ml_-w_2dE7Kd"
      },
      "outputs": [],
      "source": [
        "# evaluation function \n",
        "from weka.classifiers import Classifier, Evaluation\n",
        "from weka.core.classes import Random\n",
        "\n",
        "def evaluat (classifier, data, fold):\n",
        "  evaluation = Evaluation(data)                     # initialize with priors\n",
        "  evaluation.crossvalidate_model(classifier, data, fold, Random(42))  # 10-fold CV\n",
        "  print(evaluation.summary())"
      ]
    },
    {
      "cell_type": "code",
      "execution_count": 106,
      "metadata": {
        "colab": {
          "base_uri": "https://localhost:8080/"
        },
        "id": "b2hS5mMtYpdV",
        "outputId": "2842712b-eb00-42ac-f7af-1f77c474e1a6"
      },
      "outputs": [
        {
          "output_type": "stream",
          "name": "stdout",
          "text": [
            "--2021-12-25 12:48:56--  https://storm.cis.fordham.edu/~gweiss/data-mining/weka-data/glass.arff\n",
            "Resolving storm.cis.fordham.edu (storm.cis.fordham.edu)... 150.108.68.26\n",
            "Connecting to storm.cis.fordham.edu (storm.cis.fordham.edu)|150.108.68.26|:443... connected.\n",
            "HTTP request sent, awaiting response... 200 OK\n",
            "Length: 17823 (17K) [text/plain]\n",
            "Saving to: ‘glass.arff.2’\n",
            "\n",
            "glass.arff.2        100%[===================>]  17.41K  --.-KB/s    in 0.04s   \n",
            "\n",
            "2021-12-25 12:48:56 (406 KB/s) - ‘glass.arff.2’ saved [17823/17823]\n",
            "\n"
          ]
        }
      ],
      "source": [
        "# data \n",
        "# glass dataset \n",
        "!wget https://storm.cis.fordham.edu/~gweiss/data-mining/weka-data/glass.arff\n",
        "import weka.core.converters as converters\n",
        "data = converters.load_any_file(\"glass.arff\")\n",
        "data.class_is_last()\n",
        "\n",
        "subset = data.subset(row_range='1-3') # print the first rows from the data\n",
        "#print(subset)"
      ]
    },
    {
      "cell_type": "code",
      "execution_count": 107,
      "metadata": {
        "colab": {
          "base_uri": "https://localhost:8080/"
        },
        "id": "fHqsjDoCYQ7e",
        "outputId": "342aab68-5833-44ce-dd29-eef952402396"
      },
      "outputs": [
        {
          "output_type": "stream",
          "name": "stdout",
          "text": [
            "171\n",
            "43\n"
          ]
        },
        {
          "output_type": "execute_result",
          "data": {
            "text/plain": [
              "@relation 'Glass-weka.filters.unsupervised.instance.RemoveRange-V-R1-3-weka.filters.MultiFilter-Fweka.filters.unsupervised.instance.RemoveRange -V -R 1-3'\n",
              "\n",
              "@attribute RI numeric\n",
              "@attribute Na numeric\n",
              "@attribute Mg numeric\n",
              "@attribute Al numeric\n",
              "@attribute Si numeric\n",
              "@attribute K numeric\n",
              "@attribute Ca numeric\n",
              "@attribute Ba numeric\n",
              "@attribute Fe numeric\n",
              "@attribute Type {'build wind float','build wind non-float','vehic wind float','vehic wind non-float',containers,tableware,headlamps}\n",
              "\n",
              "@data\n",
              "1.52121,14.03,3.76,0.58,71.79,0.11,9.65,0,0,'vehic wind float'\n",
              "1.51674,12.87,3.56,1.64,73.14,0.65,7.99,0,0,'build wind non-float'\n",
              "1.52119,12.97,0.33,1.51,73.39,0.13,11.27,0,0.28,containers"
            ]
          },
          "metadata": {},
          "execution_count": 107
        }
      ],
      "source": [
        "# split into train and test \n",
        "from weka.core.classes import Random\n",
        "\n",
        "train, test = data.train_test_split(80.0, Random(1))\n",
        "print(len(train))\n",
        "print(len(test))\n",
        "train.subset(row_range='1-3')"
      ]
    },
    {
      "cell_type": "markdown",
      "metadata": {
        "id": "6YzPYr8TY7UB"
      },
      "source": [
        "# loading saved models which we generated from our generating_classifiers.ipynb notebook , they will be our searching space"
      ]
    },
    {
      "cell_type": "code",
      "source": [
        "from weka.classifiers import Classifier, Evaluation\n",
        "outfile1 =\"j482.model\"\n",
        "model1, _ = Classifier.deserialize(outfile1)\n",
        "print(model1)"
      ],
      "metadata": {
        "id": "EW8cLvk5o2Cb"
      },
      "execution_count": null,
      "outputs": []
    },
    {
      "cell_type": "code",
      "execution_count": null,
      "metadata": {
        "id": "ZgJyMs2ZFoRd"
      },
      "outputs": [],
      "source": [
        "from weka.classifiers import Classifier, Evaluation\n",
        "outfile2 =\"naivBayes.model\"\n",
        "model2, _ = Classifier.deserialize(outfile2)\n",
        "print(model2)"
      ]
    },
    {
      "cell_type": "markdown",
      "metadata": {
        "id": "ll4QxmaslvH1"
      },
      "source": [
        "# Building ensemble from pre-trained models "
      ]
    },
    {
      "cell_type": "markdown",
      "metadata": {
        "id": "GpiiDTBLqpl7"
      },
      "source": [
        "#### implementing Voting ensemble"
      ]
    },
    {
      "cell_type": "code",
      "execution_count": 109,
      "metadata": {
        "id": "BNuTW2xEZ3X7"
      },
      "outputs": [],
      "source": [
        "# saving the model \n",
        "\n",
        "def save_model(classifier,name,path=\"\"):\n",
        "  import os\n",
        "  import tempfile\n",
        "  #import wekaexamples.helper as helper\n",
        "  import weka.core.serialization as serialization\n",
        "  outfile = name+\".model\"\n",
        "  print(outfile)\n",
        "  serialization.write(outfile, classifier)\n",
        "  return True"
      ]
    },
    {
      "cell_type": "code",
      "execution_count": 110,
      "metadata": {
        "id": "PTbLFiI2YjlT"
      },
      "outputs": [],
      "source": [
        "def read_model (name=\"j482.model\"):\n",
        "    import os\n",
        "    import tempfile\n",
        "    #import wekaexamples.helper as helper\n",
        "    import weka.core.serialization as serialization\n",
        "    # save and read object\n",
        "    outfile = name\n",
        "    model, m = Classifier.deserialize(outfile)\n",
        "    #print(model)\n",
        "    #return model\n",
        "    #return evl.test_model(model, test)\n",
        "    #print(evl.summary())\n",
        "    #print(model)\n",
        "\n",
        "#read_model()"
      ]
    },
    {
      "cell_type": "code",
      "execution_count": 111,
      "metadata": {
        "colab": {
          "base_uri": "https://localhost:8080/"
        },
        "id": "u2gxEssqaOGh",
        "outputId": "5f2a4a98-4829-4572-fc16-4b81d61c28da"
      },
      "outputs": [
        {
          "output_type": "stream",
          "name": "stdout",
          "text": [
            "\n",
            "Correctly Classified Instances         120               70.1754 %\n",
            "Incorrectly Classified Instances        51               29.8246 %\n",
            "Kappa statistic                          0.5886\n",
            "Mean absolute error                      0.0923\n",
            "Root mean squared error                  0.2758\n",
            "Relative absolute error                 43.9974 %\n",
            "Root relative squared error             85.4684 %\n",
            "Total Number of Instances              171     \n",
            "\n",
            "weka.classifiers.trees.J48.model\n",
            "\n",
            "Correctly Classified Instances          74               43.2749 %\n",
            "Incorrectly Classified Instances        97               56.7251 %\n",
            "Kappa statistic                          0.2161\n",
            "Mean absolute error                      0.1829\n",
            "Root mean squared error                  0.3043\n",
            "Relative absolute error                 87.2286 %\n",
            "Root relative squared error             94.3018 %\n",
            "Total Number of Instances              171     \n",
            "\n",
            "weka.classifiers.trees.DecisionStump.model\n",
            "\n",
            "Correctly Classified Instances         123               71.9298 %\n",
            "Incorrectly Classified Instances        48               28.0702 %\n",
            "Kappa statistic                          0.6061\n",
            "Mean absolute error                      0.1026\n",
            "Root mean squared error                  0.266 \n",
            "Relative absolute error                 48.9387 %\n",
            "Root relative squared error             82.4406 %\n",
            "Total Number of Instances              171     \n",
            "\n",
            "weka.classifiers.rules.JRip.model\n",
            "\n",
            "Correctly Classified Instances         134               78.3626 %\n",
            "Incorrectly Classified Instances        37               21.6374 %\n",
            "Kappa statistic                          0.7019\n",
            "Mean absolute error                      0.0657\n",
            "Root mean squared error                  0.217 \n",
            "Relative absolute error                 31.328  %\n",
            "Root relative squared error             67.2425 %\n",
            "Total Number of Instances              171     \n",
            "\n",
            "weka.classifiers.lazy.KStar.model\n"
          ]
        }
      ],
      "source": [
        "from IPython.core.display import TextDisplayObject\n",
        "# build classifiers\n",
        "from weka.classifiers import Classifier , Evaluation \n",
        "list_cls_names=[\"weka.classifiers.trees.J48\",\"weka.classifiers.trees.DecisionStump\",\"weka.classifiers.rules.JRip\",\"weka.classifiers.lazy.KStar\"]\n",
        "\n",
        "\n",
        "for cls_name in list_cls_names:\n",
        "    # training classifier \n",
        "    from weka.classifiers import Classifier, Evaluation\n",
        "    from weka.core.classes import Random\n",
        "    #evaluation = Evaluation(train)   \n",
        "    cls = Classifier(classname=cls_name)\n",
        "    cls.build_classifier(train)\n",
        "    #evaluation.test_model(classifier, test)\n",
        "    evaluat(cls,train,10)\n",
        "    # saving the model \n",
        "    save_model(classifier=cls,name=cls_name)\n",
        "    # build classifier\n",
        "    #cls = Classifier(classname=cls_name)\n",
        "    #cls.build_classifier(train)"
      ]
    },
    {
      "cell_type": "markdown",
      "metadata": {
        "id": "Vchsy9JhGSlZ"
      },
      "source": [
        "#   Genetic Algorithm "
      ]
    },
    {
      "cell_type": "code",
      "execution_count": 112,
      "metadata": {
        "id": "UBy9dz12GXOl"
      },
      "outputs": [],
      "source": [
        "# genetic algorithm\n",
        "def genetic_algorithm(fitness_func, chromosome_size, generations, population_size, cross_rate, matuation_rate,population=None):\n",
        "\t# initial population of random bitstring\n",
        "\tpop = population \n",
        "\t# keep track of best solution\n",
        "\tbest, best_score= 0, fitness_func(pop[0])\n",
        "\t# enumerate generations\n",
        "\tfor gen in range(generations):\n",
        "\t\t# evaluate all candidates in the population\n",
        "\t\tscores = [fitness_func(c) for c in pop]\n",
        "\t\t# check for new best solution\n",
        "\t\tfor i in range(50):\n",
        "\t\t\tif scores[i] < best_score:\n",
        "\t\t\t\tbest, best_score= pop[i], scores[i]\n",
        "\t\t\t\tprint(\">%d, new best f(%s) = %.3f\" % (gen,  pop[i], scores[i]))\n",
        "\t\t# select parents\n",
        "\t\tselected = [selection(pop, scores) for _ in range(50)]\n",
        "\t\t# create the next generation\n",
        "\t\tchildren = list()\n",
        "\t\tfor i in range(0, 50, 2):\n",
        "\t\t\t# get selected parents in pairs\n",
        "\t\t\tp1, p2 = selected[i], selected[i+1]\n",
        "\t\t\t# crossover and mutation\n",
        "\t\t\tfor c in crossover(p1, p2, cross_rate):\n",
        "\t\t\t\t# mutation\n",
        "\t\t\t\tmutation(c,matuation_rate)\n",
        "\t\t\t\t# store for next generation\n",
        "\t\t\t\tchildren.append(c)\n",
        "\t\t# replace population\n",
        "\t\tpop = children\n",
        "\treturn [best, best_score]"
      ]
    },
    {
      "cell_type": "code",
      "execution_count": 121,
      "metadata": {
        "id": "f17NTH56JOHR"
      },
      "outputs": [],
      "source": [
        "# parameters\n",
        "#parameters used for the genetic algorithm\n",
        "\n",
        "# define the total iterations\n",
        "generations = 30\n",
        "# bits\n",
        "chromosome_size = 16\n",
        "# define the population size\n",
        "population_size = 50\n",
        "# crossover rate\n",
        "cross_rate = 0.9\n",
        "# mutation rate\n",
        "matuation_rate= 0.1"
      ]
    },
    {
      "cell_type": "code",
      "execution_count": 122,
      "metadata": {
        "id": "1zMt9IIgMuDr"
      },
      "outputs": [],
      "source": [
        "from random import randrange,randint\n",
        "import numpy as population_size\n",
        "# selection\n",
        "def selection(pop, scores, k=3):\n",
        "\t# first random selection\n",
        "\trand_selection= randrange(len(pop))\n",
        "\tfor ix in np.random.randint(low=0, high=len(pop), size=k-1):\n",
        "\t\t# check if better (e.g. perform a tournament)\n",
        "\t\tif scores[ix] < scores[rand_selection]:\n",
        "\t\t\trand_selection= ix\n",
        "\treturn pop[rand_selection]\n",
        "\n",
        "# crossover two parents to create two children\n",
        "def crossover(p1, p2, cross_rate):\n",
        "\t# children are copies of parents by default\n",
        "\tc1, c2 = p1.copy(), p2.copy()\n",
        "\t# check for recombination\n",
        "\tif random.uniform(0,1) < cross_rate:\n",
        "\t\t# select crossover point that is not on the end of the string\n",
        "\t\tpt = randint(1, len(p1)-2)\n",
        "\t\t# perform crossover\n",
        "\t\tc1 = p1[:pt] + p2[pt:]\n",
        "\t\tc2 = p2[:pt] + p1[pt:]\n",
        "\treturn [c1, c2]\n",
        "\n",
        "# mutation operator\n",
        "def mutation(bitstring, matuation_rate):\n",
        "\tfor i in range(len(bitstring)):\n",
        "\t\t# check for a mutation\n",
        "\t\tif random.uniform(0,1) < matuation_rate:\n",
        "\t\t\t# flip the bit\n",
        "\t\t\tbitstring[i] = 1 - bitstring[i]\n",
        "\n"
      ]
    },
    {
      "cell_type": "code",
      "execution_count": 123,
      "metadata": {
        "id": "k5FClb-TXaNr"
      },
      "outputs": [],
      "source": [
        "# fitness_func function\n",
        "def testing(x):\n",
        "\treturn -sum(x)"
      ]
    },
    {
      "cell_type": "markdown",
      "metadata": {
        "id": "2ml5H1xDBA3S"
      },
      "source": [
        "# Test Genetic Function "
      ]
    },
    {
      "cell_type": "code",
      "execution_count": 124,
      "metadata": {
        "colab": {
          "base_uri": "https://localhost:8080/"
        },
        "id": "cQl_wusNKjwN",
        "outputId": "962eefe1-b476-4acb-c1fb-c1bfe5a0e3f6"
      },
      "outputs": [
        {
          "output_type": "stream",
          "name": "stdout",
          "text": [
            ">0, new best f([0, 0, 1, 0, 0, 0, 0, 0, 1, 0, 1, 0, 0, 0, 0, 1]) = -4.000\n",
            ">1, new best f([1, 0, 0, 1, 0, 0, 0, 1, 0, 0, 1, 1, 0, 0, 0, 1]) = -6.000\n",
            ">1, new best f([0, 1, 1, 1, 1, 0, 0, 0, 0, 1, 0, 1, 0, 0, 0, 1]) = -7.000\n",
            ">2, new best f([0, 1, 0, 1, 1, 0, 1, 0, 1, 0, 1, 0, 1, 1, 1, 0]) = -9.000\n",
            ">2, new best f([1, 0, 0, 1, 0, 1, 1, 0, 1, 1, 1, 1, 0, 1, 0, 1]) = -10.000\n",
            ">3, new best f([0, 1, 1, 1, 1, 0, 1, 0, 1, 1, 1, 0, 1, 1, 1, 1]) = -12.000\n",
            ">6, new best f([0, 1, 1, 1, 1, 0, 1, 1, 1, 1, 1, 1, 1, 0, 1, 1]) = -13.000\n",
            ">7, new best f([1, 1, 1, 1, 0, 1, 1, 1, 1, 1, 1, 1, 1, 1, 0, 1]) = -14.000\n",
            ">9, new best f([1, 1, 1, 1, 1, 1, 1, 1, 1, 1, 1, 1, 1, 0, 1, 1]) = -15.000\n",
            ">14, new best f([1, 1, 1, 1, 1, 1, 1, 1, 1, 1, 1, 1, 1, 1, 1, 1]) = -16.000\n",
            "Done!\n",
            "f([1, 1, 1, 1, 1, 1, 1, 1, 1, 1, 1, 1, 1, 1, 1, 1]) = -16.000000\n"
          ]
        }
      ],
      "source": [
        "# apply the algorithm \n",
        "import numpy as np\n",
        "# perform the genetic algorithm search\n",
        "best, score = genetic_algorithm(testing, chromosome_size, generations, population_size, cross_rate, matuation_rate,population)\n",
        "print('Done!')\n",
        "print('f(%s) = %f' % (best, score))"
      ]
    },
    {
      "cell_type": "markdown",
      "metadata": {
        "id": "QIjtLzEoXbK0"
      },
      "source": [
        "### decoding "
      ]
    },
    {
      "cell_type": "code",
      "execution_count": 125,
      "metadata": {
        "id": "rGt0FPnNXeEk"
      },
      "outputs": [],
      "source": [
        "def decode (chromosome):\n",
        "  selected_classifiers=[]\n",
        "  for i in range (0,len(chromosome)-1) :\n",
        "    if chromosome[i] == 1:\n",
        "      selected_classifiers.append(Algorithms_weka_names[i])\n",
        "  return selected_classifiers\n",
        "    \n",
        "#decode([0, 0, 1, 0, 0, 0, 0, 0, 1, 0, 1, 0, 0, 0, 0, 1])"
      ]
    },
    {
      "cell_type": "markdown",
      "metadata": {
        "id": "fD-RzC2kLoKv"
      },
      "source": [
        "# here where we are working right now, once the voting model can  be applied on our pretrained models, we can apply its accuarcy as the fitness function "
      ]
    },
    {
      "cell_type": "code",
      "execution_count": null,
      "metadata": {
        "colab": {
          "base_uri": "https://localhost:8080/",
          "height": 417
        },
        "id": "YY8sZrSsgfpn",
        "outputId": "1cfd41ea-8d57-49b5-de12-3f5baf3343ee"
      },
      "outputs": [
        {
          "ename": "JavaException",
          "evalue": "ignored",
          "output_type": "error",
          "traceback": [
            "\u001b[0;31m---------------------------------------------------------------------------\u001b[0m",
            "\u001b[0;31mJavaException\u001b[0m                             Traceback (most recent call last)",
            "\u001b[0;32m<ipython-input-144-3f3989f1c41e>\u001b[0m in \u001b[0;36m<module>\u001b[0;34m()\u001b[0m\n\u001b[1;32m      4\u001b[0m \u001b[0;34m\u001b[0m\u001b[0m\n\u001b[1;32m      5\u001b[0m \u001b[0mcls\u001b[0m \u001b[0;34m=\u001b[0m \u001b[0mClassifier\u001b[0m\u001b[0;34m(\u001b[0m\u001b[0mclassname\u001b[0m\u001b[0;34m=\u001b[0m\u001b[0;34m\"weka.classifiers.meta.Vote\"\u001b[0m\u001b[0;34m,\u001b[0m\u001b[0moptions\u001b[0m\u001b[0;34m=\u001b[0m\u001b[0;34m[\u001b[0m\u001b[0;34m\"-P\"\u001b[0m\u001b[0;34m,\u001b[0m\u001b[0;34m\"weka.classifiers.rules.JRip.model\"\u001b[0m\u001b[0;34m,\u001b[0m\u001b[0;34m\"-P\"\u001b[0m\u001b[0;34m,\u001b[0m\u001b[0;34m\"weka.classifiers.trees.J48.model\"\u001b[0m\u001b[0;34m]\u001b[0m\u001b[0;34m)\u001b[0m\u001b[0;34m\u001b[0m\u001b[0;34m\u001b[0m\u001b[0m\n\u001b[0;32m----> 6\u001b[0;31m \u001b[0mcls\u001b[0m\u001b[0;34m.\u001b[0m\u001b[0mbuild_classifier\u001b[0m\u001b[0;34m(\u001b[0m\u001b[0mtest\u001b[0m\u001b[0;34m)\u001b[0m\u001b[0;34m\u001b[0m\u001b[0;34m\u001b[0m\u001b[0m\n\u001b[0m\u001b[1;32m      7\u001b[0m \u001b[0;31m#evaluat (classifier=cls, data=test, fold=10)\u001b[0m\u001b[0;34m\u001b[0m\u001b[0;34m\u001b[0m\u001b[0;34m\u001b[0m\u001b[0m\n\u001b[1;32m      8\u001b[0m \u001b[0;31m#evl.test_model(cls, test)\u001b[0m\u001b[0;34m\u001b[0m\u001b[0;34m\u001b[0m\u001b[0;34m\u001b[0m\u001b[0m\n",
            "\u001b[0;32m/usr/local/lib/python3.7/dist-packages/weka/classifiers.py\u001b[0m in \u001b[0;36mbuild_classifier\u001b[0;34m(self, data)\u001b[0m\n\u001b[1;32m    103\u001b[0m         \"\"\"\n\u001b[1;32m    104\u001b[0m         \u001b[0mself\u001b[0m\u001b[0;34m.\u001b[0m\u001b[0m_header\u001b[0m \u001b[0;34m=\u001b[0m \u001b[0mdata\u001b[0m\u001b[0;34m.\u001b[0m\u001b[0mcopy_structure\u001b[0m\u001b[0;34m(\u001b[0m\u001b[0;34m)\u001b[0m\u001b[0;34m\u001b[0m\u001b[0;34m\u001b[0m\u001b[0m\n\u001b[0;32m--> 105\u001b[0;31m         \u001b[0mjavabridge\u001b[0m\u001b[0;34m.\u001b[0m\u001b[0mcall\u001b[0m\u001b[0;34m(\u001b[0m\u001b[0mself\u001b[0m\u001b[0;34m.\u001b[0m\u001b[0mjobject\u001b[0m\u001b[0;34m,\u001b[0m \u001b[0;34m\"buildClassifier\"\u001b[0m\u001b[0;34m,\u001b[0m \u001b[0;34m\"(Lweka/core/Instances;)V\"\u001b[0m\u001b[0;34m,\u001b[0m \u001b[0mdata\u001b[0m\u001b[0;34m.\u001b[0m\u001b[0mjobject\u001b[0m\u001b[0;34m)\u001b[0m\u001b[0;34m\u001b[0m\u001b[0;34m\u001b[0m\u001b[0m\n\u001b[0m\u001b[1;32m    106\u001b[0m \u001b[0;34m\u001b[0m\u001b[0m\n\u001b[1;32m    107\u001b[0m     \u001b[0;32mdef\u001b[0m \u001b[0mupdate_classifier\u001b[0m\u001b[0;34m(\u001b[0m\u001b[0mself\u001b[0m\u001b[0;34m,\u001b[0m \u001b[0minst\u001b[0m\u001b[0;34m)\u001b[0m\u001b[0;34m:\u001b[0m\u001b[0;34m\u001b[0m\u001b[0;34m\u001b[0m\u001b[0m\n",
            "\u001b[0;32m/usr/local/lib/python3.7/dist-packages/javabridge/jutil.py\u001b[0m in \u001b[0;36mcall\u001b[0;34m(o, method_name, sig, *args)\u001b[0m\n\u001b[1;32m    890\u001b[0m     \u001b[0mret_sig\u001b[0m \u001b[0;34m=\u001b[0m \u001b[0msig\u001b[0m\u001b[0;34m[\u001b[0m\u001b[0msig\u001b[0m\u001b[0;34m.\u001b[0m\u001b[0mfind\u001b[0m\u001b[0;34m(\u001b[0m\u001b[0;34m')'\u001b[0m\u001b[0;34m)\u001b[0m\u001b[0;34m+\u001b[0m\u001b[0;36m1\u001b[0m\u001b[0;34m:\u001b[0m\u001b[0;34m]\u001b[0m\u001b[0;34m\u001b[0m\u001b[0;34m\u001b[0m\u001b[0m\n\u001b[1;32m    891\u001b[0m     \u001b[0mnice_args\u001b[0m \u001b[0;34m=\u001b[0m \u001b[0mget_nice_args\u001b[0m\u001b[0;34m(\u001b[0m\u001b[0margs\u001b[0m\u001b[0;34m,\u001b[0m \u001b[0margs_sig\u001b[0m\u001b[0;34m)\u001b[0m\u001b[0;34m\u001b[0m\u001b[0;34m\u001b[0m\u001b[0m\n\u001b[0;32m--> 892\u001b[0;31m     \u001b[0mresult\u001b[0m \u001b[0;34m=\u001b[0m \u001b[0mfn\u001b[0m\u001b[0;34m(\u001b[0m\u001b[0;34m*\u001b[0m\u001b[0mnice_args\u001b[0m\u001b[0;34m)\u001b[0m\u001b[0;34m\u001b[0m\u001b[0;34m\u001b[0m\u001b[0m\n\u001b[0m\u001b[1;32m    893\u001b[0m     \u001b[0mx\u001b[0m \u001b[0;34m=\u001b[0m \u001b[0menv\u001b[0m\u001b[0;34m.\u001b[0m\u001b[0mexception_occurred\u001b[0m\u001b[0;34m(\u001b[0m\u001b[0;34m)\u001b[0m\u001b[0;34m\u001b[0m\u001b[0;34m\u001b[0m\u001b[0m\n\u001b[1;32m    894\u001b[0m     \u001b[0;32mif\u001b[0m \u001b[0mx\u001b[0m \u001b[0;32mis\u001b[0m \u001b[0;32mnot\u001b[0m \u001b[0;32mNone\u001b[0m\u001b[0;34m:\u001b[0m\u001b[0;34m\u001b[0m\u001b[0;34m\u001b[0m\u001b[0m\n",
            "\u001b[0;32m/usr/local/lib/python3.7/dist-packages/javabridge/jutil.py\u001b[0m in \u001b[0;36mfn\u001b[0;34m(*args)\u001b[0m\n\u001b[1;32m    857\u001b[0m             \u001b[0mx\u001b[0m \u001b[0;34m=\u001b[0m \u001b[0menv\u001b[0m\u001b[0;34m.\u001b[0m\u001b[0mexception_occurred\u001b[0m\u001b[0;34m(\u001b[0m\u001b[0;34m)\u001b[0m\u001b[0;34m\u001b[0m\u001b[0;34m\u001b[0m\u001b[0m\n\u001b[1;32m    858\u001b[0m             \u001b[0;32mif\u001b[0m \u001b[0mx\u001b[0m \u001b[0;32mis\u001b[0m \u001b[0;32mnot\u001b[0m \u001b[0;32mNone\u001b[0m\u001b[0;34m:\u001b[0m\u001b[0;34m\u001b[0m\u001b[0;34m\u001b[0m\u001b[0m\n\u001b[0;32m--> 859\u001b[0;31m                 \u001b[0;32mraise\u001b[0m \u001b[0mJavaException\u001b[0m\u001b[0;34m(\u001b[0m\u001b[0mx\u001b[0m\u001b[0;34m)\u001b[0m\u001b[0;34m\u001b[0m\u001b[0;34m\u001b[0m\u001b[0m\n\u001b[0m\u001b[1;32m    860\u001b[0m             \u001b[0;32mreturn\u001b[0m \u001b[0mresult\u001b[0m\u001b[0;34m\u001b[0m\u001b[0;34m\u001b[0m\u001b[0m\n\u001b[1;32m    861\u001b[0m     \u001b[0;32melse\u001b[0m\u001b[0;34m:\u001b[0m\u001b[0;34m\u001b[0m\u001b[0;34m\u001b[0m\u001b[0m\n",
            "\u001b[0;31mJavaException\u001b[0m: <Java object at 0x-7aa1a590>"
          ]
        }
      ],
      "source": [
        "from weka.classifiers import Classifier, Evaluation\n",
        "import os\n",
        "import tempfile\n",
        "\n",
        "cls = Classifier(classname=\"weka.classifiers.meta.Vote\",options=[\"-P\",\"weka.classifiers.rules.JRip.model\",\"-P\",\"weka.classifiers.trees.J48.model\"])\n",
        "cls.build_classifier(test)\n",
        "#evaluat (classifier=cls, data=test, fold=10)\n",
        "#evl.test_model(cls, test)\n",
        "#for index, inst in enumerate(test):\n",
        "    #pred = cls.classify_instance(inst)\n",
        "    #dist = cls.distribution_for_instance(inst)\n",
        "    #print(str(index+1) + \": label index=\" + str(pred) + \", class distribution=\" + str(dist))\n",
        "#evaluat(classifier=cls, data=test, fold=10)"
      ]
    },
    {
      "cell_type": "markdown",
      "metadata": {
        "id": "iWWSSVgtBA3T"
      },
      "source": [
        "# Problem is fixed "
      ]
    },
    {
      "cell_type": "code",
      "source": [
        "# Leraning alforithms in weka \n",
        "Algorithms_weka_names=['weka.classifiers.bayes.NaiveBayes',\n",
        "'weka.classifiers.rules.PART',\n",
        "'weka.classifiers.trees.J48',\n",
        "'weka.classifiers.trees.J48', # unprunned tree \n",
        "'weka.classifiers.trees.DecisionStump',\n",
        "'weka.classifiers.rules.DecisionTable',\n",
        "'weka.classifiers.rules.DecisionTable', # desecion table using knn \n",
        "'weka.classifiers.meta.ClassificationViaRegression',\n",
        "'weka.classifiers.trees.RandomForest',\n",
        "'weka.classifiers.rules.JRip',\n",
        "]"
      ],
      "metadata": {
        "id": "ZPv8KyFrLugQ"
      },
      "execution_count": 126,
      "outputs": []
    },
    {
      "cell_type": "markdown",
      "source": [
        "# This function is to generate classifiers and save them "
      ],
      "metadata": {
        "id": "9nPRtj0lLI5Z"
      }
    },
    {
      "cell_type": "code",
      "source": [
        "# serialization function \n",
        "\n",
        "import os \n",
        "import tempfile \n",
        "import traceback \n",
        "import javabridge \n",
        "import weka.core.jvm as jvm \n",
        "# \n",
        "#import wekaexamples.helper as helper \n",
        "from weka.core.converters import Loader \n",
        "from weka.core.dataset import Instances \n",
        "from weka.classifiers import Classifier \n",
        "import weka.core.serialization as serialization \n",
        " \n",
        " \n",
        "def ser(classifier_name,name,data,data_name=\"\"): \n",
        " \n",
        " \n",
        "    # load a dataset \n",
        "    #iris_file = helper.get_data_dir() + os.sep + \"iris.arff\" \n",
        "    #helper.print_info(\"Loading dataset: \" + iris_file) \n",
        "    loader = Loader(\"weka.core.converters.ArffLoader\") \n",
        "    iris_data = data \n",
        "    #loader.load_file(iris_file) \n",
        "    iris_data.class_is_last() \n",
        " \n",
        "    # train classifier \n",
        "    classifier = Classifier(classifier_name) \n",
        "    classifier.build_classifier(iris_data) \n",
        " \n",
        "    # save and read object \n",
        "    #helper.print_title(\"I/O: model (using serialization module)\") \n",
        "    outfile = tempfile.gettempdir() + os.sep +name+\"_\"+data_name+\".model\" \n",
        "    serialization.write(outfile, classifier) \n",
        "    model = Classifier(jobject=serialization.read(outfile)) \n",
        "    print(model) \n",
        " \n",
        "    # save classifier and dataset header (multiple objects) \n",
        "    #helper.print_title(\"I/O: model and header (using serialization module)\") \n",
        "    serialization.write_all(outfile, [classifier, Instances.template_instances(iris_data)]) \n",
        "    objects = serialization.read_all(outfile) \n",
        "    for i, obj in enumerate(objects): \n",
        "       # helper.print_info(\"Object #\" + str(i+1) + \":\") \n",
        "        if javabridge.get_env().is_instance_of(obj, javabridge.get_env().find_class(\"weka/core/Instances\")): \n",
        "            obj = Instances(jobject=obj) \n",
        "        elif javabridge.get_env().is_instance_of(obj, javabridge.get_env().find_class(\"weka/classifiers/Classifier\")): \n",
        "            obj = Classifier(jobject=obj) \n",
        "        print(obj) \n",
        " \n",
        "    # save and read object \n",
        "    #helper.print_title(\"I/O: just model (using Classifier class)\") \n",
        "    outfile = tempfile.gettempdir() + os.sep + \"j48.model\" \n",
        "    classifier.serialize(outfile) \n",
        "    model, _ = Classifier.deserialize(outfile) \n",
        "    #print(model) \n",
        " \n",
        "    # save classifier and dataset header (multiple objects) \n",
        "   # helper.print_title(\"I/O: model and header (using Classifier class)\") \n",
        "    classifier.serialize(outfile, header=iris_data) \n",
        "    model, header = Classifier.deserialize(outfile) \n",
        "    #print(model) \n",
        "    return model  \n",
        "    if header is not None: \n",
        "        print(header)"
      ],
      "metadata": {
        "id": "fQJTtw4mE0hY"
      },
      "execution_count": 129,
      "outputs": []
    },
    {
      "cell_type": "markdown",
      "source": [
        "# Generating pool of classifiers "
      ],
      "metadata": {
        "id": "hEiN3GwKMCpW"
      }
    },
    {
      "cell_type": "code",
      "source": [
        "# now we will generate classifiers and save them , that wii be done just for one time \n",
        "\n",
        "i = 0\n",
        "while True:\n",
        "    model=ser(learning_algorithm,(learning_algorithm.split('.')[3]),train,\"glass_data\")\n",
        "    print(model)\n",
        "    i = i + 1\n",
        "    if((i < len(Algorithms_weka_names)-1)):\n",
        "        break\n"
      ],
      "metadata": {
        "id": "lP4o9HdBuU_W",
        "outputId": "429045e6-98cc-4033-a3d9-050a0976e597",
        "colab": {
          "base_uri": "https://localhost:8080/"
        }
      },
      "execution_count": 135,
      "outputs": [
        {
          "output_type": "stream",
          "name": "stdout",
          "text": [
            "JRIP rules:\n",
            "===========\n",
            "\n",
            "(K <= 0) and (Ba <= 0) => Type=tableware (13.0/5.0)\n",
            "(Mg <= 2.68) and (Na <= 13.27) => Type=containers (12.0/4.0)\n",
            "(RI <= 1.51796) and (RI >= 1.51769) and (Na >= 13.5) => Type=vehic wind float (4.0/0.0)\n",
            "(Si <= 72.7) and (RI <= 1.5167) and (Al <= 1.38) => Type=vehic wind float (4.0/0.0)\n",
            "(Ba >= 0.4) => Type=headlamps (19.0/1.0)\n",
            "(RI >= 1.5172) and (RI <= 1.51793) => Type=build wind float (29.0/1.0)\n",
            "(Ca >= 8.68) and (Mg >= 3.37) and (RI >= 1.51869) => Type=build wind float (21.0/1.0)\n",
            " => Type=build wind non-float (69.0/13.0)\n",
            "\n",
            "Number of Rules : 8\n",
            "\n",
            "JRIP rules:\n",
            "===========\n",
            "\n",
            "(K <= 0) and (Ba <= 0) => Type=tableware (13.0/5.0)\n",
            "(Mg <= 2.68) and (Na <= 13.27) => Type=containers (12.0/4.0)\n",
            "(RI <= 1.51796) and (RI >= 1.51769) and (Na >= 13.5) => Type=vehic wind float (4.0/0.0)\n",
            "(Si <= 72.7) and (RI <= 1.5167) and (Al <= 1.38) => Type=vehic wind float (4.0/0.0)\n",
            "(Ba >= 0.4) => Type=headlamps (19.0/1.0)\n",
            "(RI >= 1.5172) and (RI <= 1.51793) => Type=build wind float (29.0/1.0)\n",
            "(Ca >= 8.68) and (Mg >= 3.37) and (RI >= 1.51869) => Type=build wind float (21.0/1.0)\n",
            " => Type=build wind non-float (69.0/13.0)\n",
            "\n",
            "Number of Rules : 8\n",
            "\n",
            "@relation Glass\n",
            "\n",
            "@attribute RI numeric\n",
            "@attribute Na numeric\n",
            "@attribute Mg numeric\n",
            "@attribute Al numeric\n",
            "@attribute Si numeric\n",
            "@attribute K numeric\n",
            "@attribute Ca numeric\n",
            "@attribute Ba numeric\n",
            "@attribute Fe numeric\n",
            "@attribute Type {'build wind float','build wind non-float','vehic wind float','vehic wind non-float',containers,tableware,headlamps}\n",
            "\n",
            "@data\n",
            "\n",
            "JRIP rules:\n",
            "===========\n",
            "\n",
            "(K <= 0) and (Ba <= 0) => Type=tableware (13.0/5.0)\n",
            "(Mg <= 2.68) and (Na <= 13.27) => Type=containers (12.0/4.0)\n",
            "(RI <= 1.51796) and (RI >= 1.51769) and (Na >= 13.5) => Type=vehic wind float (4.0/0.0)\n",
            "(Si <= 72.7) and (RI <= 1.5167) and (Al <= 1.38) => Type=vehic wind float (4.0/0.0)\n",
            "(Ba >= 0.4) => Type=headlamps (19.0/1.0)\n",
            "(RI >= 1.5172) and (RI <= 1.51793) => Type=build wind float (29.0/1.0)\n",
            "(Ca >= 8.68) and (Mg >= 3.37) and (RI >= 1.51869) => Type=build wind float (21.0/1.0)\n",
            " => Type=build wind non-float (69.0/13.0)\n",
            "\n",
            "Number of Rules : 8\n",
            "\n"
          ]
        }
      ]
    },
    {
      "cell_type": "markdown",
      "source": [
        "# now we have the generated classifies "
      ],
      "metadata": {
        "id": "IpVg-3OEPAur"
      }
    },
    {
      "cell_type": "code",
      "source": [
        "data_name =\"glass_data\"\n",
        "\n",
        "def get_algorithm_name(weka_name):\n",
        "  name=learning_algorithm.split('.')[3]\n",
        "  return name "
      ],
      "metadata": {
        "id": "-6eBqSpZPg5V"
      },
      "execution_count": 136,
      "outputs": []
    },
    {
      "cell_type": "markdown",
      "source": [
        "# applying genetic algorithm implemented above to our problem "
      ],
      "metadata": {
        "id": "JlxLKpLBJrb_"
      }
    },
    {
      "cell_type": "code",
      "source": [
        "decode([0, 0, 1, 0, 0, 0, 0, 0, 1, 0,  1])"
      ],
      "metadata": {
        "colab": {
          "base_uri": "https://localhost:8080/"
        },
        "id": "dJlFbcMvF7cc",
        "outputId": "71edc74a-8ee1-428c-a68a-a1e7a252a127"
      },
      "execution_count": 137,
      "outputs": [
        {
          "output_type": "execute_result",
          "data": {
            "text/plain": [
              "['weka.classifiers.trees.J48', 'weka.classifiers.trees.RandomForest']"
            ]
          },
          "metadata": {},
          "execution_count": 137
        }
      ]
    },
    {
      "cell_type": "code",
      "execution_count": 139,
      "metadata": {
        "id": "qGfbLBQiBA3U",
        "colab": {
          "base_uri": "https://localhost:8080/"
        },
        "outputId": "92fe8529-d48d-4390-9bc1-7f733826bdb3"
      },
      "outputs": [
        {
          "output_type": "stream",
          "name": "stdout",
          "text": [
            "[\"'\\\\nCorrectly Classified Instances         174               81.3084 %\\\\nIncorrectly Classified Instances        40               18.6916 %\\\\nKappa statistic                          0.745 \\\\nMean absolute error                      0.0534\\\\nRoot mean squared error                  0.231 \\\\nRelative absolute error                 25.2411 %\\\\nRoot relative squared error             71.1651 %\\\\nTotal Number of Instances              214     \\\\n'\"]\n"
          ]
        }
      ],
      "source": [
        "## Now the above issue is solved \n",
        "from weka.classifiers import Classifier, Evaluation \n",
        "import os \n",
        "import tempfile \n",
        "\n",
        "common_path= tempfile.gettempdir() + os.sep\n",
        "data_name =\"glass_data\"\n",
        "options=[]\n",
        "\n",
        "\n",
        "for weka_algorithm in decode([1, 0, 1, 1, 1,0, 1, 0, 1, 0,  1]):\n",
        "  options.append(\"-P\")\n",
        "  options.append (common_path+get_algorithm_name(weka_algorithm)+\"_\"+data_name+\".model\")\n",
        "\n",
        "# combination method \n",
        "#<AVG|PROD|MAJ|MIN|MAX|MED>)\n",
        "options.append(\"-R\")\n",
        "options.append(\"PROD\")\n",
        "\n",
        "cls = Classifier(classname=\"weka.classifiers.meta.Vote\",options =options)\n",
        "evaluation = Evaluation(data)    \n",
        "cls.build_classifier(data) \n",
        "  \n",
        "  # initialize with priors \n",
        "evaluation.crossvalidate_model(cls, data, 10, Random(42))  # 10-fold CV \n",
        "print(repr(evaluation.summary()).split('/n'))"
      ]
    }
  ],
  "metadata": {
    "colab": {
      "collapsed_sections": [],
      "name": "genetic+encoding.ipynb",
      "provenance": []
    },
    "kernelspec": {
      "display_name": "Python 3",
      "name": "python3"
    },
    "language_info": {
      "name": "python"
    }
  },
  "nbformat": 4,
  "nbformat_minor": 0
}