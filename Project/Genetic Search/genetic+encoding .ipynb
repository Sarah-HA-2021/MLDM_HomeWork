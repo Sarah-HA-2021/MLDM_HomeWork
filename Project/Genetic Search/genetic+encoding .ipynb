{
  "cells": [
    {
      "cell_type": "markdown",
      "metadata": {
        "id": "2vIDTyxJFVc4"
      },
      "source": [
        "#Encoding Base classifiers \n",
        "\n",
        "\n",
        "1.   Naive Bayes\n",
        "2.   PART\n",
        "3.   C4.5\n",
        "4.   C4.5 using unpruned tree\n",
        "5.   Decision Stump\n",
        "6.   Decision Table\n",
        "7.   Decision Table using the nearest neighbour instead of global table majority\n",
        "8.   Classification Via Regression\n",
        "9.   Random Forest\n",
        "10.  Random Tree\n",
        "11.  VFI\n",
        "12.  Conjunctive Rule\n",
        "13.  JRip\n",
        "14.  Nnge\n",
        "15.  HyperPipes\n",
        "\n",
        "\n",
        "\n",
        "\n",
        "\n",
        "\n",
        "\n",
        "\n",
        "\n",
        "\n",
        "\n",
        "\n",
        "\n",
        "\n",
        "\n"
      ]
    },
    {
      "cell_type": "code",
      "execution_count": 394,
      "metadata": {
        "id": "CwFu8DPgEugw"
      },
      "outputs": [],
      "source": [
        "# Learning algorithms \n",
        "Algorithms_names=['Naive Bayes',\n",
        "'PART',\n",
        "'C4.5',\n",
        "'C4.5 using unpruned tree',\n",
        "'Decision Stump',\n",
        "'Decision Table',\n",
        "'Decision Table using the nearest neighbour instead of global table majority',\n",
        "'Classification Via Regression',\n",
        "'Random Forest',\n",
        "'Random Tree',\n",
        "'VFI',\n",
        "'Conjunctive Rule',\n",
        "'JRip',\n",
        "'Nnge',\n",
        "'HyperPipes']\n",
        "\n",
        "# Leraning algorithms in weka \n",
        "Algorithms_weka_names=['weka.classifiers.bayes.NaiveBayes',\n",
        "'weka.classifiers.rules.PART',\n",
        "'weka.classifiers.trees.J48',\n",
        "'weka.classifiers.trees.J48', # unprunned tree \n",
        "'weka.classifiers.trees.DecisionStump',\n",
        "'weka.classifiers.rules.DecisionTable',\n",
        "'weka.classifiers.rules.DecisionTable', # desecion table using knn \n",
        "'weka.classifiers.meta.ClassificationViaRegression',\n",
        "'weka.classifiers.trees.RandomForest',\n",
        "'weka.classifiers.trees.RandomTree',\n",
        "'weka.classifiers.misc.VFI',\n",
        "'weka.classifiers.rules.ConjunctiveRule',\n",
        "'weka.classifiers.rules.JRip',\n",
        "'weka.classifiers.rules.NNge',\n",
        "'weka.classifiers.misc.HyperPipes']"
      ]
    },
    {
      "cell_type": "code",
      "execution_count": 395,
      "metadata": {
        "id": "QtLBOD58n_Sg"
      },
      "outputs": [],
      "source": [
        "# ensembling method \n",
        "ensembling_method=['weka.classifiers.meta.Vote','meta_classifier']\n",
        "# 0 for meta classifier \n",
        "# 1 for vote "
      ]
    },
    {
      "cell_type": "markdown",
      "metadata": {
        "id": "tq2FpUj0ouzp"
      },
      "source": [
        "# Generating Population "
      ]
    },
    {
      "cell_type": "code",
      "execution_count": 408,
      "metadata": {
        "colab": {
          "base_uri": "https://localhost:8080/"
        },
        "id": "2keIzkqXy3Ci",
        "outputId": "ec489f28-2d30-4f7f-da68-e235f7fb4d0c"
      },
      "outputs": [
        {
          "output_type": "stream",
          "name": "stdout",
          "text": [
            "165\n"
          ]
        }
      ],
      "source": [
        "# A Python program to print all\n",
        "# combinations of given length\n",
        "\n",
        "wide_space=[]\n",
        "\n",
        "from itertools import combinations\n",
        "count = 0\n",
        "# Get all combinations of [1, 2, 3]\n",
        "# and length 2\n",
        "comb = combinations(Algorithms_names,3)\n",
        " \n",
        "# Print the obtained combinations\n",
        "for i in list(comb):\n",
        "    wide_space.append(i)\n",
        "    count =count+1\n",
        "    #print (i)\n",
        "print(count)"
      ]
    },
    {
      "cell_type": "code",
      "execution_count": 409,
      "metadata": {
        "colab": {
          "base_uri": "https://localhost:8080/"
        },
        "id": "Q06kvjwC1xPs",
        "outputId": "ae7192e5-75f2-4372-e33f-9325b69633a4"
      },
      "outputs": [
        {
          "output_type": "stream",
          "name": "stdout",
          "text": [
            "[('weka.classifiers.trees.J48', 'weka.classifiers.rules.DecisionTable', 'weka.classifiers.rules.JRip'), ('weka.classifiers.trees.J48', 'weka.classifiers.trees.RandomForest', 'weka.classifiers.rules.JRip'), ('weka.classifiers.bayes.NaiveBayes', 'weka.classifiers.trees.J48', 'weka.classifiers.trees.DecisionStump'), ('weka.classifiers.rules.PART', 'weka.classifiers.rules.DecisionTable', 'weka.classifiers.rules.DecisionTable'), ('weka.classifiers.trees.DecisionStump', 'weka.classifiers.rules.DecisionTable', 'weka.classifiers.rules.DecisionTable'), ('weka.classifiers.trees.J48', 'weka.classifiers.meta.ClassificationViaRegression', 'weka.classifiers.trees.RandomForest'), ('weka.classifiers.trees.J48', 'weka.classifiers.meta.ClassificationViaRegression', 'weka.classifiers.trees.RandomForest'), ('weka.classifiers.rules.PART', 'weka.classifiers.meta.ClassificationViaRegression', 'weka.classifiers.rules.JRip'), ('weka.classifiers.trees.J48', 'weka.classifiers.rules.DecisionTable', 'weka.classifiers.trees.RandomTree'), ('weka.classifiers.trees.J48', 'weka.classifiers.trees.DecisionStump', 'weka.classifiers.trees.RandomForest'), ('weka.classifiers.rules.DecisionTable', 'weka.classifiers.meta.ClassificationViaRegression', 'weka.classifiers.trees.RandomForest'), ('weka.classifiers.rules.PART', 'weka.classifiers.trees.J48', 'weka.classifiers.rules.DecisionTable'), ('weka.classifiers.trees.J48', 'weka.classifiers.trees.RandomTree', 'weka.classifiers.rules.JRip'), ('weka.classifiers.bayes.NaiveBayes', 'weka.classifiers.rules.DecisionTable', 'weka.classifiers.meta.ClassificationViaRegression'), ('weka.classifiers.rules.PART', 'weka.classifiers.rules.DecisionTable', 'weka.classifiers.trees.RandomForest'), ('weka.classifiers.rules.DecisionTable', 'weka.classifiers.meta.ClassificationViaRegression', 'weka.classifiers.rules.JRip'), ('weka.classifiers.bayes.NaiveBayes', 'weka.classifiers.trees.DecisionStump', 'weka.classifiers.rules.DecisionTable'), ('weka.classifiers.rules.PART', 'weka.classifiers.trees.DecisionStump', 'weka.classifiers.trees.RandomTree'), ('weka.classifiers.trees.DecisionStump', 'weka.classifiers.rules.DecisionTable', 'weka.classifiers.trees.RandomForest'), ('weka.classifiers.bayes.NaiveBayes', 'weka.classifiers.rules.DecisionTable', 'weka.classifiers.trees.RandomTree'), ('weka.classifiers.rules.PART', 'weka.classifiers.trees.RandomForest', 'weka.classifiers.rules.JRip'), ('weka.classifiers.bayes.NaiveBayes', 'weka.classifiers.trees.DecisionStump', 'weka.classifiers.rules.DecisionTable'), ('weka.classifiers.bayes.NaiveBayes', 'weka.classifiers.trees.J48', 'weka.classifiers.rules.DecisionTable'), ('weka.classifiers.trees.J48', 'weka.classifiers.trees.J48', 'weka.classifiers.meta.ClassificationViaRegression'), ('weka.classifiers.trees.J48', 'weka.classifiers.rules.DecisionTable', 'weka.classifiers.meta.ClassificationViaRegression'), ('weka.classifiers.trees.DecisionStump', 'weka.classifiers.trees.RandomForest', 'weka.classifiers.rules.JRip'), ('weka.classifiers.trees.J48', 'weka.classifiers.trees.DecisionStump', 'weka.classifiers.meta.ClassificationViaRegression'), ('weka.classifiers.trees.J48', 'weka.classifiers.trees.DecisionStump', 'weka.classifiers.meta.ClassificationViaRegression'), ('weka.classifiers.rules.PART', 'weka.classifiers.trees.RandomTree', 'weka.classifiers.rules.JRip'), ('weka.classifiers.rules.PART', 'weka.classifiers.trees.J48', 'weka.classifiers.rules.JRip'), ('weka.classifiers.rules.DecisionTable', 'weka.classifiers.meta.ClassificationViaRegression', 'weka.classifiers.trees.RandomTree'), ('weka.classifiers.trees.J48', 'weka.classifiers.trees.DecisionStump', 'weka.classifiers.trees.RandomTree'), ('weka.classifiers.meta.ClassificationViaRegression', 'weka.classifiers.trees.RandomForest', 'weka.classifiers.trees.RandomTree'), ('weka.classifiers.bayes.NaiveBayes', 'weka.classifiers.trees.J48', 'weka.classifiers.trees.RandomTree'), ('weka.classifiers.bayes.NaiveBayes', 'weka.classifiers.rules.PART', 'weka.classifiers.rules.DecisionTable'), ('weka.classifiers.bayes.NaiveBayes', 'weka.classifiers.trees.J48', 'weka.classifiers.rules.JRip'), ('weka.classifiers.trees.J48', 'weka.classifiers.rules.DecisionTable', 'weka.classifiers.rules.JRip'), ('weka.classifiers.bayes.NaiveBayes', 'weka.classifiers.rules.PART', 'weka.classifiers.trees.J48'), ('weka.classifiers.rules.PART', 'weka.classifiers.trees.RandomForest', 'weka.classifiers.trees.RandomTree'), ('weka.classifiers.rules.PART', 'weka.classifiers.trees.DecisionStump', 'weka.classifiers.trees.RandomForest'), ('weka.classifiers.trees.J48', 'weka.classifiers.meta.ClassificationViaRegression', 'weka.classifiers.rules.JRip'), ('weka.classifiers.trees.DecisionStump', 'weka.classifiers.rules.DecisionTable', 'weka.classifiers.trees.RandomTree'), ('weka.classifiers.bayes.NaiveBayes', 'weka.classifiers.trees.RandomForest', 'weka.classifiers.trees.RandomTree'), ('weka.classifiers.bayes.NaiveBayes', 'weka.classifiers.rules.DecisionTable', 'weka.classifiers.meta.ClassificationViaRegression'), ('weka.classifiers.trees.J48', 'weka.classifiers.trees.DecisionStump', 'weka.classifiers.rules.JRip'), ('weka.classifiers.bayes.NaiveBayes', 'weka.classifiers.meta.ClassificationViaRegression', 'weka.classifiers.rules.JRip'), ('weka.classifiers.trees.DecisionStump', 'weka.classifiers.rules.DecisionTable', 'weka.classifiers.rules.JRip'), ('weka.classifiers.trees.J48', 'weka.classifiers.rules.DecisionTable', 'weka.classifiers.rules.JRip'), ('weka.classifiers.bayes.NaiveBayes', 'weka.classifiers.rules.PART', 'weka.classifiers.rules.JRip'), ('weka.classifiers.rules.DecisionTable', 'weka.classifiers.rules.DecisionTable', 'weka.classifiers.rules.JRip')]\n"
          ]
        }
      ],
      "source": [
        "#selecting  a random subset \n",
        "import random\n",
        "random.seed(0)\n",
        "from random import sample\n",
        "samples=sample(wide_space,50) #50 is population size \n",
        "print(samples)"
      ]
    },
    {
      "cell_type": "code",
      "execution_count": 410,
      "metadata": {
        "colab": {
          "base_uri": "https://localhost:8080/"
        },
        "id": "MpQVgN3poHG0",
        "outputId": "12d3fc75-9e6b-423e-d2a1-7e660003f6d3"
      },
      "outputs": [
        {
          "output_type": "execute_result",
          "data": {
            "text/plain": [
              "[[0, 0, 1, 1, 0, 1, 1, 0, 0, 0, 1],\n",
              " [0, 0, 1, 1, 0, 0, 0, 0, 1, 0, 1],\n",
              " [1, 0, 1, 1, 1, 0, 0, 0, 0, 0, 0],\n",
              " [0, 1, 0, 0, 0, 1, 1, 0, 0, 0, 0],\n",
              " [0, 0, 0, 0, 1, 1, 1, 0, 0, 0, 0],\n",
              " [0, 0, 1, 1, 0, 0, 0, 1, 1, 0, 0],\n",
              " [0, 0, 1, 1, 0, 0, 0, 1, 1, 0, 0],\n",
              " [0, 1, 0, 0, 0, 0, 0, 1, 0, 0, 1],\n",
              " [0, 0, 1, 1, 0, 1, 1, 0, 0, 1, 0],\n",
              " [0, 0, 1, 1, 1, 0, 0, 0, 1, 0, 0],\n",
              " [0, 0, 0, 0, 0, 1, 1, 1, 1, 0, 0],\n",
              " [0, 1, 1, 1, 0, 1, 1, 0, 0, 0, 0],\n",
              " [0, 0, 1, 1, 0, 0, 0, 0, 0, 1, 1],\n",
              " [1, 0, 0, 0, 0, 1, 1, 1, 0, 0, 0],\n",
              " [0, 1, 0, 0, 0, 1, 1, 0, 1, 0, 0],\n",
              " [0, 0, 0, 0, 0, 1, 1, 1, 0, 0, 1],\n",
              " [1, 0, 0, 0, 1, 1, 1, 0, 0, 0, 0],\n",
              " [0, 1, 0, 0, 1, 0, 0, 0, 0, 1, 0],\n",
              " [0, 0, 0, 0, 1, 1, 1, 0, 1, 0, 0],\n",
              " [1, 0, 0, 0, 0, 1, 1, 0, 0, 1, 0],\n",
              " [0, 1, 0, 0, 0, 0, 0, 0, 1, 0, 1],\n",
              " [1, 0, 0, 0, 1, 1, 1, 0, 0, 0, 0],\n",
              " [1, 0, 1, 1, 0, 1, 1, 0, 0, 0, 0],\n",
              " [0, 0, 1, 1, 0, 0, 0, 1, 0, 0, 0],\n",
              " [0, 0, 1, 1, 0, 1, 1, 1, 0, 0, 0],\n",
              " [0, 0, 0, 0, 1, 0, 0, 0, 1, 0, 1],\n",
              " [0, 0, 1, 1, 1, 0, 0, 1, 0, 0, 0],\n",
              " [0, 0, 1, 1, 1, 0, 0, 1, 0, 0, 0],\n",
              " [0, 1, 0, 0, 0, 0, 0, 0, 0, 1, 1],\n",
              " [0, 1, 1, 1, 0, 0, 0, 0, 0, 0, 1],\n",
              " [0, 0, 0, 0, 0, 1, 1, 1, 0, 1, 0],\n",
              " [0, 0, 1, 1, 1, 0, 0, 0, 0, 1, 0],\n",
              " [0, 0, 0, 0, 0, 0, 0, 1, 1, 1, 0],\n",
              " [1, 0, 1, 1, 0, 0, 0, 0, 0, 1, 0],\n",
              " [1, 1, 0, 0, 0, 1, 1, 0, 0, 0, 0],\n",
              " [1, 0, 1, 1, 0, 0, 0, 0, 0, 0, 1],\n",
              " [0, 0, 1, 1, 0, 1, 1, 0, 0, 0, 1],\n",
              " [1, 1, 1, 1, 0, 0, 0, 0, 0, 0, 0],\n",
              " [0, 1, 0, 0, 0, 0, 0, 0, 1, 1, 0],\n",
              " [0, 1, 0, 0, 1, 0, 0, 0, 1, 0, 0],\n",
              " [0, 0, 1, 1, 0, 0, 0, 1, 0, 0, 1],\n",
              " [0, 0, 0, 0, 1, 1, 1, 0, 0, 1, 0],\n",
              " [1, 0, 0, 0, 0, 0, 0, 0, 1, 1, 0],\n",
              " [1, 0, 0, 0, 0, 1, 1, 1, 0, 0, 0],\n",
              " [0, 0, 1, 1, 1, 0, 0, 0, 0, 0, 1],\n",
              " [1, 0, 0, 0, 0, 0, 0, 1, 0, 0, 1],\n",
              " [0, 0, 0, 0, 1, 1, 1, 0, 0, 0, 1],\n",
              " [0, 0, 1, 1, 0, 1, 1, 0, 0, 0, 1],\n",
              " [1, 1, 0, 0, 0, 0, 0, 0, 0, 0, 1],\n",
              " [0, 0, 0, 0, 0, 1, 1, 0, 0, 0, 1]]"
            ]
          },
          "metadata": {},
          "execution_count": 410
        }
      ],
      "source": [
        "population=[]\n",
        "def encoding (Algorithms_names,samples):\n",
        "  for sample in samples:\n",
        "    chromosome=len(Algorithms_names)*[0]\n",
        "    for i in range (0, len(Algorithms_names)):\n",
        "      if Algorithms_names[i] in sample:\n",
        "        #print('yes')\n",
        "        chromosome[i]=1\n",
        "    population.append(chromosome)\n",
        "  return population \n",
        "encoding (Algorithms_names,samples)"
      ]
    },
    {
      "cell_type": "code",
      "execution_count": 165,
      "metadata": {
        "colab": {
          "base_uri": "https://localhost:8080/"
        },
        "id": "q827s7E9-3X6",
        "outputId": "7f807a83-2dd8-4b74-8b87-e9cabcf87b11"
      },
      "outputs": [
        {
          "output_type": "execute_result",
          "data": {
            "text/plain": [
              "[[0, 0, 0, 0, 0, 0, 0, 0, 1, 0, 0, 0, 1, 1, 0, 0],\n",
              " [0, 0, 1, 0, 0, 1, 0, 0, 0, 0, 0, 0, 0, 1, 0, 0],\n",
              " [0, 0, 0, 0, 0, 0, 1, 0, 0, 1, 0, 0, 0, 0, 1, 0]]"
            ]
          },
          "metadata": {},
          "execution_count": 165
        }
      ],
      "source": [
        "# append ensembling method encoding\n",
        "import random\n",
        "\n",
        "for chromosome in population:\n",
        "  chromosome.append(random.randrange(2))\n",
        "\n",
        "population[:3]"
      ]
    },
    {
      "cell_type": "code",
      "execution_count": 166,
      "metadata": {
        "colab": {
          "base_uri": "https://localhost:8080/"
        },
        "id": "Tdvs47WCXbpu",
        "outputId": "6cfef751-6404-4a64-d91f-720f9c4d00b8"
      },
      "outputs": [
        {
          "output_type": "stream",
          "name": "stdout",
          "text": [
            "Requirement already satisfied: numpy in /usr/local/lib/python3.7/dist-packages (1.21.5)\n",
            "Requirement already satisfied: python-javabridge in /usr/local/lib/python3.7/dist-packages (4.0.3)\n",
            "Requirement already satisfied: numpy>=1.20.1 in /usr/local/lib/python3.7/dist-packages (from python-javabridge) (1.21.5)\n",
            "Requirement already satisfied: python-weka-wrapper3 in /usr/local/lib/python3.7/dist-packages (0.2.5)\n",
            "Requirement already satisfied: packaging in /usr/local/lib/python3.7/dist-packages (from python-weka-wrapper3) (21.3)\n",
            "Requirement already satisfied: numpy in /usr/local/lib/python3.7/dist-packages (from python-weka-wrapper3) (1.21.5)\n",
            "Requirement already satisfied: python-javabridge>=4.0.0 in /usr/local/lib/python3.7/dist-packages (from python-weka-wrapper3) (4.0.3)\n",
            "Requirement already satisfied: pyparsing!=3.0.5,>=2.0.2 in /usr/local/lib/python3.7/dist-packages (from packaging->python-weka-wrapper3) (3.0.6)\n"
          ]
        }
      ],
      "source": [
        "!pip install numpy\n",
        "!pip install python-javabridge\n",
        "!pip install python-weka-wrapper3"
      ]
    },
    {
      "cell_type": "code",
      "execution_count": 93,
      "metadata": {
        "colab": {
          "base_uri": "https://localhost:8080/"
        },
        "id": "z66PMT7TX3an",
        "outputId": "f788ea01-fd70-4c2b-e2e8-d7628d9f91db"
      },
      "outputs": [
        {
          "output_type": "stream",
          "name": "stderr",
          "text": [
            "INFO:weka.core.jvm:JVM already running, call jvm.stop() first\n"
          ]
        }
      ],
      "source": [
        "# start jvm\n",
        "import weka.core.jvm as jvm\n",
        "\n",
        "jvm.start(packages=True)"
      ]
    },
    {
      "cell_type": "code",
      "execution_count": 167,
      "metadata": {
        "id": "ml_-w_2dE7Kd"
      },
      "outputs": [],
      "source": [
        "# evaluation function \n",
        "from weka.classifiers import Classifier, Evaluation\n",
        "from weka.core.classes import Random\n",
        "\n",
        "def evaluat (classifier, data, fold):\n",
        "  evaluation = Evaluation(data)                     # initialize with priors\n",
        "  evaluation.crossvalidate_model(classifier, data, fold, Random(42))  # 10-fold CV\n",
        "  print(evaluation.summary())"
      ]
    },
    {
      "cell_type": "code",
      "execution_count": 106,
      "metadata": {
        "colab": {
          "base_uri": "https://localhost:8080/"
        },
        "id": "b2hS5mMtYpdV",
        "outputId": "2842712b-eb00-42ac-f7af-1f77c474e1a6"
      },
      "outputs": [
        {
          "output_type": "stream",
          "name": "stdout",
          "text": [
            "--2021-12-25 12:48:56--  https://storm.cis.fordham.edu/~gweiss/data-mining/weka-data/glass.arff\n",
            "Resolving storm.cis.fordham.edu (storm.cis.fordham.edu)... 150.108.68.26\n",
            "Connecting to storm.cis.fordham.edu (storm.cis.fordham.edu)|150.108.68.26|:443... connected.\n",
            "HTTP request sent, awaiting response... 200 OK\n",
            "Length: 17823 (17K) [text/plain]\n",
            "Saving to: ‘glass.arff.2’\n",
            "\n",
            "glass.arff.2        100%[===================>]  17.41K  --.-KB/s    in 0.04s   \n",
            "\n",
            "2021-12-25 12:48:56 (406 KB/s) - ‘glass.arff.2’ saved [17823/17823]\n",
            "\n"
          ]
        }
      ],
      "source": [
        "# data \n",
        "# glass dataset \n",
        "!wget https://storm.cis.fordham.edu/~gweiss/data-mining/weka-data/glass.arff\n",
        "import weka.core.converters as converters\n",
        "data = converters.load_any_file(\"glass.arff\")\n",
        "data.class_is_last()\n",
        "\n",
        "subset = data.subset(row_range='1-3') # print the first rows from the data\n",
        "#print(subset)"
      ]
    },
    {
      "cell_type": "code",
      "execution_count": 107,
      "metadata": {
        "colab": {
          "base_uri": "https://localhost:8080/"
        },
        "id": "fHqsjDoCYQ7e",
        "outputId": "342aab68-5833-44ce-dd29-eef952402396"
      },
      "outputs": [
        {
          "output_type": "stream",
          "name": "stdout",
          "text": [
            "171\n",
            "43\n"
          ]
        },
        {
          "output_type": "execute_result",
          "data": {
            "text/plain": [
              "@relation 'Glass-weka.filters.unsupervised.instance.RemoveRange-V-R1-3-weka.filters.MultiFilter-Fweka.filters.unsupervised.instance.RemoveRange -V -R 1-3'\n",
              "\n",
              "@attribute RI numeric\n",
              "@attribute Na numeric\n",
              "@attribute Mg numeric\n",
              "@attribute Al numeric\n",
              "@attribute Si numeric\n",
              "@attribute K numeric\n",
              "@attribute Ca numeric\n",
              "@attribute Ba numeric\n",
              "@attribute Fe numeric\n",
              "@attribute Type {'build wind float','build wind non-float','vehic wind float','vehic wind non-float',containers,tableware,headlamps}\n",
              "\n",
              "@data\n",
              "1.52121,14.03,3.76,0.58,71.79,0.11,9.65,0,0,'vehic wind float'\n",
              "1.51674,12.87,3.56,1.64,73.14,0.65,7.99,0,0,'build wind non-float'\n",
              "1.52119,12.97,0.33,1.51,73.39,0.13,11.27,0,0.28,containers"
            ]
          },
          "metadata": {},
          "execution_count": 107
        }
      ],
      "source": [
        "# split into train and test \n",
        "from weka.core.classes import Random\n",
        "\n",
        "train, test = data.train_test_split(80.0, Random(1))\n",
        "print(len(train))\n",
        "print(len(test))\n",
        "train.subset(row_range='1-3')"
      ]
    },
    {
      "cell_type": "markdown",
      "metadata": {
        "id": "6YzPYr8TY7UB"
      },
      "source": [
        "# loading saved models which we generated from our generating_classifiers.ipynb notebook , they will be our searching space"
      ]
    },
    {
      "cell_type": "code",
      "source": [
        "from weka.classifiers import Classifier, Evaluation\n",
        "outfile1 =\"j482.model\"\n",
        "model1, _ = Classifier.deserialize(outfile1)\n",
        "print(model1)"
      ],
      "metadata": {
        "id": "EW8cLvk5o2Cb"
      },
      "execution_count": null,
      "outputs": []
    },
    {
      "cell_type": "code",
      "execution_count": null,
      "metadata": {
        "id": "ZgJyMs2ZFoRd"
      },
      "outputs": [],
      "source": [
        "from weka.classifiers import Classifier, Evaluation\n",
        "outfile2 =\"naivBayes.model\"\n",
        "model2, _ = Classifier.deserialize(outfile2)\n",
        "print(model2)"
      ]
    },
    {
      "cell_type": "markdown",
      "metadata": {
        "id": "ll4QxmaslvH1"
      },
      "source": [
        "# Building ensemble from pre-trained models "
      ]
    },
    {
      "cell_type": "markdown",
      "metadata": {
        "id": "GpiiDTBLqpl7"
      },
      "source": [
        "#### implementing Voting ensemble"
      ]
    },
    {
      "cell_type": "code",
      "execution_count": 109,
      "metadata": {
        "id": "BNuTW2xEZ3X7"
      },
      "outputs": [],
      "source": [
        "# saving the model \n",
        "\n",
        "def save_model(classifier,name,path=\"\"):\n",
        "  import os\n",
        "  import tempfile\n",
        "  #import wekaexamples.helper as helper\n",
        "  import weka.core.serialization as serialization\n",
        "  outfile = name+\".model\"\n",
        "  print(outfile)\n",
        "  serialization.write(outfile, classifier)\n",
        "  return True"
      ]
    },
    {
      "cell_type": "code",
      "execution_count": 110,
      "metadata": {
        "id": "PTbLFiI2YjlT"
      },
      "outputs": [],
      "source": [
        "def read_model (name=\"j482.model\"):\n",
        "    import os\n",
        "    import tempfile\n",
        "    #import wekaexamples.helper as helper\n",
        "    import weka.core.serialization as serialization\n",
        "    # save and read object\n",
        "    outfile = name\n",
        "    model, m = Classifier.deserialize(outfile)\n",
        "    #print(model)\n",
        "    #return model\n",
        "    #return evl.test_model(model, test)\n",
        "    #print(evl.summary())\n",
        "    #print(model)\n",
        "\n",
        "#read_model()"
      ]
    },
    {
      "cell_type": "code",
      "execution_count": 168,
      "metadata": {
        "colab": {
          "base_uri": "https://localhost:8080/"
        },
        "id": "u2gxEssqaOGh",
        "outputId": "6262b608-1c7a-4a6e-bd9c-958a26354b33"
      },
      "outputs": [
        {
          "output_type": "stream",
          "name": "stdout",
          "text": [
            "\n",
            "Correctly Classified Instances         120               70.1754 %\n",
            "Incorrectly Classified Instances        51               29.8246 %\n",
            "Kappa statistic                          0.5886\n",
            "Mean absolute error                      0.0923\n",
            "Root mean squared error                  0.2758\n",
            "Relative absolute error                 43.9974 %\n",
            "Root relative squared error             85.4684 %\n",
            "Total Number of Instances              171     \n",
            "\n",
            "weka.classifiers.trees.J48.model\n",
            "\n",
            "Correctly Classified Instances          74               43.2749 %\n",
            "Incorrectly Classified Instances        97               56.7251 %\n",
            "Kappa statistic                          0.2161\n",
            "Mean absolute error                      0.1829\n",
            "Root mean squared error                  0.3043\n",
            "Relative absolute error                 87.2286 %\n",
            "Root relative squared error             94.3018 %\n",
            "Total Number of Instances              171     \n",
            "\n",
            "weka.classifiers.trees.DecisionStump.model\n",
            "\n",
            "Correctly Classified Instances         123               71.9298 %\n",
            "Incorrectly Classified Instances        48               28.0702 %\n",
            "Kappa statistic                          0.6061\n",
            "Mean absolute error                      0.1026\n",
            "Root mean squared error                  0.266 \n",
            "Relative absolute error                 48.9387 %\n",
            "Root relative squared error             82.4406 %\n",
            "Total Number of Instances              171     \n",
            "\n",
            "weka.classifiers.rules.JRip.model\n",
            "\n",
            "Correctly Classified Instances         134               78.3626 %\n",
            "Incorrectly Classified Instances        37               21.6374 %\n",
            "Kappa statistic                          0.7019\n",
            "Mean absolute error                      0.0657\n",
            "Root mean squared error                  0.217 \n",
            "Relative absolute error                 31.328  %\n",
            "Root relative squared error             67.2425 %\n",
            "Total Number of Instances              171     \n",
            "\n",
            "weka.classifiers.lazy.KStar.model\n"
          ]
        }
      ],
      "source": [
        "from IPython.core.display import TextDisplayObject\n",
        "# build classifiers\n",
        "from weka.classifiers import Classifier , Evaluation \n",
        "list_cls_names=[\"weka.classifiers.trees.J48\",\"weka.classifiers.trees.DecisionStump\",\"weka.classifiers.rules.JRip\",\"weka.classifiers.lazy.KStar\"]\n",
        "\n",
        "\n",
        "for cls_name in list_cls_names:\n",
        "    # training classifier \n",
        "    from weka.classifiers import Classifier, Evaluation\n",
        "    from weka.core.classes import Random\n",
        "    #evaluation = Evaluation(train)   \n",
        "    cls = Classifier(classname=cls_name)\n",
        "    cls.build_classifier(train)\n",
        "    #evaluation.test_model(classifier, test)\n",
        "    evaluat(cls,train,10)\n",
        "    # saving the model \n",
        "    save_model(classifier=cls,name=cls_name)\n",
        "    # build classifier\n",
        "    #cls = Classifier(classname=cls_name)\n",
        "    #cls.build_classifier(train)"
      ]
    },
    {
      "cell_type": "markdown",
      "metadata": {
        "id": "Vchsy9JhGSlZ"
      },
      "source": [
        "#   Genetic Algorithm "
      ]
    },
    {
      "cell_type": "code",
      "source": [
        "# decode\n",
        "def decode (chromosome):\n",
        "  selected_classifiers=[]\n",
        "  for i in range (0,len(chromosome)-1) :\n",
        "    if chromosome[i] == 1:\n",
        "      selected_classifiers.append(Algorithms_weka_names[i])\n",
        "  return selected_classifiers"
      ],
      "metadata": {
        "id": "8eFFG3icvraR"
      },
      "execution_count": 537,
      "outputs": []
    },
    {
      "cell_type": "code",
      "source": [
        "# genetic algorithm\n",
        "def genetic_algorithm(fitness_func, chromosome_size, generations, population_size, cross_rate, matuation_rate,population=None):\n",
        "   # initial population of random bitstring\n",
        "   pop = population \n",
        "   # keep track of best solution\n",
        "   best, best_score= 0, fitness_func(pop[0])\n",
        "   best_scores=[]\n",
        "   best_scores.append(best_score)\n",
        "   # enumerate generations\n",
        "   for gen in range(generations):\n",
        "      # evaluate all candidates in the population\n",
        "      scores = [fitness_func(c) for c in pop]\n",
        "      # check for new best solution\n",
        "      for i in range(50):\n",
        "         if scores[i] >best_score:\n",
        "            best, best_score= pop[i], scores[i]\n",
        "            print(\">%d, new best f(%s) = %.3f\" % (gen,  pop[i], scores[i]))\n",
        "      best_scores.append(best_score)\n",
        "      #print(best_score)\n",
        "      # select parents\n",
        "      selected = [selection(pop, scores) for _ in range(50)]\n",
        "      # create the next generation\n",
        "      children = list()\n",
        "      for i in range(0, 50, 2):\n",
        "         # get selected parents in pairs\n",
        "         p1, p2 = selected[i], selected[i+1]\n",
        "         # crossover and mutation\n",
        "         for c in crossover(p1, p2, cross_rate):\n",
        "            # mutation\n",
        "            mutation(c,matuation_rate)\n",
        "            # store for next generation\n",
        "            children.append(c)\n",
        "      # replace population\n",
        "      pop = children\n",
        "   return [best, best_score,best_scores]"
      ],
      "metadata": {
        "id": "72ZV6qoryVgf"
      },
      "execution_count": 581,
      "outputs": []
    },
    {
      "cell_type": "code",
      "execution_count": 170,
      "metadata": {
        "id": "f17NTH56JOHR"
      },
      "outputs": [],
      "source": [
        "# parameters\n",
        "#parameters used for the genetic algorithm\n",
        "\n",
        "# define the total iterations\n",
        "generations = 30\n",
        "# bits\n",
        "chromosome_size = 16\n",
        "# define the population size\n",
        "population_size = 50\n",
        "# crossover rate\n",
        "cross_rate = 0.9\n",
        "# mutation rate\n",
        "matuation_rate= 0.1"
      ]
    },
    {
      "cell_type": "code",
      "execution_count": 171,
      "metadata": {
        "id": "1zMt9IIgMuDr"
      },
      "outputs": [],
      "source": [
        "from random import randrange,randint\n",
        "import numpy as population_size\n",
        "# selection\n",
        "def selection(pop, scores, k=3):\n",
        "\t# first random selection\n",
        "\trand_selection= randrange(len(pop))\n",
        "\tfor ix in np.random.randint(low=0, high=len(pop), size=k-1):\n",
        "\t\t# check if better (e.g. perform a tournament)\n",
        "\t\tif scores[ix] < scores[rand_selection]:\n",
        "\t\t\trand_selection= ix\n",
        "\treturn pop[rand_selection]\n",
        "\n",
        "# crossover two parents to create two children\n",
        "def crossover(p1, p2, cross_rate):\n",
        "\t# children are copies of parents by default\n",
        "\tc1, c2 = p1.copy(), p2.copy()\n",
        "\t# check for recombination\n",
        "\tif random.uniform(0,1) < cross_rate:\n",
        "\t\t# select crossover point that is not on the end of the string\n",
        "\t\tpt = randint(1, len(p1)-2)\n",
        "\t\t# perform crossover\n",
        "\t\tc1 = p1[:pt] + p2[pt:]\n",
        "\t\tc2 = p2[:pt] + p1[pt:]\n",
        "\treturn [c1, c2]\n",
        "\n",
        "# mutation operator\n",
        "def mutation(bitstring, matuation_rate):\n",
        "\tfor i in range(len(bitstring)):\n",
        "\t\t# check for a mutation\n",
        "\t\tif random.uniform(0,1) < matuation_rate:\n",
        "\t\t\t# flip the bit\n",
        "\t\t\tbitstring[i] = 1 - bitstring[i]\n",
        "\n"
      ]
    },
    {
      "cell_type": "code",
      "execution_count": 172,
      "metadata": {
        "id": "k5FClb-TXaNr"
      },
      "outputs": [],
      "source": [
        "# fitness_func function\n",
        "def testing(x):\n",
        "\treturn -sum(x)"
      ]
    },
    {
      "cell_type": "markdown",
      "metadata": {
        "id": "2ml5H1xDBA3S"
      },
      "source": [
        "# Test Genetic Function "
      ]
    },
    {
      "cell_type": "code",
      "execution_count": 173,
      "metadata": {
        "colab": {
          "base_uri": "https://localhost:8080/"
        },
        "id": "cQl_wusNKjwN",
        "outputId": "403f63f2-9bcf-4a99-fc1f-1bec08744dca"
      },
      "outputs": [
        {
          "output_type": "stream",
          "name": "stdout",
          "text": [
            ">0, new best f([0, 0, 1, 0, 0, 0, 0, 0, 1, 0, 1, 0, 0, 0, 0, 1]) = -4.000\n",
            ">1, new best f([0, 1, 0, 1, 0, 1, 1, 0, 0, 0, 0, 0, 0, 0, 0, 1]) = -5.000\n",
            ">1, new best f([1, 0, 0, 0, 0, 1, 1, 0, 1, 0, 0, 0, 0, 0, 1, 1]) = -6.000\n",
            ">1, new best f([0, 1, 0, 1, 0, 1, 1, 0, 0, 0, 0, 1, 1, 1, 0, 1]) = -8.000\n",
            ">1, new best f([0, 0, 1, 0, 0, 1, 1, 1, 0, 1, 1, 0, 1, 0, 1, 1]) = -9.000\n",
            ">2, new best f([1, 1, 1, 0, 1, 0, 1, 0, 1, 0, 1, 1, 1, 0, 1, 1]) = -11.000\n",
            ">5, new best f([1, 1, 1, 0, 1, 1, 1, 1, 1, 0, 0, 1, 1, 1, 0, 1]) = -12.000\n",
            ">5, new best f([1, 1, 1, 0, 1, 1, 1, 1, 1, 1, 1, 1, 1, 0, 1, 1]) = -14.000\n",
            ">7, new best f([1, 1, 1, 1, 1, 1, 1, 1, 0, 1, 1, 1, 1, 1, 1, 1]) = -15.000\n",
            ">15, new best f([1, 1, 1, 1, 1, 1, 1, 1, 1, 1, 1, 1, 1, 1, 1, 1]) = -16.000\n",
            "Done!\n",
            "f([1, 1, 1, 1, 1, 1, 1, 1, 1, 1, 1, 1, 1, 1, 1, 1]) = -16.000000\n"
          ]
        }
      ],
      "source": [
        "# apply the algorithm \n",
        "import numpy as np\n",
        "# perform the genetic algorithm search\n",
        "best, score = genetic_algorithm(testing, chromosome_size, generations, population_size, cross_rate, matuation_rate,population)\n",
        "print('Done!')\n",
        "print('f(%s) = %f' % (best, score))"
      ]
    },
    {
      "cell_type": "markdown",
      "metadata": {
        "id": "QIjtLzEoXbK0"
      },
      "source": [
        "### decoding "
      ]
    },
    {
      "cell_type": "code",
      "execution_count": 390,
      "metadata": {
        "id": "rGt0FPnNXeEk"
      },
      "outputs": [],
      "source": [
        "def decode (chromosome):\n",
        "  selected_classifiers=[]\n",
        "  for i in range (0,len(chromosome)-1) :\n",
        "    if chromosome[i] == 1:\n",
        "      selected_classifiers.append(Algorithms_weka_names[i])\n",
        "  return selected_classifiers\n",
        "    \n",
        "#decode([0, 0, 1, 0, 0, 0, 0, 0, 1, 0, 1, 0, 0, 0, 0, 1])"
      ]
    },
    {
      "cell_type": "markdown",
      "metadata": {
        "id": "fD-RzC2kLoKv"
      },
      "source": [
        "# here where we are working right now, once the voting model can  be applied on our pretrained models, we can apply its accuarcy as the fitness function "
      ]
    },
    {
      "cell_type": "code",
      "source": [
        "from weka.classifiers import Classifier, Evaluation\n",
        "import os\n",
        "import tempfile\n",
        "\n",
        "cls = Classifier(classname=\"weka.classifiers.meta.Vote\",options=[\"-P\",\"weka.classifiers.rules.JRip.model\",\"-P\",\"weka.classifiers.trees.J48.model\"])\n",
        "cls.build_classifier(test)\n",
        "#evaluat (classifier=cls, data=test, fold=10)\n",
        "#evl.test_model(cls, test)\n",
        "#for index, inst in enumerate(test):\n",
        "    #pred = cls.classify_instance(inst)\n",
        "    #dist = cls.distribution_for_instance(inst)\n",
        "    #print(str(index+1) + \": label index=\" + str(pred) + \", class distribution=\" + str(dist))\n",
        "#evaluat(classifier=cls, data=test, fold=10)"
      ],
      "metadata": {
        "id": "eNxxS0HN-muP"
      },
      "execution_count": null,
      "outputs": []
    },
    {
      "cell_type": "markdown",
      "metadata": {
        "id": "iWWSSVgtBA3T"
      },
      "source": [
        "# Problem is fixed "
      ]
    },
    {
      "cell_type": "code",
      "source": [
        "# Leraning alforithms in weka \n",
        "Algorithms_weka_names=['weka.classifiers.bayes.NaiveBayes',\n",
        "'weka.classifiers.rules.PART',\n",
        "'weka.classifiers.trees.J48',\n",
        "'weka.classifiers.trees.J48', # unprunned tree \n",
        "'weka.classifiers.trees.DecisionStump',\n",
        "'weka.classifiers.rules.DecisionTable',\n",
        "'weka.classifiers.rules.DecisionTable', # desecion table using knn \n",
        "'weka.classifiers.meta.ClassificationViaRegression',\n",
        "'weka.classifiers.trees.RandomForest',\n",
        "'weka.classifiers.rules.JRip',\n",
        "]"
      ],
      "metadata": {
        "id": "ZPv8KyFrLugQ"
      },
      "execution_count": 365,
      "outputs": []
    },
    {
      "cell_type": "markdown",
      "source": [
        "# This function is to generate classifiers and save them "
      ],
      "metadata": {
        "id": "9nPRtj0lLI5Z"
      }
    },
    {
      "cell_type": "code",
      "source": [
        "# serialization function \n",
        "\n",
        "import os \n",
        "import tempfile \n",
        "import traceback \n",
        "import javabridge \n",
        "import weka.core.jvm as jvm \n",
        "# \n",
        "#import wekaexamples.helper as helper \n",
        "from weka.core.converters import Loader \n",
        "from weka.core.dataset import Instances \n",
        "from weka.classifiers import Classifier \n",
        "import weka.core.serialization as serialization \n",
        " \n",
        " \n",
        "def ser(classifier_name,name,data,data_name=\"\"): \n",
        "    fitness\n",
        "    # load a dataset \n",
        "    #iris_file = helper.get_data_dir() + os.sep + \"iris.arff\" \n",
        "    #helper.print_info(\"Loading dataset: \" + iris_file) \n",
        "    loader = Loader(\"weka.core.converters.ArffLoader\") \n",
        "    iris_data = data \n",
        "    #loader.load_file(iris_file) \n",
        "    iris_data.class_is_last() \n",
        " \n",
        "    # train classifier \n",
        "    classifier = Classifier(classifier_name) \n",
        "    classifier.build_classifier(iris_data) \n",
        " \n",
        "    # save and read object \n",
        "    #helper.print_title(\"I/O: model (using serialization module)\") \n",
        "    outfile = tempfile.gettempdir() + os.sep +name+\"_\"+data_name+\".model\" \n",
        "    print(outfile)\n",
        "    serialization.write(outfile, classifier) \n",
        "    model = Classifier(jobject=serialization.read(outfile)) \n",
        "    #print(model) \n",
        " \n",
        "    # save classifier and dataset header (multiple objects) \n",
        "    #helper.print_title(\"I/O: model and header (using serialization module)\") \n",
        "    serialization.write_all(outfile, [classifier, Instances.template_instances(iris_data)]) \n",
        "    objects = serialization.read_all(outfile) \n",
        "    for i, obj in enumerate(objects): \n",
        "       # helper.print_info(\"Object #\" + str(i+1) + \":\") \n",
        "        if javabridge.get_env().is_instance_of(obj, javabridge.get_env().find_class(\"weka/core/Instances\")): \n",
        "            obj = Instances(jobject=obj) \n",
        "        elif javabridge.get_env().is_instance_of(obj, javabridge.get_env().find_class(\"weka/classifiers/Classifier\")): \n",
        "            obj = Classifier(jobject=obj) \n",
        "        #print(obj) \n",
        " \n",
        "    # save and read object \n",
        "    #helper.print_title(\"I/O: just model (using Classifier class)\") \n",
        "    outfile = tempfile.gettempdir() + os.sep + \"j48.model\" \n",
        "    classifier.serialize(outfile) \n",
        "    model, _ = Classifier.deserialize(outfile) \n",
        "    #print(model) \n",
        " \n",
        "    # save classifier and dataset header (multiple objects) \n",
        "   # helper.print_title(\"I/O: model and header (using Classifier class)\") \n",
        "    classifier.serialize(outfile, header=iris_data) \n",
        "    model, header = Classifier.deserialize(outfile) \n",
        "    #print(model) \n",
        "    return model  \n",
        "    if header is not None: \n",
        "        print(header)"
      ],
      "metadata": {
        "id": "fQJTtw4mE0hY"
      },
      "execution_count": 522,
      "outputs": []
    },
    {
      "cell_type": "markdown",
      "source": [
        "# Generating pool of classifiers "
      ],
      "metadata": {
        "id": "hEiN3GwKMCpW"
      }
    },
    {
      "cell_type": "code",
      "source": [
        "# now we will generate classifiers and save them , that wii be done just for one time \n",
        "for i in range (0,len(Algorithms_weka_names)):\n",
        "  model=ser(Algorithms_weka_names[i],(Algorithms_weka_names[i].split('.')[3]),train,\"glass_data\")"
      ],
      "metadata": {
        "colab": {
          "base_uri": "https://localhost:8080/"
        },
        "id": "GcGyl1R4pOv5",
        "outputId": "32159da6-3ddc-4d29-e9b2-d526227b3857"
      },
      "execution_count": 523,
      "outputs": [
        {
          "output_type": "stream",
          "name": "stdout",
          "text": [
            "/tmp/NaiveBayes_glass_data.model\n",
            "/tmp/PART_glass_data.model\n",
            "/tmp/J48_glass_data.model\n",
            "/tmp/J48_glass_data.model\n",
            "/tmp/DecisionStump_glass_data.model\n",
            "/tmp/DecisionTable_glass_data.model\n",
            "/tmp/DecisionTable_glass_data.model\n",
            "/tmp/ClassificationViaRegression_glass_data.model\n",
            "/tmp/RandomForest_glass_data.model\n",
            "/tmp/RandomTree_glass_data.model\n",
            "/tmp/JRip_glass_data.model\n"
          ]
        }
      ]
    },
    {
      "cell_type": "markdown",
      "source": [
        "# Testing the generated models"
      ],
      "metadata": {
        "id": "WFeCzFroN5x-"
      }
    },
    {
      "cell_type": "code",
      "source": [
        "# apply saved model \n",
        "\n",
        "data_name='glass_data'\n",
        "\n",
        "for weka_algo in Algorithms_weka_names:\n",
        "  name=weka_algo.split('.')[3]\n",
        "  outfile=tempfile.gettempdir() + os.sep +name+\"_\"+data_name+\".model\" \n",
        "  print(outfile)\n",
        "  model, _ = Classifier.deserialize(outfile)\n",
        "  evl=Evaluation(test)\n",
        "  evl.test_model(model, test)\n",
        "  print(evl.summary())\n",
        "  print('--------------------------')"
      ],
      "metadata": {
        "colab": {
          "base_uri": "https://localhost:8080/"
        },
        "id": "p4z68l6OOEIj",
        "outputId": "975525b8-19dc-4cf8-9d06-f6cf77e3d533"
      },
      "execution_count": 524,
      "outputs": [
        {
          "output_type": "stream",
          "name": "stdout",
          "text": [
            "/tmp/NaiveBayes_glass_data.model\n",
            "\n",
            "Correctly Classified Instances          22               51.1628 %\n",
            "Incorrectly Classified Instances        21               48.8372 %\n",
            "Kappa statistic                          0.3499\n",
            "Mean absolute error                      0.1351\n",
            "Root mean squared error                  0.3258\n",
            "Relative absolute error                 61.1883 %\n",
            "Root relative squared error             98.7936 %\n",
            "Total Number of Instances               43     \n",
            "\n",
            "--------------------------\n",
            "/tmp/PART_glass_data.model\n",
            "\n",
            "Correctly Classified Instances          27               62.7907 %\n",
            "Incorrectly Classified Instances        16               37.2093 %\n",
            "Kappa statistic                          0.4978\n",
            "Mean absolute error                      0.1161\n",
            "Root mean squared error                  0.3201\n",
            "Relative absolute error                 52.5626 %\n",
            "Root relative squared error             97.0688 %\n",
            "Total Number of Instances               43     \n",
            "\n",
            "--------------------------\n",
            "/tmp/J48_glass_data.model\n",
            "\n",
            "Correctly Classified Instances          26               60.4651 %\n",
            "Incorrectly Classified Instances        17               39.5349 %\n",
            "Kappa statistic                          0.4737\n",
            "Mean absolute error                      0.1167\n",
            "Root mean squared error                  0.3183\n",
            "Relative absolute error                 52.8417 %\n",
            "Root relative squared error             96.5144 %\n",
            "Total Number of Instances               43     \n",
            "\n",
            "--------------------------\n",
            "/tmp/J48_glass_data.model\n",
            "\n",
            "Correctly Classified Instances          26               60.4651 %\n",
            "Incorrectly Classified Instances        17               39.5349 %\n",
            "Kappa statistic                          0.4737\n",
            "Mean absolute error                      0.1167\n",
            "Root mean squared error                  0.3183\n",
            "Relative absolute error                 52.8417 %\n",
            "Root relative squared error             96.5144 %\n",
            "Total Number of Instances               43     \n",
            "\n",
            "--------------------------\n",
            "/tmp/DecisionStump_glass_data.model\n",
            "\n",
            "Correctly Classified Instances          21               48.8372 %\n",
            "Incorrectly Classified Instances        22               51.1628 %\n",
            "Kappa statistic                          0.2993\n",
            "Mean absolute error                      0.1847\n",
            "Root mean squared error                  0.3045\n",
            "Relative absolute error                 83.608  %\n",
            "Root relative squared error             92.3498 %\n",
            "Total Number of Instances               43     \n",
            "\n",
            "--------------------------\n",
            "/tmp/DecisionTable_glass_data.model\n",
            "\n",
            "Correctly Classified Instances          24               55.814  %\n",
            "Incorrectly Classified Instances        19               44.186  %\n",
            "Kappa statistic                          0.4036\n",
            "Mean absolute error                      0.1791\n",
            "Root mean squared error                  0.2945\n",
            "Relative absolute error                 81.0904 %\n",
            "Root relative squared error             89.311  %\n",
            "Total Number of Instances               43     \n",
            "\n",
            "--------------------------\n",
            "/tmp/DecisionTable_glass_data.model\n",
            "\n",
            "Correctly Classified Instances          24               55.814  %\n",
            "Incorrectly Classified Instances        19               44.186  %\n",
            "Kappa statistic                          0.4036\n",
            "Mean absolute error                      0.1791\n",
            "Root mean squared error                  0.2945\n",
            "Relative absolute error                 81.0904 %\n",
            "Root relative squared error             89.311  %\n",
            "Total Number of Instances               43     \n",
            "\n",
            "--------------------------\n",
            "/tmp/ClassificationViaRegression_glass_data.model\n",
            "\n",
            "Correctly Classified Instances          28               65.1163 %\n",
            "Incorrectly Classified Instances        15               34.8837 %\n",
            "Kappa statistic                          0.5219\n",
            "Mean absolute error                      0.1479\n",
            "Root mean squared error                  0.2807\n",
            "Relative absolute error                 66.9504 %\n",
            "Root relative squared error             85.1225 %\n",
            "Total Number of Instances               43     \n",
            "\n",
            "--------------------------\n",
            "/tmp/RandomForest_glass_data.model\n",
            "\n",
            "Correctly Classified Instances          29               67.4419 %\n",
            "Incorrectly Classified Instances        14               32.5581 %\n",
            "Kappa statistic                          0.5511\n",
            "Mean absolute error                      0.1193\n",
            "Root mean squared error                  0.2597\n",
            "Relative absolute error                 54.0012 %\n",
            "Root relative squared error             78.7423 %\n",
            "Total Number of Instances               43     \n",
            "\n",
            "--------------------------\n",
            "/tmp/RandomTree_glass_data.model\n",
            "\n",
            "Correctly Classified Instances          27               62.7907 %\n",
            "Incorrectly Classified Instances        16               37.2093 %\n",
            "Kappa statistic                          0.5079\n",
            "Mean absolute error                      0.1063\n",
            "Root mean squared error                  0.3261\n",
            "Relative absolute error                 48.1348 %\n",
            "Root relative squared error             98.8731 %\n",
            "Total Number of Instances               43     \n",
            "\n",
            "--------------------------\n",
            "/tmp/JRip_glass_data.model\n",
            "\n",
            "Correctly Classified Instances          28               65.1163 %\n",
            "Incorrectly Classified Instances        15               34.8837 %\n",
            "Kappa statistic                          0.5285\n",
            "Mean absolute error                      0.1163\n",
            "Root mean squared error                  0.2888\n",
            "Relative absolute error                 52.6506 %\n",
            "Root relative squared error             87.5661 %\n",
            "Total Number of Instances               43     \n",
            "\n",
            "--------------------------\n"
          ]
        }
      ]
    },
    {
      "cell_type": "markdown",
      "source": [
        "# testing the voting method"
      ],
      "metadata": {
        "id": "HuwqajOjXzOq"
      }
    },
    {
      "cell_type": "code",
      "source": [
        "# voting test data\n",
        "# testing the generated models \n",
        "\n",
        "## Now the above issue is solved \n",
        "from weka.classifiers import Classifier, Evaluation \n",
        "import os \n",
        "import tempfile \n",
        "\n",
        "common_path= tempfile.gettempdir() + os.sep\n",
        "data_name =\"glass_data\"\n",
        "options=[]\n",
        "\n",
        "\n",
        "# combination method \n",
        "#<AVG|PROD|MAJ|MIN|MAX|MED>)\n",
        "#options.append(\"-R\")\n",
        "#options.append(\"PROD\")\n",
        "\n",
        "cls = Classifier(classname=\"weka.classifiers.meta.Vote\",options =[\"-P\",\"/tmp/RandomForest_glass_data.model\",\"-P\",\"/tmp/DecisionTable_glass_data.model\"])\n",
        "  \n",
        "evaluation = Evaluation(test)    \n",
        "cls.build_classifier(test) \n",
        "print(cls)    \n",
        "  # initialize with priors \n",
        "evaluation.test_model(cls, test) \n",
        "m=(repr(evaluation.summary()).split('               ')[1])\n",
        "print(float(m.split(' %\\\\n')[0]))"
      ],
      "metadata": {
        "colab": {
          "base_uri": "https://localhost:8080/"
        },
        "id": "Hlt21me-XcI_",
        "outputId": "e54f8852-e901-4022-eed1-750fc9ec8804"
      },
      "execution_count": 454,
      "outputs": [
        {
          "output_type": "stream",
          "name": "stdout",
          "text": [
            "Vote combines the probability distributions of these base learners:\n",
            "\tweka.classifiers.trees.RandomForest-P 100 -I 100 -num-slots 1 -K 0 -M 1.0 -V 0.001 -S 1\n",
            "\tweka.classifiers.rules.DecisionTable-X 1 -S \"weka.attributeSelection.BestFirst -D 1 -N 5\"\n",
            "using the 'Average' combination rule \n",
            "\n",
            "All the models:\n",
            "\n",
            "RandomForest\n",
            "\n",
            "Bagging with 100 iterations and base learner\n",
            "\n",
            "weka.classifiers.trees.RandomTree -K 0 -M 1.0 -V 0.001 -S 1 -do-not-check-capabilities\n",
            "Decision Table:\n",
            "\n",
            "Number of training instances: 171\n",
            "Number of Rules : 41\n",
            "Non matches covered by Majority class.\n",
            "\tBest first.\n",
            "\tStart set: no attributes\n",
            "\tSearch direction: forward\n",
            "\tStale search after 5 node expansions\n",
            "\tTotal number of subsets evaluated: 46\n",
            "\tMerit of best subset found:   73.684\n",
            "Evaluation (for feature selection): CV (leave one out) \n",
            "Feature set: 1,2,3,4,7,8,10\n",
            "\n",
            "69.7674\n"
          ]
        }
      ]
    },
    {
      "cell_type": "markdown",
      "source": [
        "## applying genetic algorithm implemented above to our problem "
      ],
      "metadata": {
        "id": "a836_iQqVpBc"
      }
    },
    {
      "cell_type": "code",
      "source": [
        "outfile = tempfile.gettempdir() + os.sep +name+\"_\"+data_name+\".model\" "
      ],
      "metadata": {
        "id": "88BSpXpBchB6"
      },
      "execution_count": null,
      "outputs": []
    },
    {
      "cell_type": "code",
      "source": [
        "def get_name(algo):\n",
        " return  str(algo).split('.')[3]"
      ],
      "metadata": {
        "id": "ulXW88l253I8"
      },
      "execution_count": 587,
      "outputs": []
    },
    {
      "cell_type": "code",
      "source": [
        "# our fitness function will take a model and data and return its accuarcy on this data \n",
        "options=[]\n",
        "def fitness_accuarcy (chromosome,data=test,data_name=\"glass_data\"):\n",
        "  common_path=\"/tmp/\"\n",
        "  options=[]\n",
        "  for weka_algo in decode(chromosome):\n",
        "    path=  str(common_path+get_algorithm_name(weka_algo)+\"_\"+data_name+\".model\")\n",
        "    options.append(\"-P\")\n",
        "    options.append(path)\n",
        "  options.append(\"-R\")\n",
        "  options.append(\"PROD\")\n",
        "  #applying voting func \n",
        "  cls = Classifier(classname=\"weka.classifiers.meta.Vote\",options =options)\n",
        "  evaluation=Evaluation(data)   \n",
        "  cls.build_classifier(data) \n",
        "  #print(cls)\n",
        "  evaluation.crossvalidate_model(cls, test, 10, Random(42))  # 10-fold CV\n",
        "  m=(repr(evaluation.summary()).split('               ')[1])\n",
        "  return (float(m.split(' %\\\\n')[0]))\n",
        "\n"
      ],
      "metadata": {
        "id": "ifb11lzGVoh4"
      },
      "execution_count": 588,
      "outputs": []
    },
    {
      "cell_type": "code",
      "source": [
        "import time \n",
        "start = time.perf_counter()\n",
        "best_sol, best_score,scores =genetic_algorithm(fitness_func=fitness_accuarcy, chromosome_size=11, generations=30, population_size=50, cross_rate=0.9, matuation_rate=0.1,population=population)\n",
        "print('Done!')\n",
        "print('best solution is:','f(%s) = %f' % (best_sol,  best_score))\n",
        "print ('which is equvilant to')\n",
        "print(list(map(get_name,decode(best_sol))))\n",
        "end = time.perf_counter()\n",
        "print('total time', end - start )"
      ],
      "metadata": {
        "colab": {
          "base_uri": "https://localhost:8080/"
        },
        "id": "Y-CccvYEd03x",
        "outputId": "70fac28c-77e7-4da2-df56-3bce6ee863eb"
      },
      "execution_count": 589,
      "outputs": [
        {
          "output_type": "stream",
          "name": "stdout",
          "text": [
            ">0, new best f([0, 0, 1, 1, 0, 0, 0, 0, 1, 0, 1]) = 62.791\n",
            ">0, new best f([0, 0, 0, 0, 0, 1, 1, 1, 1, 0, 0]) = 69.767\n",
            ">4, new best f([0, 0, 0, 0, 1, 1, 1, 1, 1, 0, 0]) = 72.093\n",
            "Done!\n",
            "best solution is: f([0, 0, 0, 0, 1, 1, 1, 1, 1, 0, 0]) = 72.093000\n",
            "which is equvilant to\n",
            "['DecisionStump', 'DecisionTable', 'DecisionTable', 'ClassificationViaRegression', 'RandomForest']\n",
            "total time 205.49216203800097\n"
          ]
        }
      ]
    },
    {
      "cell_type": "code",
      "source": [
        "import matplotlib.pyplot as plt \n",
        "\n",
        "generations=[g for g in range(1,32)]\n",
        "# naming the x axis\n",
        "plt.plot(generations, scores)\n",
        "plt.xlabel('generation number')\n",
        "# naming the y axis\n",
        "plt.ylabel('best fitness')\n",
        " \n",
        "# giving a title to my graph\n",
        "plt.title('Best candidate score through time')\n",
        " \n",
        "# function to show the plot\n",
        "plt.show()\n"
      ],
      "metadata": {
        "colab": {
          "base_uri": "https://localhost:8080/",
          "height": 295
        },
        "id": "Hy9YCEQTsa09",
        "outputId": "18bc1a93-f790-4ba7-9705-48d63d548e63"
      },
      "execution_count": 599,
      "outputs": [
        {
          "output_type": "display_data",
          "data": {
            "image/png": "[encoded data removed]",
            "text/plain": [
              "<Figure size 432x288 with 1 Axes>"
            ]
          },
          "metadata": {
            "needs_background": "light"
          }
        }
      ]
    }
  ],
  "metadata": {
    "colab": {
      "collapsed_sections": [],
      "name": "genetic+encoding.ipynb",
      "provenance": []
    },
    "kernelspec": {
      "display_name": "Python 3",
      "name": "python3"
    },
    "language_info": {
      "name": "python"
    }
  },
  "nbformat": 4,
  "nbformat_minor": 0
}