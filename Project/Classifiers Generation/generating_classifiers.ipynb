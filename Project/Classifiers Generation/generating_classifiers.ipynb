{
  "cells": [
    {
      "cell_type": "code",
      "execution_count": 1,
      "metadata": {
        "colab": {
          "base_uri": "https://localhost:8080/"
        },
        "id": "Qs2cyTh3Eg-9",
        "outputId": "c44b8d8b-21f0-45c7-f8ef-7aa24b6cead4"
      },
      "outputs": [
        {
          "name": "stdout",
          "output_type": "stream",
          "text": [
            "Requirement already satisfied: numpy in /usr/local/lib/python3.7/dist-packages (1.21.5)\n",
            "Requirement already satisfied: python-javabridge in /usr/local/lib/python3.7/dist-packages (4.0.3)\n",
            "Requirement already satisfied: numpy>=1.20.1 in /usr/local/lib/python3.7/dist-packages (from python-javabridge) (1.21.5)\n",
            "Requirement already satisfied: python-weka-wrapper3 in /usr/local/lib/python3.7/dist-packages (0.2.5)\n",
            "Requirement already satisfied: numpy in /usr/local/lib/python3.7/dist-packages (from python-weka-wrapper3) (1.21.5)\n",
            "Requirement already satisfied: python-javabridge>=4.0.0 in /usr/local/lib/python3.7/dist-packages (from python-weka-wrapper3) (4.0.3)\n",
            "Requirement already satisfied: packaging in /usr/local/lib/python3.7/dist-packages (from python-weka-wrapper3) (21.3)\n",
            "Requirement already satisfied: pyparsing!=3.0.5,>=2.0.2 in /usr/local/lib/python3.7/dist-packages (from packaging->python-weka-wrapper3) (3.0.6)\n"
          ]
        }
      ],
      "source": [
        "!pip install numpy\n",
        "!pip install python-javabridge\n",
        "!pip install python-weka-wrapper3"
      ]
    },
    {
      "cell_type": "markdown",
      "metadata": {
        "id": "IZtKfWCu0d0q"
      },
      "source": [
        "### Now we will install datasets and check their matching with their descriptions in the paper"
      ]
    },
    {
      "cell_type": "code",
      "execution_count": 9,
      "metadata": {
        "id": "bWv8qziv0oIL"
      },
      "outputs": [],
      "source": [
        "# check the correctness of datasets \n",
        "\n",
        "def check_correctness(file, attributes,instances,classes):\n",
        "  from scipy.io import arff\n",
        "  import pandas as pd\n",
        "  import numpy\n",
        "  data = arff.loadarff(file)\n",
        "  df = pd.DataFrame(data[0])\n",
        "  print('instances: ',df.shape[0])\n",
        "  print('attributes: ',df.shape[1]-1)\n",
        "  print('classes: ',(len(set(df.iloc[:,df.shape[1]-1]))))\n",
        "  assert df.shape[0]==instances,\"instances number does not match\"\n",
        "  assert df.shape[1]==attributes+1,\"attributes number does not match\"\n",
        "  assert(len(set(df.iloc[:,df.shape[1]-1])))==classes,\"number of classes does not match\""
      ]
    },
    {
      "cell_type": "code",
      "execution_count": 10,
      "metadata": {
        "colab": {
          "base_uri": "https://localhost:8080/"
        },
        "id": "lkhE67m00xmZ",
        "outputId": "dd52830d-db8c-4df5-c04e-c0ca80f09664"
      },
      "outputs": [
        {
          "name": "stdout",
          "output_type": "stream",
          "text": [
            "--2021-12-23 17:09:05--  https://storm.cis.fordham.edu/~gweiss/data-mining/weka-data/glass.arff\n",
            "Resolving storm.cis.fordham.edu (storm.cis.fordham.edu)... 150.108.68.26\n",
            "Connecting to storm.cis.fordham.edu (storm.cis.fordham.edu)|150.108.68.26|:443... connected.\n",
            "HTTP request sent, awaiting response... 200 OK\n",
            "Length: 17823 (17K) [text/plain]\n",
            "Saving to: ‘glass.arff.12’\n",
            "\n",
            "glass.arff.12       100%[===================>]  17.41K  92.3KB/s    in 0.2s    \n",
            "\n",
            "2021-12-23 17:09:06 (92.3 KB/s) - ‘glass.arff.12’ saved [17823/17823]\n",
            "\n",
            "instances:  214\n",
            "attributes:  9\n",
            "classes:  6\n"
          ]
        }
      ],
      "source": [
        "# glass dataset \n",
        "!wget https://storm.cis.fordham.edu/~gweiss/data-mining/weka-data/glass.arff\n",
        "check_correctness('glass.arff',9,214,6)"
      ]
    },
    {
      "cell_type": "code",
      "execution_count": 178,
      "metadata": {
        "colab": {
          "base_uri": "https://localhost:8080/"
        },
        "id": "5zpNW6ol9pjZ",
        "outputId": "8f3a16ac-678a-4067-efa6-b168a1387eff"
      },
      "outputs": [
        {
          "name": "stdout",
          "output_type": "stream",
          "text": [
            "--2021-12-23 16:34:54--  https://storm.cis.fordham.edu/~gweiss/data-mining/weka-data/diabetes.arff\n",
            "Resolving storm.cis.fordham.edu (storm.cis.fordham.edu)... 150.108.68.26\n",
            "Connecting to storm.cis.fordham.edu (storm.cis.fordham.edu)|150.108.68.26|:443... connected.\n",
            "HTTP request sent, awaiting response... 200 OK\n",
            "Length: 37419 (37K) [text/plain]\n",
            "Saving to: ‘diabetes.arff.5’\n",
            "\n",
            "diabetes.arff.5     100%[===================>]  36.54K   199KB/s    in 0.2s    \n",
            "\n",
            "2021-12-23 16:34:55 (199 KB/s) - ‘diabetes.arff.5’ saved [37419/37419]\n",
            "\n",
            "instances:  768\n",
            "attributes:  8\n",
            "classes:  2\n"
          ]
        }
      ],
      "source": [
        "# diabetes dataset\n",
        "!wget https://storm.cis.fordham.edu/~gweiss/data-mining/weka-data/diabetes.arff \n",
        "check_correctness('diabetes.arff',8,768,2)"
      ]
    },
    {
      "cell_type": "markdown",
      "metadata": {
        "id": "7GH8t6uaOnOQ"
      },
      "source": [
        "### Starting JVM"
      ]
    },
    {
      "cell_type": "code",
      "execution_count": 3,
      "metadata": {
        "colab": {
          "base_uri": "https://localhost:8080/"
        },
        "id": "vlLpkYWfOqxB",
        "outputId": "c4c0b504-eba2-48bc-e145-26ba08eb7592"
      },
      "outputs": [
        {
          "name": "stderr",
          "output_type": "stream",
          "text": [
            "DEBUG:weka.core.jvm:Adding bundled jars\n",
            "DEBUG:weka.core.jvm:Classpath=['/usr/local/lib/python3.7/dist-packages/javabridge/jars/rhino-1.7R4.jar', '/usr/local/lib/python3.7/dist-packages/javabridge/jars/runnablequeue.jar', '/usr/local/lib/python3.7/dist-packages/javabridge/jars/cpython.jar', '/usr/local/lib/python3.7/dist-packages/weka/lib/weka.jar', '/usr/local/lib/python3.7/dist-packages/weka/lib/python-weka-wrapper.jar']\n",
            "DEBUG:weka.core.jvm:MaxHeapSize=default\n",
            "DEBUG:weka.core.jvm:Package support enabled\n"
          ]
        }
      ],
      "source": [
        "# start JVM\n",
        "import weka.core.jvm as jvm\n",
        "\n",
        "jvm.start(packages=True)"
      ]
    },
    {
      "cell_type": "code",
      "execution_count": 16,
      "metadata": {
        "colab": {
          "base_uri": "https://localhost:8080/"
        },
        "id": "bV-hybxOnLB-",
        "outputId": "1178f789-df9b-4966-fdfc-33e5a412370f"
      },
      "outputs": [
        {
          "data": {
            "text/plain": [
              "True"
            ]
          },
          "execution_count": 16,
          "metadata": {},
          "output_type": "execute_result"
        }
      ],
      "source": [
        "import weka.core.packages as packages\n",
        "#packages.refresh_cache()  # uncomment this to query for updates\n",
        "packages.install_package(\"hyperPipes\")"
      ]
    },
    {
      "cell_type": "markdown",
      "metadata": {
        "id": "8R8Pg4OZLPte"
      },
      "source": [
        "### installing needed packages"
      ]
    },
    {
      "cell_type": "code",
      "execution_count": 5,
      "metadata": {
        "colab": {
          "base_uri": "https://localhost:8080/"
        },
        "id": "wbY0wX6eLZTs",
        "outputId": "e3b11359-4a60-4efc-dab7-06d0745d2d86"
      },
      "outputs": [
        {
          "name": "stdout",
          "output_type": "stream",
          "text": [
            "weka.classifiers.trees.J48\n"
          ]
        }
      ],
      "source": [
        "import sys\n",
        "import weka.core.jvm as jvm\n",
        "import weka.core.packages as packages\n",
        "from weka.core.classes import complete_classname\n",
        "\n",
        "#jvm.start(packages=True)\n",
        "\n",
        "pkg = \"NNge\"\n",
        "\n",
        "# install package if necessary\n",
        "if not packages.is_installed(pkg):\n",
        "    print(\"Installing %s...\" % pkg)\n",
        "    packages.install_package(pkg)\n",
        "    print(\"Installed %s, please re-run script!\" % pkg)\n",
        "    jvm.stop()\n",
        "    sys.exit(0)\n",
        "\n",
        "# testing classname completion\n",
        "print(complete_classname(\".J48\"))\n",
        "#print(complete_classname(\".rules.NNge\"))"
      ]
    },
    {
      "cell_type": "code",
      "execution_count": 13,
      "metadata": {
        "colab": {
          "base_uri": "https://localhost:8080/"
        },
        "id": "K0CVNqd3NjWI",
        "outputId": "a5356b97-9e82-4f40-f662-f97e382fb3c3"
      },
      "outputs": [
        {
          "name": "stdout",
          "output_type": "stream",
          "text": [
            "weka.classifiers.trees.J48\n",
            "weka.classifiers.misc.VFI\n"
          ]
        }
      ],
      "source": [
        "import sys\n",
        "import weka.core.jvm as jvm\n",
        "import weka.core.packages as packages\n",
        "from weka.core.classes import complete_classname\n",
        "\n",
        "#jvm.start(packages=True)\n",
        "\n",
        "pkg = \"votingFeatureIntervals\"\n",
        "\n",
        "# install package if necessary\n",
        "if not packages.is_installed(pkg):\n",
        "    print(\"Installing %s...\" % pkg)\n",
        "    packages.install_package(pkg)\n",
        "    print(\"Installed %s, please re-run script!\" % pkg)\n",
        "    jvm.stop()\n",
        "    sys.exit(0)\n",
        "\n",
        "# testing classname completion\n",
        "print(complete_classname(\".J48\"))\n",
        "print(complete_classname(\".VFI\"))"
      ]
    },
    {
      "cell_type": "code",
      "execution_count": 11,
      "metadata": {
        "colab": {
          "base_uri": "https://localhost:8080/"
        },
        "id": "NgPOUb6TQWI0",
        "outputId": "144f2be7-77f6-4933-e7fa-af16073ec6d3"
      },
      "outputs": [
        {
          "name": "stdout",
          "output_type": "stream",
          "text": [
            "weka.classifiers.trees.J48\n",
            "weka.classifiers.rules.ConjunctiveRule\n"
          ]
        }
      ],
      "source": [
        "import sys\n",
        "import weka.core.jvm as jvm\n",
        "import weka.core.packages as packages\n",
        "from weka.core.classes import complete_classname\n",
        "\n",
        "#jvm.start(packages=True)\n",
        "\n",
        "pkg = \"conjunctiveRule\"\n",
        "\n",
        "# install package if necessary\n",
        "if not packages.is_installed(pkg):\n",
        "    print(\"Installing %s...\" % pkg)\n",
        "    packages.install_package(pkg)\n",
        "    print(\"Installed %s, please re-run script!\" % pkg)\n",
        "    jvm.stop()\n",
        "    sys.exit(0)\n",
        "\n",
        "# testing classname completion\n",
        "print(complete_classname(\".J48\"))\n",
        "print(complete_classname(\".ConjunctiveRule\"))"
      ]
    },
    {
      "cell_type": "code",
      "execution_count": 4,
      "metadata": {
        "colab": {
          "base_uri": "https://localhost:8080/"
        },
        "id": "LmBj0hm35mjG",
        "outputId": "0fc74645-1ead-4e11-aa1e-d4467ae2cb57"
      },
      "outputs": [
        {
          "name": "stdout",
          "output_type": "stream",
          "text": [
            "weka.classifiers.trees.J48\n",
            "weka.classifiers.misc.HyperPipes\n"
          ]
        }
      ],
      "source": [
        "import sys\n",
        "import weka.core.jvm as jvm\n",
        "import weka.core.packages as packages\n",
        "from weka.core.classes import complete_classname\n",
        "\n",
        "#jvm.start(packages=True)\n",
        "\n",
        "pkg = \"hyperPipes\"\n",
        "\n",
        "# install package if necessary\n",
        "if not packages.is_installed(pkg):\n",
        "    print(\"Installing %s...\" % pkg)\n",
        "    packages.install_package(pkg)\n",
        "    print(\"Installed %s, please re-run script!\" % pkg)\n",
        "    jvm.stop()\n",
        "    sys.exit(0)\n",
        "\n",
        "# testing classname completion\n",
        "print(complete_classname(\".J48\"))\n",
        "print(complete_classname(\".HyperPipes\"))\n"
      ]
    },
    {
      "cell_type": "code",
      "execution_count": null,
      "metadata": {
        "id": "2stxM8QEFgSW"
      },
      "outputs": [],
      "source": [
        "# stop JVM\n",
        "#jvm.stop()"
      ]
    },
    {
      "cell_type": "markdown",
      "metadata": {
        "id": "biGVFB16GF-l"
      },
      "source": [
        "# Load Data"
      ]
    },
    {
      "cell_type": "code",
      "execution_count": 6,
      "metadata": {
        "colab": {
          "base_uri": "https://localhost:8080/"
        },
        "id": "D0lfNRk21SWH",
        "outputId": "36730481-21c6-4b5f-e20e-b73579408fd7"
      },
      "outputs": [
        {
          "name": "stdout",
          "output_type": "stream",
          "text": [
            "@relation 'Glass-weka.filters.unsupervised.instance.RemoveRange-V-R1-3-weka.filters.MultiFilter-Fweka.filters.unsupervised.instance.RemoveRange -V -R 1-3'\n",
            "\n",
            "@attribute RI numeric\n",
            "@attribute Na numeric\n",
            "@attribute Mg numeric\n",
            "@attribute Al numeric\n",
            "@attribute Si numeric\n",
            "@attribute K numeric\n",
            "@attribute Ca numeric\n",
            "@attribute Ba numeric\n",
            "@attribute Fe numeric\n",
            "@attribute Type {'build wind float','build wind non-float','vehic wind float','vehic wind non-float',containers,tableware,headlamps}\n",
            "\n",
            "@data\n",
            "1.51793,12.79,3.5,1.12,73.03,0.64,8.77,0,0,'build wind float'\n",
            "1.51643,12.16,3.52,1.35,72.89,0.57,8.53,0,0,'vehic wind float'\n",
            "1.51793,13.21,3.48,1.41,72.64,0.59,8.43,0,0,'build wind float'\n"
          ]
        }
      ],
      "source": [
        "import weka.core.converters as converters\n",
        "data = converters.load_any_file(\"glass.arff\")\n",
        "data.class_is_last()\n",
        "\n",
        "subset = data.subset(row_range='1-3') # print the first rows from the data\n",
        "print(subset)"
      ]
    },
    {
      "cell_type": "code",
      "execution_count": 7,
      "metadata": {
        "id": "83etLyMcZE9x"
      },
      "outputs": [],
      "source": [
        "# evaluation function \n",
        "from weka.classifiers import Classifier, Evaluation\n",
        "from weka.core.classes import Random\n",
        "\n",
        "def evaluat (classifier, data, fold):\n",
        "  evaluation = Evaluation(data)                     # initialize with priors\n",
        "  evaluation.crossvalidate_model(classifier, data, fold, Random(42))  # 10-fold CV\n",
        "  print(evaluation.summary())"
      ]
    },
    {
      "cell_type": "code",
      "execution_count": null,
      "metadata": {},
      "outputs": [],
      "source": [
        "# saving model function \n",
        "def save_model(classifier,name,path=\"\"):\n",
        "  import os\n",
        "  import tempfile\n",
        "  #import wekaexamples.helper as helper\n",
        "  import weka.core.serialization as serialization\n",
        "  outfile = tempfile.gettempdir() + os.sep + path+name+\".model\"\n",
        "  serialization.write(outfile, classifier)\n",
        "  return True"
      ]
    },
    {
      "cell_type": "markdown",
      "metadata": {
        "id": "Naddk1HyJHLN"
      },
      "source": [
        "#Build Base classifiers on dataset, output predictions"
      ]
    },
    {
      "cell_type": "code",
      "execution_count": 10,
      "metadata": {
        "colab": {
          "base_uri": "https://localhost:8080/"
        },
        "id": "wFQo4Hs12X9H",
        "outputId": "f5ce91f1-63d3-464d-ecd5-4efdc22bb7ae"
      },
      "outputs": [
        {
          "name": "stdout",
          "output_type": "stream",
          "text": [
            "\n",
            "Correctly Classified Instances         104               48.5981 %\n",
            "Incorrectly Classified Instances       110               51.4019 %\n",
            "Kappa statistic                          0.3172\n",
            "Mean absolute error                      0.1556\n",
            "Root mean squared error                  0.3395\n",
            "Relative absolute error                 73.4622 %\n",
            "Root relative squared error            104.6219 %\n",
            "Total Number of Instances              214     \n",
            "\n"
          ]
        }
      ],
      "source": [
        "#3 Naive Bayes classifier\n",
        "from weka.classifiers import Classifier\n",
        "cls = Classifier(classname=\"weka.classifiers.bayes.NaiveBayes\")\n",
        "cls.build_classifier(data)\n",
        "\n",
        "for index, inst in enumerate(data):\n",
        "    pred = cls.classify_instance(inst)\n",
        "    dist = cls.distribution_for_instance(inst)\n",
        "    #print(str(index+1) + \": label index=\" + str(pred) + \", class distribution=\" + str(dist))\n",
        "evaluat(classifier=cls, data=data, fold=10)"
      ]
    },
    {
      "cell_type": "code",
      "execution_count": 17,
      "metadata": {
        "colab": {
          "base_uri": "https://localhost:8080/"
        },
        "id": "c28mByfZJPUV",
        "outputId": "f23fc34f-1778-4989-916c-28778379d811"
      },
      "outputs": [
        {
          "name": "stdout",
          "output_type": "stream",
          "text": [
            "\n",
            "Correctly Classified Instances         138               64.486  %\n",
            "Incorrectly Classified Instances        76               35.514  %\n",
            "Kappa statistic                          0.5213\n",
            "Mean absolute error                      0.1042\n",
            "Root mean squared error                  0.295 \n",
            "Relative absolute error                 49.1964 %\n",
            "Root relative squared error             90.8886 %\n",
            "Total Number of Instances              214     \n",
            "\n"
          ]
        }
      ],
      "source": [
        "#1 c4.5\n",
        "from weka.classifiers import Classifier\n",
        "cls = Classifier(classname=\"weka.classifiers.trees.J48\")\n",
        "cls.build_classifier(data)\n",
        "\n",
        "for index, inst in enumerate(data):\n",
        "    pred = cls.classify_instance(inst)\n",
        "    dist = cls.distribution_for_instance(inst)\n",
        "    #print(str(index+1) + \": label index=\" + str(pred) + \", class distribution=\" + str(dist))\n",
        "evaluat(classifier=cls, data=data, fold=10)"
      ]
    },
    {
      "cell_type": "code",
      "execution_count": 18,
      "metadata": {
        "colab": {
          "base_uri": "https://localhost:8080/"
        },
        "id": "D6yGXafDNSM_",
        "outputId": "96857777-592f-4020-d8ad-57994d63459d"
      },
      "outputs": [
        {
          "name": "stdout",
          "output_type": "stream",
          "text": [
            "\n",
            "Correctly Classified Instances         139               64.9533 %\n",
            "Incorrectly Classified Instances        75               35.0467 %\n",
            "Kappa statistic                          0.5268\n",
            "Mean absolute error                      0.1032\n",
            "Root mean squared error                  0.2944\n",
            "Relative absolute error                 48.7418 %\n",
            "Root relative squared error             90.7276 %\n",
            "Total Number of Instances              214     \n",
            "\n"
          ]
        }
      ],
      "source": [
        "#2 c4.5 using unpruned tree \n",
        "\n",
        "# c4.5\n",
        "from weka.classifiers import Classifier\n",
        "cls = Classifier(classname=\"weka.classifiers.trees.J48\", options=[\"-U\"])\n",
        "cls.build_classifier(data)\n",
        "\n",
        "for index, inst in enumerate(data):\n",
        "    pred = cls.classify_instance(inst)\n",
        "    dist = cls.distribution_for_instance(inst)\n",
        "    #print(str(index+1) + \": label index=\" + str(pred) + \", class distribution=\" + str(dist))\n",
        "evaluat(classifier=cls, data=data, fold=10)"
      ]
    },
    {
      "cell_type": "code",
      "execution_count": 19,
      "metadata": {
        "colab": {
          "base_uri": "https://localhost:8080/"
        },
        "id": "-5WqW0zgN9RF",
        "outputId": "5f85c9d6-c38e-4b5c-95e2-92483a0ff62f"
      },
      "outputs": [
        {
          "name": "stdout",
          "output_type": "stream",
          "text": [
            "\n",
            "Correctly Classified Instances         147               68.6916 %\n",
            "Incorrectly Classified Instances        67               31.3084 %\n",
            "Kappa statistic                          0.5724\n",
            "Mean absolute error                      0.0955\n",
            "Root mean squared error                  0.2788\n",
            "Relative absolute error                 45.118  %\n",
            "Root relative squared error             85.9112 %\n",
            "Total Number of Instances              214     \n",
            "\n"
          ]
        }
      ],
      "source": [
        "#4 PART classifier it  builds a partial C4.5 decision tree in each iteration and makes the \"best\" leaf into a rule.\n",
        "from weka.classifiers import Classifier\n",
        "cls = Classifier(classname=\"weka.classifiers.rules.PART\")\n",
        "cls.build_classifier(data)\n",
        "\n",
        "for index, inst in enumerate(data):\n",
        "    pred = cls.classify_instance(inst)\n",
        "    dist = cls.distribution_for_instance(inst)\n",
        "    #print(str(index+1) + \": label index=\" + str(pred) + \", class distribution=\" + str(dist))\n",
        "evaluat(classifier=cls, data=data, fold=10)"
      ]
    },
    {
      "cell_type": "code",
      "execution_count": 20,
      "metadata": {
        "colab": {
          "base_uri": "https://localhost:8080/"
        },
        "id": "ub7bbYZ7lxgP",
        "outputId": "cef66eae-1d1d-4c8b-8b6f-d574a7d857dd"
      },
      "outputs": [
        {
          "name": "stdout",
          "output_type": "stream",
          "text": [
            "\n",
            "Correctly Classified Instances          95               44.3925 %\n",
            "Incorrectly Classified Instances       119               55.6075 %\n",
            "Kappa statistic                          0.2356\n",
            "Mean absolute error                      0.1829\n",
            "Root mean squared error                  0.3035\n",
            "Relative absolute error                 86.3841 %\n",
            "Root relative squared error             93.5141 %\n",
            "Total Number of Instances              214     \n",
            "\n"
          ]
        }
      ],
      "source": [
        "#5 Decision Stump It is an algorithm\n",
        "#that generates one level decision tree.\n",
        "from weka.classifiers import Classifier\n",
        "cls = Classifier(classname=\"weka.classifiers.trees.DecisionStump\")\n",
        "cls.build_classifier(data)\n",
        "\n",
        "for index, inst in enumerate(data):\n",
        "    pred = cls.classify_instance(inst)\n",
        "    dist = cls.distribution_for_instance(inst)\n",
        "    #print(str(index+1) + \": label index=\" + str(pred) + \", class distribution=\" + str(dist))\n",
        "evaluat(classifier=cls, data=data, fold=10)"
      ]
    },
    {
      "cell_type": "code",
      "execution_count": 21,
      "metadata": {
        "colab": {
          "base_uri": "https://localhost:8080/"
        },
        "id": "ymW4JJGvPA-b",
        "outputId": "75c085d3-437c-4cc2-d463-0f768056767d"
      },
      "outputs": [
        {
          "name": "stdout",
          "output_type": "stream",
          "text": [
            "\n",
            "Correctly Classified Instances         149               69.6262 %\n",
            "Incorrectly Classified Instances        65               30.3738 %\n",
            "Kappa statistic                          0.57  \n",
            "Mean absolute error                      0.1719\n",
            "Root mean squared error                  0.2766\n",
            "Relative absolute error                 81.1587 %\n",
            "Root relative squared error             85.2364 %\n",
            "Total Number of Instances              214     \n",
            "\n"
          ]
        }
      ],
      "source": [
        "#6 Desicion table using majority classifier \n",
        "from weka.classifiers import Classifier\n",
        "cls = Classifier(classname=\"weka.classifiers.rules.DecisionTable\")\n",
        "cls.build_classifier(data)\n",
        "\n",
        "for index, inst in enumerate(data):\n",
        "    pred = cls.classify_instance(inst)\n",
        "    dist = cls.distribution_for_instance(inst)\n",
        "    #print(str(index+1) + \": label index=\" + str(pred) + \", class distribution=\" + str(dist))\n",
        "evaluat(classifier=cls, data=data, fold=10)"
      ]
    },
    {
      "cell_type": "code",
      "execution_count": 22,
      "metadata": {
        "colab": {
          "base_uri": "https://localhost:8080/"
        },
        "id": "lRrj5s2kPoqo",
        "outputId": "e272b789-92fc-4acc-fe55-dc969469aa6a"
      },
      "outputs": [
        {
          "name": "stdout",
          "output_type": "stream",
          "text": [
            "\n",
            "Correctly Classified Instances         149               69.6262 %\n",
            "Incorrectly Classified Instances        65               30.3738 %\n",
            "Kappa statistic                          0.5767\n",
            "Mean absolute error                      0.168 \n",
            "Root mean squared error                  0.2757\n",
            "Relative absolute error                 79.3275 %\n",
            "Root relative squared error             84.942  %\n",
            "Total Number of Instances              214     \n",
            "\n"
          ]
        }
      ],
      "source": [
        "#7 Desicion table using Using nearest neighbour instead of global table majority.\n",
        "from weka.classifiers import Classifier\n",
        "cls = Classifier(classname=\"weka.classifiers.rules.DecisionTable\",options=[\"-I\"])\n",
        "cls.build_classifier(data)\n",
        "\n",
        "for index, inst in enumerate(data):\n",
        "    pred = cls.classify_instance(inst)\n",
        "    dist = cls.distribution_for_instance(inst)\n",
        "    #print(str(index+1) + \": label index=\" + str(pred) + \", class distribution=\" + str(dist))\n",
        "evaluat(classifier=cls, data=data, fold=10)"
      ]
    },
    {
      "cell_type": "code",
      "execution_count": 23,
      "metadata": {
        "colab": {
          "base_uri": "https://localhost:8080/"
        },
        "id": "MkOtSmopQFhe",
        "outputId": "f84e9f7f-2d4e-49b1-f197-4e3b93c4edf2"
      },
      "outputs": [
        {
          "name": "stdout",
          "output_type": "stream",
          "text": [
            "\n",
            "Correctly Classified Instances         148               69.1589 %\n",
            "Incorrectly Classified Instances        66               30.8411 %\n",
            "Kappa statistic                          0.572 \n",
            "Mean absolute error                      0.13  \n",
            "Root mean squared error                  0.2508\n",
            "Relative absolute error                 61.3987 %\n",
            "Root relative squared error             77.275  %\n",
            "Total Number of Instances              214     \n",
            "\n"
          ]
        }
      ],
      "source": [
        "#8 ClassificationViaRegression / The M5 algorithm (Quinlan 1992) is\n",
        "#used as the regression method. (not yet)\n",
        "from weka.classifiers import Classifier\n",
        "cls = Classifier(classname=\"weka.classifiers.meta.ClassificationViaRegression\")\n",
        "cls.build_classifier(data)\n",
        "\n",
        "for index, inst in enumerate(data):\n",
        "    pred = cls.classify_instance(inst)\n",
        "    dist = cls.distribution_for_instance(inst)\n",
        "    #print(str(index+1) + \": label index=\" + str(pred) + \", class distribution=\" + str(dist))\n",
        "evaluat(classifier=cls, data=data, fold=10)"
      ]
    },
    {
      "cell_type": "code",
      "execution_count": 24,
      "metadata": {
        "colab": {
          "base_uri": "https://localhost:8080/"
        },
        "id": "IQrOb7zzRf6r",
        "outputId": "601b468a-0f13-4b07-eabe-d55d5fa14d1c"
      },
      "outputs": [
        {
          "name": "stdout",
          "output_type": "stream",
          "text": [
            "\n",
            "Correctly Classified Instances         169               78.972  %\n",
            "Incorrectly Classified Instances        45               21.028  %\n",
            "Kappa statistic                          0.71  \n",
            "Mean absolute error                      0.0987\n",
            "Root mean squared error                  0.2109\n",
            "Relative absolute error                 46.6187 %\n",
            "Root relative squared error             64.9862 %\n",
            "Total Number of Instances              214     \n",
            "\n"
          ]
        }
      ],
      "source": [
        "#9 Random Forest This algorithm constructs\n",
        "#a Random Forest that forms combining a great number of unpruned decision trees.\n",
        "from weka.classifiers import Classifier\n",
        "cls = Classifier(classname=\"weka.classifiers.trees.RandomForest\")\n",
        "cls.build_classifier(data)\n",
        "\n",
        "for index, inst in enumerate(data):\n",
        "    pred = cls.classify_instance(inst)\n",
        "    dist = cls.distribution_for_instance(inst)\n",
        "    #print(str(index+1) + \": label index=\" + str(pred) + \", class distribution=\" + str(dist))\n",
        "evaluat(classifier=cls, data=data, fold=10)"
      ]
    },
    {
      "cell_type": "code",
      "execution_count": 25,
      "metadata": {
        "colab": {
          "base_uri": "https://localhost:8080/"
        },
        "id": "rMKl5DSFSIrt",
        "outputId": "66e0b279-df6b-42f8-9c85-451ccb2c59ec"
      },
      "outputs": [
        {
          "name": "stdout",
          "output_type": "stream",
          "text": [
            "\n",
            "Correctly Classified Instances         145               67.757  %\n",
            "Incorrectly Classified Instances        69               32.243  %\n",
            "Kappa statistic                          0.5589\n",
            "Mean absolute error                      0.0921\n",
            "Root mean squared error                  0.3035\n",
            "Relative absolute error                 43.504  %\n",
            "Root relative squared error             93.523  %\n",
            "Total Number of Instances              214     \n",
            "\n"
          ]
        }
      ],
      "source": [
        "#10 Random Tree \n",
        "# This algorithm constructs a tree considering K random attributes at each node. It does not carry out any pruning\n",
        "from weka.classifiers import Classifier\n",
        "cls = Classifier(classname=\"weka.classifiers.trees.RandomTree\")\n",
        "cls.build_classifier(data)\n",
        "\n",
        "for index, inst in enumerate(data):\n",
        "    pred = cls.classify_instance(inst)\n",
        "    dist = cls.distribution_for_instance(inst)\n",
        "    #print(str(index+1) + \": label index=\" + str(pred) + \", class distribution=\" + str(dist))\n",
        "evaluat(classifier=cls, data=data, fold=10)"
      ]
    },
    {
      "cell_type": "code",
      "execution_count": 15,
      "metadata": {
        "colab": {
          "base_uri": "https://localhost:8080/"
        },
        "id": "VGgSRuWqC1jY",
        "outputId": "f9e82086-5533-4947-ccd7-e366cb31a29d"
      },
      "outputs": [
        {
          "name": "stdout",
          "output_type": "stream",
          "text": [
            "\n",
            "Correctly Classified Instances         152               71.028  %\n",
            "Incorrectly Classified Instances        62               28.972  %\n",
            "Kappa statistic                          0.6074\n",
            "Mean absolute error                      0.0849\n",
            "Root mean squared error                  0.2655\n",
            "Relative absolute error                 40.07   %\n",
            "Root relative squared error             81.8131 %\n",
            "Total Number of Instances              214     \n",
            "\n"
          ]
        }
      ],
      "source": [
        "#11 trees.LMT\n",
        "# This algorithm constructs a tree considering K random attributes at each node. It does not carry out any pruning\n",
        "from weka.classifiers import Classifier\n",
        "cls = Classifier(classname=\"weka.classifiers.trees.LMT\")\n",
        "cls.build_classifier(data)\n",
        "\n",
        "for index, inst in enumerate(data):\n",
        "    pred = cls.classify_instance(inst)\n",
        "    dist = cls.distribution_for_instance(inst)\n",
        "    #print(str(index+1) + \": label index=\" + str(pred) + \", class distribution=\" + str(dist))\n",
        "\n",
        "#evaluat(classifier=cls, data=data, fold=10)\n",
        "evaluat(classifier=cls, data=data, fold=10)"
      ]
    },
    {
      "cell_type": "code",
      "execution_count": 26,
      "metadata": {
        "colab": {
          "base_uri": "https://localhost:8080/"
        },
        "id": "dGz_eRJJTa2G",
        "outputId": "83a48b3c-6c71-4049-ec90-28a7357e78e9"
      },
      "outputs": [
        {
          "name": "stdout",
          "output_type": "stream",
          "text": [
            "\n",
            "Correctly Classified Instances         119               55.6075 %\n",
            "Incorrectly Classified Instances        95               44.3925 %\n",
            "Kappa statistic                          0.4344\n",
            "Mean absolute error                      0.2082\n",
            "Root mean squared error                  0.3136\n",
            "Relative absolute error                 98.3133 %\n",
            "Root relative squared error             96.6223 %\n",
            "Total Number of Instances              214     \n",
            "\n"
          ]
        }
      ],
      "source": [
        "#12 VFI\n",
        "from weka.classifiers import Classifier\n",
        "cls = Classifier(classname=\"weka.classifiers.misc.VFI\")\n",
        "cls.build_classifier(data)\n",
        "\n",
        "for index, inst in enumerate(data):\n",
        "    pred = cls.classify_instance(inst)\n",
        "    dist = cls.distribution_for_instance(inst)\n",
        "    #print(str(index+1) + \": label index=\" + str(pred) + \", class distribution=\" + str(dist))\n",
        "evaluat(classifier=cls, data=data, fold=10)\n"
      ]
    },
    {
      "cell_type": "code",
      "execution_count": 12,
      "metadata": {
        "colab": {
          "base_uri": "https://localhost:8080/"
        },
        "id": "--X1hLzAlAve",
        "outputId": "ed49b6f3-6ac9-4e0e-efc8-bca626eb3b7a"
      },
      "outputs": [
        {
          "name": "stdout",
          "output_type": "stream",
          "text": [
            "\n",
            "Correctly Classified Instances          96               44.8598 %\n",
            "Incorrectly Classified Instances       118               55.1402 %\n",
            "Kappa statistic                          0.2411\n",
            "Mean absolute error                      0.1821\n",
            "Root mean squared error                  0.3029\n",
            "Relative absolute error                 85.9846 %\n",
            "Root relative squared error             93.3187 %\n",
            "Total Number of Instances              214     \n",
            "\n"
          ]
        }
      ],
      "source": [
        "#12 Conjunctive Rule. This algorithm generates a simple conjunctive\n",
        "#rules classifier.\n",
        "from weka.classifiers import Classifier\n",
        "cls = Classifier(classname=\"weka.classifiers.rules.ConjunctiveRule\")\n",
        "cls.build_classifier(data)\n",
        "\n",
        "for index, inst in enumerate(data):\n",
        "    pred = cls.classify_instance(inst)\n",
        "    dist = cls.distribution_for_instance(inst)\n",
        "    #print(str(index+1) + \": label index=\" + str(pred) + \", class distribution=\" + str(dist))\n",
        "evaluat(classifier=cls, data=data, fold=10)"
      ]
    },
    {
      "cell_type": "code",
      "execution_count": 6,
      "metadata": {
        "colab": {
          "base_uri": "https://localhost:8080/"
        },
        "id": "fEKgjwGzcWEc",
        "outputId": "4c0968a3-9845-48f0-82c1-f0b213bcc2b0"
      },
      "outputs": [
        {
          "name": "stdout",
          "output_type": "stream",
          "text": [
            "\n",
            "Correctly Classified Instances         149               69.6262 %\n",
            "Incorrectly Classified Instances        65               30.3738 %\n",
            "Kappa statistic                          0.5764\n",
            "Mean absolute error                      0.1139\n",
            "Root mean squared error                  0.27  \n",
            "Relative absolute error                 53.7685 %\n",
            "Root relative squared error             83.21   %\n",
            "Total Number of Instances              214     \n",
            "\n"
          ]
        }
      ],
      "source": [
        "#13 JRip\n",
        "# algorithm that generates propositional\n",
        "#rules.\n",
        "from weka.classifiers import Classifier\n",
        "cls = Classifier(classname=\"weka.classifiers.rules.JRip\")\n",
        "cls.build_classifier(data)\n",
        "\n",
        "for index, inst in enumerate(data):\n",
        "    pred = cls.classify_instance(inst)\n",
        "    dist = cls.distribution_for_instance(inst)\n",
        "    #print(str(index+1) + \": label index=\" + str(pred) + \", class distribution=\" + str(dist))\n",
        "evaluat(classifier=cls, data=data, fold=10)"
      ]
    },
    {
      "cell_type": "code",
      "execution_count": 13,
      "metadata": {
        "colab": {
          "base_uri": "https://localhost:8080/"
        },
        "id": "ZXpakQ87kF_Q",
        "outputId": "8dbf5ebd-71c3-43b8-8b98-c3ab1084bf90"
      },
      "outputs": [
        {
          "name": "stdout",
          "output_type": "stream",
          "text": [
            "\n",
            "Correctly Classified Instances         145               67.757  %\n",
            "Incorrectly Classified Instances        69               32.243  %\n",
            "Kappa statistic                          0.558 \n",
            "Mean absolute error                      0.0921\n",
            "Root mean squared error                  0.3035\n",
            "Relative absolute error                 43.504  %\n",
            "Root relative squared error             93.523  %\n",
            "Total Number of Instances              214     \n",
            "\n"
          ]
        }
      ],
      "source": [
        "#14 Nnge (Martin 1995). It is a nearest neighbor algorithm\n",
        "#that use non-nested generalized exemplars\n",
        "from weka.classifiers import Classifier\n",
        "cls = Classifier(classname=\"weka.classifiers.rules.NNge\")\n",
        "cls.build_classifier(data)\n",
        "\n",
        "for index, inst in enumerate(data):\n",
        "    pred = cls.classify_instance(inst)\n",
        "    dist = cls.distribution_for_instance(inst)\n",
        "    #print(str(index+1) + \": label index=\" + str(pred) + \", class distribution=\" + str(dist))\n",
        "\n",
        "evaluat(classifier=cls, data=data, fold=10)"
      ]
    },
    {
      "cell_type": "code",
      "execution_count": 8,
      "metadata": {
        "colab": {
          "base_uri": "https://localhost:8080/"
        },
        "id": "gfzCEmuPkGwO",
        "outputId": "0b644ff2-90b1-4ae2-b4d1-4fad847b0305"
      },
      "outputs": [
        {
          "name": "stdout",
          "output_type": "stream",
          "text": [
            "\n",
            "Correctly Classified Instances         109               50.9346 %\n",
            "Incorrectly Classified Instances       105               49.0654 %\n",
            "Kappa statistic                          0.2907\n",
            "Mean absolute error                      0.2281\n",
            "Root mean squared error                  0.332 \n",
            "Relative absolute error                107.7397 %\n",
            "Root relative squared error            102.3    %\n",
            "Total Number of Instances              214     \n",
            "\n"
          ]
        }
      ],
      "source": [
        "#15 HyperPipes (Witten & Frank 2000). It generates a classifier\n",
        "#that constructs a HyperPipe for each category, which\n",
        "#contains all the points of that category.\n",
        "from weka.classifiers import Classifier\n",
        "\n",
        "cls = Classifier(classname=\"weka.classifiers.misc.HyperPipes\")\n",
        "cls.build_classifier(data)\n",
        "\n",
        "for index, inst in enumerate(data):\n",
        "    pred = cls.classify_instance(inst)\n",
        "    dist = cls.distribution_for_instance(inst)\n",
        "    #print(str(index+1) + \": label index=\" + str(pred) + \", class distribution=\" + str(dist))\n",
        "\n",
        "evaluat(classifier=cls, data=data, fold=10)"
      ]
    },
    {
      "cell_type": "markdown",
      "metadata": {
        "id": "jhaCiEpymymD"
      },
      "source": [
        "### Adding StackingC classifiers "
      ]
    },
    {
      "cell_type": "code",
      "execution_count": 27,
      "metadata": {
        "colab": {
          "base_uri": "https://localhost:8080/"
        },
        "id": "icG9HegHmyQM",
        "outputId": "f5d93980-58ef-485a-ebf8-aeafea6933c3"
      },
      "outputs": [
        {
          "name": "stdout",
          "output_type": "stream",
          "text": [
            "\n",
            "Correctly Classified Instances         146               68.2243 %\n",
            "Incorrectly Classified Instances        68               31.7757 %\n",
            "Kappa statistic                          0.5702\n",
            "Mean absolute error                      0.0962\n",
            "Root mean squared error                  0.2963\n",
            "Relative absolute error                 45.4183 %\n",
            "Root relative squared error             91.2901 %\n",
            "Total Number of Instances              214     \n",
            "\n"
          ]
        }
      ],
      "source": [
        "#1 IBK Algorithm \n",
        "#K-nearest neighbours classifier. Can select appropriate value of K based on cross-validation. Can also do distance weighting.\n",
        "from weka.classifiers import Classifier\n",
        "\n",
        "cls = Classifier(classname=\"weka.classifiers.lazy.IBk\")\n",
        "cls.build_classifier(data)\n",
        "\n",
        "for index, inst in enumerate(data):\n",
        "    pred = cls.classify_instance(inst)\n",
        "    dist = cls.distribution_for_instance(inst)\n",
        "    #print(str(index+1) + \": label index=\" + str(pred) + \", class distribution=\" + str(dist))\n",
        "\n",
        "evaluat(classifier=cls, data=data, fold=10)"
      ]
    },
    {
      "cell_type": "code",
      "execution_count": 39,
      "metadata": {
        "colab": {
          "base_uri": "https://localhost:8080/"
        },
        "id": "tnmjwgz4nyh5",
        "outputId": "d9d0d87c-2257-480d-c0b4-f829aae803ae"
      },
      "outputs": [
        {
          "name": "stdout",
          "output_type": "stream",
          "text": [
            "\n",
            "Correctly Classified Instances         162               75.7009 %\n",
            "Incorrectly Classified Instances        52               24.2991 %\n",
            "Kappa statistic                          0.6651\n",
            "Mean absolute error                      0.0731\n",
            "Root mean squared error                  0.2348\n",
            "Relative absolute error                 34.4985 %\n",
            "Root relative squared error             72.3454 %\n",
            "Total Number of Instances              214     \n",
            "\n"
          ]
        }
      ],
      "source": [
        "#2 K* classifier \n",
        "# K* is an instance-based classifier, that is the class of a test instance is based upon the class of those training instances similar to it, as determined by some similarity function. It differs from other instance-based learners in that it uses an entropy-based distance function.\n",
        "cls = Classifier(classname=\"weka.classifiers.lazy.KStar\")\n",
        "cls.build_classifier(data)\n",
        "\n",
        "for index, inst in enumerate(data):\n",
        "    pred = cls.classify_instance(inst)\n",
        "    dist = cls.distribution_for_instance(inst)\n",
        "    #print(str(index+1) + \": label index=\" + str(pred) + \", class distribution=\" + str(dist))\n",
        "\n",
        "evaluat(classifier=cls, data=data, fold=10)"
      ]
    }
  ],
  "metadata": {
    "colab": {
      "collapsed_sections": [],
      "name": "Copy of generating_classifiers.ipynb",
      "provenance": []
    },
    "kernelspec": {
      "display_name": "Python 3",
      "name": "python3"
    },
    "language_info": {
      "name": "python"
    }
  },
  "nbformat": 4,
  "nbformat_minor": 0
}
